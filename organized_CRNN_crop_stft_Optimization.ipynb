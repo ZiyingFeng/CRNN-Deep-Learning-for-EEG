{
  "nbformat": 4,
  "nbformat_minor": 0,
  "metadata": {
    "colab": {
      "name": "organized_CRNN_crop_stft_Optimization.ipynb",
      "provenance": [],
      "collapsed_sections": [],
      "toc_visible": true
    },
    "kernelspec": {
      "name": "python3",
      "display_name": "Python 3"
    },
    "accelerator": "GPU"
  },
  "cells": [
    {
      "cell_type": "markdown",
      "metadata": {
        "id": "fUsXXIgN3kmV",
        "colab_type": "text"
      },
      "source": [
        "## CRNN_crop_stft"
      ]
    },
    {
      "cell_type": "code",
      "metadata": {
        "id": "yskRRIjWkfGA",
        "colab_type": "code",
        "outputId": "b1b0579f-a180-4333-97c5-b11b5f8598a9",
        "colab": {
          "base_uri": "https://localhost:8080/",
          "height": 151
        }
      },
      "source": [
        "import tensorflow.compat.v1 as tf\n",
        "tf.disable_v2_behavior()"
      ],
      "execution_count": 0,
      "outputs": [
        {
          "output_type": "display_data",
          "data": {
            "text/html": [
              "<p style=\"color: red;\">\n",
              "The default version of TensorFlow in Colab will soon switch to TensorFlow 2.x.<br>\n",
              "We recommend you <a href=\"https://www.tensorflow.org/guide/migrate\" target=\"_blank\">upgrade</a> now \n",
              "or ensure your notebook will continue to use TensorFlow 1.x via the <code>%tensorflow_version 1.x</code> magic:\n",
              "<a href=\"https://colab.research.google.com/notebooks/tensorflow_version.ipynb\" target=\"_blank\">more info</a>.</p>\n"
            ],
            "text/plain": [
              "<IPython.core.display.HTML object>"
            ]
          },
          "metadata": {
            "tags": []
          }
        },
        {
          "output_type": "stream",
          "text": [
            "WARNING:tensorflow:From /usr/local/lib/python3.6/dist-packages/tensorflow_core/python/compat/v2_compat.py:68: disable_resource_variables (from tensorflow.python.ops.variable_scope) is deprecated and will be removed in a future version.\n",
            "Instructions for updating:\n",
            "non-resource variables are not supported in the long term\n"
          ],
          "name": "stdout"
        }
      ]
    },
    {
      "cell_type": "code",
      "metadata": {
        "id": "eLNc00nB3mRx",
        "colab_type": "code",
        "outputId": "22b1e8b5-cb2f-44f2-d127-fca027114906",
        "colab": {
          "base_uri": "https://localhost:8080/",
          "height": 139
        }
      },
      "source": [
        "import os\n",
        "from google.colab import drive\n",
        "drive.mount('/content/gdrive')\n",
        "\n",
        "filename1 = '/content/gdrive/My Drive/Colab Notebooks/EEG'\n",
        "filename2 = '/content/gdrive/My Drive/Final Project/project_data'\n",
        "filename3 = '/content/gdrive/My Drive/UCLA/239AS/Final Project/project_data'\n",
        "filename4 = '/content/gdrive/My Drive/UCLA/239AS/Final Project/project_data'\n",
        "\n",
        "os.chdir(filename2)\n",
        "#os.chdir('/content/gdrive/My Drive/Colab Notebooks/EEG')\n",
        "\n",
        "# USE GPU\n",
        "import tensorflow as tf\n",
        "device_name = tf.test.gpu_device_name()\n",
        "if device_name != '/device:GPU:0':\n",
        "  raise SystemError('GPU device not found')\n",
        "print('Found GPU at: {}'.format(device_name))\n"
      ],
      "execution_count": 0,
      "outputs": [
        {
          "output_type": "stream",
          "text": [
            "Go to this URL in a browser: https://accounts.google.com/o/oauth2/auth?client_id=947318989803-6bn6qk8qdgf4n4g3pfee6491hc0brc4i.apps.googleusercontent.com&redirect_uri=urn%3aietf%3awg%3aoauth%3a2.0%3aoob&response_type=code&scope=email%20https%3a%2f%2fwww.googleapis.com%2fauth%2fdocs.test%20https%3a%2f%2fwww.googleapis.com%2fauth%2fdrive%20https%3a%2f%2fwww.googleapis.com%2fauth%2fdrive.photos.readonly%20https%3a%2f%2fwww.googleapis.com%2fauth%2fpeopleapi.readonly\n",
            "\n",
            "Enter your authorization code:\n",
            "··········\n",
            "Mounted at /content/gdrive\n",
            "Found GPU at: /device:GPU:0\n"
          ],
          "name": "stdout"
        }
      ]
    },
    {
      "cell_type": "markdown",
      "metadata": {
        "id": "vWf4maSZ3vve",
        "colab_type": "text"
      },
      "source": [
        "## Loading and Preprocessing"
      ]
    },
    {
      "cell_type": "code",
      "metadata": {
        "id": "1SYYT74dQtLK",
        "colab_type": "code",
        "outputId": "e3d5ed88-50ea-413b-aefa-c800c7516721",
        "colab": {
          "base_uri": "https://localhost:8080/",
          "height": 34
        }
      },
      "source": [
        "import numpy as np\n",
        "from tensorflow.keras import layers\n",
        "import tensorflow as tf\n",
        "from tensorflow.keras.models import Model\n",
        "from tensorflow.keras.layers import Dense, Input, Dropout, LSTM, Activation\n",
        "from tensorflow.keras.preprocessing import sequence\n",
        "from tensorflow.keras.initializers import glorot_uniform\n",
        "from tensorflow.keras import regularizers\n",
        "from tensorflow.keras import optimizers\n",
        "from tensorflow.keras.models import Sequential\n",
        "\n",
        "from sklearn.model_selection import GridSearchCV\n",
        "from sklearn.metrics import classification_report\n",
        "from keras.wrappers.scikit_learn import KerasClassifier\n",
        "from matplotlib import pyplot as plt\n",
        "\n",
        "np.random.seed(0)"
      ],
      "execution_count": 0,
      "outputs": [
        {
          "output_type": "stream",
          "text": [
            "Using TensorFlow backend.\n"
          ],
          "name": "stderr"
        }
      ]
    },
    {
      "cell_type": "code",
      "metadata": {
        "id": "1jkGDQJi34h-",
        "colab_type": "code",
        "outputId": "de37fe4d-40c7-4a71-b2ea-58184f4b3d83",
        "colab": {
          "base_uri": "https://localhost:8080/",
          "height": 119
        }
      },
      "source": [
        "import numpy as np\n",
        "from tensorflow.keras import layers\n",
        "from tensorflow.keras.models import Model\n",
        "from tensorflow.keras.layers import Dropout, LSTM, Activation\n",
        "from tensorflow.keras.layers import Input, Dense, Activation, ZeroPadding2D, BatchNormalization, Flatten, Conv2D, ELU, ReLU\n",
        "from tensorflow.keras.layers import AveragePooling2D, MaxPooling2D, Dropout, GlobalMaxPooling2D, GlobalAveragePooling2D\n",
        "from tensorflow.keras.preprocessing import sequence\n",
        "from tensorflow.keras.initializers import glorot_uniform\n",
        "from tensorflow.keras import regularizers\n",
        "from tensorflow.keras import optimizers\n",
        "np.random.seed(0)\n",
        "\n",
        "\n",
        "X_test_raw = np.load(\"X_test.npy\")[:,:22,:]\n",
        "y_test_raw = np.load(\"y_test.npy\")\n",
        "person_train_valid = np.load(\"person_train_valid.npy\")\n",
        "X_train_valid_raw = np.load(\"X_train_valid.npy\")[:,:22,:]\n",
        "y_train_valid_raw = np.load(\"y_train_valid.npy\")\n",
        "person_test = np.load(\"person_test.npy\")\n",
        "\n",
        "print ('Training/Valid data shape: {}'.format(X_train_valid_raw.shape))\n",
        "print ('Test data shape: {}'.format(X_test_raw.shape))\n",
        "print ('Training/Valid target shape: {}'.format(y_train_valid_raw.shape))\n",
        "print ('Test target shape: {}'.format(y_test_raw.shape))\n",
        "print ('Person train/valid shape: {}'.format(person_train_valid.shape))\n",
        "print ('Person test shape: {}'.format(person_test.shape))"
      ],
      "execution_count": 0,
      "outputs": [
        {
          "output_type": "stream",
          "text": [
            "Training/Valid data shape: (2115, 22, 1000)\n",
            "Test data shape: (443, 22, 1000)\n",
            "Training/Valid target shape: (2115,)\n",
            "Test target shape: (443,)\n",
            "Person train/valid shape: (2115, 1)\n",
            "Person test shape: (443, 1)\n"
          ],
          "name": "stdout"
        }
      ]
    },
    {
      "cell_type": "code",
      "metadata": {
        "id": "5FTf2XZJB8ua",
        "colab_type": "code",
        "outputId": "f54290b5-ee28-487b-e77f-ab4ec9fe7458",
        "colab": {
          "base_uri": "https://localhost:8080/",
          "height": 170
        }
      },
      "source": [
        "# Spliting data w.r.t 9 subjects, Store them in X_train_set, y_train_set, X_test_set, y_test_set\n",
        "num_subject = 9\n",
        "num_train_data, num_test_data = y_train_valid_raw.shape[0], y_test_raw.shape[0]\n",
        "X_train_set, X_test_set = [], []\n",
        "y_train_set , y_test_set = [], []\n",
        "for subject in range(num_subject):\n",
        "    X_sub_train = []\n",
        "    y_sub_train = []\n",
        "    X_sub_test = []\n",
        "    y_sub_test = []\n",
        "    for i in range(num_train_data):\n",
        "        if person_train_valid[i] == subject:\n",
        "            X_sub_train.append(X_train_valid_raw[i])\n",
        "            y_sub_train.append(y_train_valid_raw[i])\n",
        "    X_sub_train = np.array(X_sub_train)\n",
        "    y_sub_train = np.array(y_sub_train)\n",
        "    X_train_set.append(X_sub_train)\n",
        "    y_train_set.append(y_sub_train)\n",
        "    \n",
        "    for i in range(num_test_data):\n",
        "        if person_test[i] == subject:\n",
        "            X_sub_test.append(X_test_raw[i])\n",
        "            y_sub_test.append(y_test_raw[i])\n",
        "    X_sub_test = np.array(X_sub_test)\n",
        "    y_sub_test = np.array(y_sub_test)\n",
        "    X_test_set.append(X_sub_test)\n",
        "    y_test_set.append(y_sub_test)\n",
        "    \n",
        "    print(\"subject {} has {} training data and {} testing data\".format(subject, len(y_sub_train), len(y_sub_test)))\n"
      ],
      "execution_count": 0,
      "outputs": [
        {
          "output_type": "stream",
          "text": [
            "subject 0 has 237 training data and 50 testing data\n",
            "subject 1 has 236 training data and 50 testing data\n",
            "subject 2 has 236 training data and 50 testing data\n",
            "subject 3 has 234 training data and 50 testing data\n",
            "subject 4 has 235 training data and 47 testing data\n",
            "subject 5 has 236 training data and 49 testing data\n",
            "subject 6 has 238 training data and 50 testing data\n",
            "subject 7 has 232 training data and 50 testing data\n",
            "subject 8 has 231 training data and 47 testing data\n"
          ],
          "name": "stdout"
        }
      ]
    },
    {
      "cell_type": "code",
      "metadata": {
        "id": "x-FfTJQcvgGv",
        "colab_type": "code",
        "outputId": "b3d6a3d5-15e0-46b9-9e5f-da6e5bd0900a",
        "colab": {
          "base_uri": "https://localhost:8080/",
          "height": 323
        }
      },
      "source": [
        "# Cropping\n",
        "def crop(X_train_set, X_test_set, y_train_set, y_test_set, crop_size=750, stride=30):\n",
        "  \n",
        "  num_subject = 9\n",
        "  # crop on training\n",
        "  X_train_crop = []\n",
        "  y_train_crop = []\n",
        "  for idx, X in enumerate(X_train_set):\n",
        "    crop_train = []\n",
        "    num_train = X.shape[0]\n",
        "    for i in range((X.shape[2] - crop_size)//stride + 1):\n",
        "      crop_train.append(X[:,:,i*stride:i*stride+crop_size])\n",
        "    \n",
        "    y_train_crop.append(np.stack(np.tile(y_train_set[idx], i+1), axis=0))\n",
        "    X_train_crop.append(np.concatenate(crop_train, axis=0))\n",
        "    \n",
        "    print(\"subject {} has training data shape of {} and training label of shape {}\".format(idx, X_train_crop[idx].shape, y_train_crop[idx].shape))\n",
        "    \n",
        "    \n",
        "  # crop on testing\n",
        "  \n",
        "  X_test_crop = []\n",
        "  y_test_crop = []\n",
        "  for idx, X in enumerate(X_test_set):\n",
        "    crop_test = []\n",
        "    num_test = X.shape[0]\n",
        "    for i in range((X.shape[2] - crop_size)//stride + 1):\n",
        "      crop_test.append(X[:,:,i*stride:i*stride+crop_size])\n",
        "    \n",
        "    y_test_crop.append(np.stack(np.tile(y_test_set[idx], i+1), axis=0))\n",
        "    X_test_crop.append(np.concatenate(crop_test, axis=0))\n",
        "    \n",
        "    \n",
        "  \n",
        "    print(\"subject {} has testing data shape of {} and testing label shape of{}\".format(idx, X_test_crop[idx].shape, y_test_crop[idx].shape))\n",
        "    \n",
        "  \n",
        "  return X_train_crop, X_test_crop, y_train_crop, y_test_crop\n",
        "    \n",
        "  \n",
        "    \n",
        "    \n",
        "      \n",
        "    \n",
        "    \n",
        "X_train_crop, X_test_crop, y_train_crop, y_test_crop = crop(X_train_set, X_test_set, y_train_set, y_test_set)\n",
        "\n",
        "  "
      ],
      "execution_count": 0,
      "outputs": [
        {
          "output_type": "stream",
          "text": [
            "subject 0 has training data shape of (2133, 22, 750) and training label of shape (2133,)\n",
            "subject 1 has training data shape of (2124, 22, 750) and training label of shape (2124,)\n",
            "subject 2 has training data shape of (2124, 22, 750) and training label of shape (2124,)\n",
            "subject 3 has training data shape of (2106, 22, 750) and training label of shape (2106,)\n",
            "subject 4 has training data shape of (2115, 22, 750) and training label of shape (2115,)\n",
            "subject 5 has training data shape of (2124, 22, 750) and training label of shape (2124,)\n",
            "subject 6 has training data shape of (2142, 22, 750) and training label of shape (2142,)\n",
            "subject 7 has training data shape of (2088, 22, 750) and training label of shape (2088,)\n",
            "subject 8 has training data shape of (2079, 22, 750) and training label of shape (2079,)\n",
            "subject 0 has testing data shape of (450, 22, 750) and testing label shape of(450,)\n",
            "subject 1 has testing data shape of (450, 22, 750) and testing label shape of(450,)\n",
            "subject 2 has testing data shape of (450, 22, 750) and testing label shape of(450,)\n",
            "subject 3 has testing data shape of (450, 22, 750) and testing label shape of(450,)\n",
            "subject 4 has testing data shape of (423, 22, 750) and testing label shape of(423,)\n",
            "subject 5 has testing data shape of (441, 22, 750) and testing label shape of(441,)\n",
            "subject 6 has testing data shape of (450, 22, 750) and testing label shape of(450,)\n",
            "subject 7 has testing data shape of (450, 22, 750) and testing label shape of(450,)\n",
            "subject 8 has testing data shape of (423, 22, 750) and testing label shape of(423,)\n"
          ],
          "name": "stdout"
        }
      ]
    },
    {
      "cell_type": "markdown",
      "metadata": {
        "id": "VNo_VQYZ4gf7",
        "colab_type": "text"
      },
      "source": [
        "## Short Time Fourier Transform"
      ]
    },
    {
      "cell_type": "code",
      "metadata": {
        "id": "NK1Y1ka8Unwc",
        "colab_type": "code",
        "outputId": "32e2cde0-43d5-48fa-ad4e-3e21cdf45971",
        "colab": {
          "base_uri": "https://localhost:8080/",
          "height": 319
        }
      },
      "source": [
        "from scipy import fftpack\n",
        "sample_freq = fftpack.fftfreq(1000, d = 1)\n",
        "sig_fft = fftpack.fft(X_train_valid_raw[0][0])\n",
        "\n",
        "\n",
        "plt.plot(sample_freq, sig_fft)\n",
        "plt.show()\n"
      ],
      "execution_count": 0,
      "outputs": [
        {
          "output_type": "stream",
          "text": [
            "/usr/local/lib/python3.6/dist-packages/numpy/core/_asarray.py:85: ComplexWarning: Casting complex values to real discards the imaginary part\n",
            "  return array(a, dtype, copy=False, order=order)\n"
          ],
          "name": "stderr"
        },
        {
          "output_type": "display_data",
          "data": {
            "image/png": "[encoded data removed]",
            "text/plain": [
              "<Figure size 432x288 with 1 Axes>"
            ]
          },
          "metadata": {
            "tags": []
          }
        }
      ]
    },
    {
      "cell_type": "code",
      "metadata": {
        "id": "RWdccQPKZOCT",
        "colab_type": "code",
        "outputId": "718cece1-c5da-49ff-8b14-3b151cc4db70",
        "colab": {
          "base_uri": "https://localhost:8080/",
          "height": 34
        }
      },
      "source": [
        "sample_freq[999]"
      ],
      "execution_count": 0,
      "outputs": [
        {
          "output_type": "execute_result",
          "data": {
            "text/plain": [
              "-0.001"
            ]
          },
          "metadata": {
            "tags": []
          },
          "execution_count": 28
        }
      ]
    },
    {
      "cell_type": "code",
      "metadata": {
        "id": "sVYG8RqXaRNa",
        "colab_type": "code",
        "colab": {}
      },
      "source": [
        "import scipy as sp\n",
        "spec = abs(sp.fft(X_train_valid_raw[0][0]))\n",
        "plt.plot(spec)\n",
        "plt.show()"
      ],
      "execution_count": 0,
      "outputs": []
    },
    {
      "cell_type": "code",
      "metadata": {
        "id": "u2p_JMJz3_gw",
        "colab_type": "code",
        "colab": {}
      },
      "source": [
        "from scipy.signal import stft\n",
        "\n",
        "# perform STFT on data so that we can see the magnitude of signal w.r.t. both time and frequency\n",
        "def STFT(data, seg=128, overlap=76, crop_size=8):\n",
        "  f, t, zxx = stft(data, nperseg=seg, noverlap=overlap)\n",
        "  new_data = np.abs(zxx)\n",
        "  f_crop = f[:seg//crop_size]\n",
        "  t_crop = t[:]\n",
        "  new_data_crop = new_data[:, :, :seg//crop_size, :]\n",
        "  print(\"new data shape: {}\".format(new_data_crop.shape))\n",
        "  return f_crop, t_crop, new_data_crop\n",
        "\n"
      ],
      "execution_count": 0,
      "outputs": []
    },
    {
      "cell_type": "code",
      "metadata": {
        "id": "z-FGl5WWPanf",
        "colab_type": "code",
        "colab": {}
      },
      "source": [
        "from scipy.signal import stft\n",
        "\n",
        "# perform STFT on data so that we can see the magnitude of signal w.r.t. both time and frequency\n",
        "def STFT_no_filter(data, seg=128, overlap=76, crop_size=8):\n",
        "  f, t, zxx = stft(data, nperseg=seg, noverlap=overlap)\n",
        "  new_data = np.abs(zxx)\n",
        "  f_crop = f[:]\n",
        "  t_crop = t[:]\n",
        "  new_data_crop = new_data[:, :, :, :]\n",
        "  print(\"new data shape: {}\".format(new_data_crop.shape))\n",
        "  return f_crop, t_crop, new_data_crop\n",
        "\n"
      ],
      "execution_count": 0,
      "outputs": []
    },
    {
      "cell_type": "code",
      "metadata": {
        "id": "oPm-lTpUPeTt",
        "colab_type": "code",
        "outputId": "88a74e87-225c-4b89-852e-316ae99fb1f5",
        "colab": {
          "base_uri": "https://localhost:8080/",
          "height": 232
        }
      },
      "source": [
        "# stft on subject 0\n",
        "X_train_valid = {}\n",
        "X_test = {}\n",
        "y_train_valid = {}\n",
        "y_test = {}\n",
        "f,t,X_train_valid[0] = STFT_no_filter(X_train_crop[0])\n",
        "f,t,X_test[0] = STFT_no_filter(X_test_crop[0])\n",
        "y_train_valid[0] = y_train_crop[0]\n",
        "y_test[0] = y_test_crop[0]\n"
      ],
      "execution_count": 0,
      "outputs": [
        {
          "output_type": "error",
          "ename": "NameError",
          "evalue": "ignored",
          "traceback": [
            "\u001b[0;31m---------------------------------------------------------------------------\u001b[0m",
            "\u001b[0;31mNameError\u001b[0m                                 Traceback (most recent call last)",
            "\u001b[0;32m<ipython-input-9-68dff6f3f5e4>\u001b[0m in \u001b[0;36m<module>\u001b[0;34m()\u001b[0m\n\u001b[1;32m      3\u001b[0m \u001b[0my_train_valid\u001b[0m \u001b[0;34m=\u001b[0m \u001b[0;34m{\u001b[0m\u001b[0;34m}\u001b[0m\u001b[0;34m\u001b[0m\u001b[0;34m\u001b[0m\u001b[0m\n\u001b[1;32m      4\u001b[0m \u001b[0my_test\u001b[0m \u001b[0;34m=\u001b[0m \u001b[0;34m{\u001b[0m\u001b[0;34m}\u001b[0m\u001b[0;34m\u001b[0m\u001b[0;34m\u001b[0m\u001b[0m\n\u001b[0;32m----> 5\u001b[0;31m \u001b[0mf\u001b[0m\u001b[0;34m,\u001b[0m\u001b[0mt\u001b[0m\u001b[0;34m,\u001b[0m\u001b[0mX_train_valid\u001b[0m\u001b[0;34m[\u001b[0m\u001b[0;36m0\u001b[0m\u001b[0;34m]\u001b[0m \u001b[0;34m=\u001b[0m \u001b[0mSTFT_no_filter\u001b[0m\u001b[0;34m(\u001b[0m\u001b[0mX_train_crop\u001b[0m\u001b[0;34m[\u001b[0m\u001b[0;36m0\u001b[0m\u001b[0;34m]\u001b[0m\u001b[0;34m)\u001b[0m\u001b[0;34m\u001b[0m\u001b[0;34m\u001b[0m\u001b[0m\n\u001b[0m\u001b[1;32m      6\u001b[0m \u001b[0mf\u001b[0m\u001b[0;34m,\u001b[0m\u001b[0mt\u001b[0m\u001b[0;34m,\u001b[0m\u001b[0mX_test\u001b[0m\u001b[0;34m[\u001b[0m\u001b[0;36m0\u001b[0m\u001b[0;34m]\u001b[0m \u001b[0;34m=\u001b[0m \u001b[0mSTFT_no_filter\u001b[0m\u001b[0;34m(\u001b[0m\u001b[0mX_test_crop\u001b[0m\u001b[0;34m[\u001b[0m\u001b[0;36m0\u001b[0m\u001b[0;34m]\u001b[0m\u001b[0;34m)\u001b[0m\u001b[0;34m\u001b[0m\u001b[0;34m\u001b[0m\u001b[0m\n\u001b[1;32m      7\u001b[0m \u001b[0my_train_valid\u001b[0m\u001b[0;34m[\u001b[0m\u001b[0;36m0\u001b[0m\u001b[0;34m]\u001b[0m \u001b[0;34m=\u001b[0m \u001b[0my_train_crop\u001b[0m\u001b[0;34m[\u001b[0m\u001b[0;36m0\u001b[0m\u001b[0;34m]\u001b[0m\u001b[0;34m\u001b[0m\u001b[0;34m\u001b[0m\u001b[0m\n",
            "\u001b[0;31mNameError\u001b[0m: name 'STFT_no_filter' is not defined"
          ]
        }
      ]
    },
    {
      "cell_type": "code",
      "metadata": {
        "id": "0TfumN8WQcin",
        "colab_type": "code",
        "outputId": "c5871fb4-fd99-4b78-e1b4-1f0d80ceb535",
        "colab": {
          "base_uri": "https://localhost:8080/",
          "height": 164
        }
      },
      "source": [
        "X_train_valid[0][128,5,:,:].shape"
      ],
      "execution_count": 0,
      "outputs": [
        {
          "output_type": "error",
          "ename": "KeyError",
          "evalue": "ignored",
          "traceback": [
            "\u001b[0;31m---------------------------------------------------------------------------\u001b[0m",
            "\u001b[0;31mKeyError\u001b[0m                                  Traceback (most recent call last)",
            "\u001b[0;32m<ipython-input-10-cc0f092792cc>\u001b[0m in \u001b[0;36m<module>\u001b[0;34m()\u001b[0m\n\u001b[0;32m----> 1\u001b[0;31m \u001b[0mX_train_valid\u001b[0m\u001b[0;34m[\u001b[0m\u001b[0;36m0\u001b[0m\u001b[0;34m]\u001b[0m\u001b[0;34m[\u001b[0m\u001b[0;36m128\u001b[0m\u001b[0;34m,\u001b[0m\u001b[0;36m5\u001b[0m\u001b[0;34m,\u001b[0m\u001b[0;34m:\u001b[0m\u001b[0;34m,\u001b[0m\u001b[0;34m:\u001b[0m\u001b[0;34m]\u001b[0m\u001b[0;34m.\u001b[0m\u001b[0mshape\u001b[0m\u001b[0;34m\u001b[0m\u001b[0;34m\u001b[0m\u001b[0m\n\u001b[0m",
            "\u001b[0;31mKeyError\u001b[0m: 0"
          ]
        }
      ]
    },
    {
      "cell_type": "code",
      "metadata": {
        "id": "GZLtdxgIXuK2",
        "colab_type": "code",
        "outputId": "29bce6d6-1dd1-4d03-b7f8-3e09d4dae914",
        "colab": {
          "base_uri": "https://localhost:8080/",
          "height": 198
        }
      },
      "source": [
        "import matplotlib.pyplot as plt\n",
        "plt.plot(X_train_valid[0][128,5,:,:])\n",
        "plt.show()"
      ],
      "execution_count": 0,
      "outputs": [
        {
          "output_type": "error",
          "ename": "KeyError",
          "evalue": "ignored",
          "traceback": [
            "\u001b[0;31m---------------------------------------------------------------------------\u001b[0m",
            "\u001b[0;31mKeyError\u001b[0m                                  Traceback (most recent call last)",
            "\u001b[0;32m<ipython-input-11-47648af36128>\u001b[0m in \u001b[0;36m<module>\u001b[0;34m()\u001b[0m\n\u001b[1;32m      1\u001b[0m \u001b[0;32mimport\u001b[0m \u001b[0mmatplotlib\u001b[0m\u001b[0;34m.\u001b[0m\u001b[0mpyplot\u001b[0m \u001b[0;32mas\u001b[0m \u001b[0mplt\u001b[0m\u001b[0;34m\u001b[0m\u001b[0;34m\u001b[0m\u001b[0m\n\u001b[0;32m----> 2\u001b[0;31m \u001b[0mplt\u001b[0m\u001b[0;34m.\u001b[0m\u001b[0mplot\u001b[0m\u001b[0;34m(\u001b[0m\u001b[0mX_train_valid\u001b[0m\u001b[0;34m[\u001b[0m\u001b[0;36m0\u001b[0m\u001b[0;34m]\u001b[0m\u001b[0;34m[\u001b[0m\u001b[0;36m128\u001b[0m\u001b[0;34m,\u001b[0m\u001b[0;36m5\u001b[0m\u001b[0;34m,\u001b[0m\u001b[0;34m:\u001b[0m\u001b[0;34m,\u001b[0m\u001b[0;34m:\u001b[0m\u001b[0;34m]\u001b[0m\u001b[0;34m)\u001b[0m\u001b[0;34m\u001b[0m\u001b[0;34m\u001b[0m\u001b[0m\n\u001b[0m\u001b[1;32m      3\u001b[0m \u001b[0mplt\u001b[0m\u001b[0;34m.\u001b[0m\u001b[0mshow\u001b[0m\u001b[0;34m(\u001b[0m\u001b[0;34m)\u001b[0m\u001b[0;34m\u001b[0m\u001b[0;34m\u001b[0m\u001b[0m\n",
            "\u001b[0;31mKeyError\u001b[0m: 0"
          ]
        }
      ]
    },
    {
      "cell_type": "code",
      "metadata": {
        "id": "vAivGJYUQuqf",
        "colab_type": "code",
        "colab": {}
      },
      "source": [
        ""
      ],
      "execution_count": 0,
      "outputs": []
    },
    {
      "cell_type": "code",
      "metadata": {
        "id": "LivHPZxYPh9j",
        "colab_type": "code",
        "outputId": "8361ca05-009a-4798-89f0-cecc46f33900",
        "colab": {
          "base_uri": "https://localhost:8080/",
          "height": 583
        }
      },
      "source": [
        "# show an example of STFT result, We can map each temporal data to a picture with size (time, frequency). Then we can apply CNN\n",
        "import matplotlib.pyplot as plt\n",
        "\n",
        "\n",
        "example = X_train_valid[0][128,5,:,:]\n",
        "print(example.shape)\n",
        "plt.pcolormesh(t, f, example, cmap = plt.cm.Greys)\n",
        "plt.colorbar()\n",
        "plt.xlabel('Time (s)')\n",
        "plt.ylabel(\"Frequency (Hz)\")\n",
        "plt.show()\n",
        "\n",
        "example = X_train_valid[0][128,0,:,:]\n",
        "print(example.shape)\n",
        "plt.pcolormesh(t, f, example, cmap = plt.cm.Greys)\n",
        "plt.colorbar()\n",
        "plt.xlabel('Time (s)')\n",
        "plt.ylabel(\"Frequency (Hz)\")\n",
        "plt.show()"
      ],
      "execution_count": 0,
      "outputs": [
        {
          "output_type": "stream",
          "text": [
            "(65, 16)\n"
          ],
          "name": "stdout"
        },
        {
          "output_type": "display_data",
          "data": {
            "image/png": "[encoded data removed]",
            "text/plain": [
              "<Figure size 432x288 with 2 Axes>"
            ]
          },
          "metadata": {
            "tags": []
          }
        },
        {
          "output_type": "stream",
          "text": [
            "(65, 16)\n"
          ],
          "name": "stdout"
        },
        {
          "output_type": "display_data",
          "data": {
            "image/png": "[encoded data removed]",
            "text/plain": [
              "<Figure size 432x288 with 2 Axes>"
            ]
          },
          "metadata": {
            "tags": []
          }
        }
      ]
    },
    {
      "cell_type": "code",
      "metadata": {
        "id": "wv8t2KYl9cvD",
        "colab_type": "code",
        "outputId": "0034f69f-7b38-4feb-c06e-33adb3adbe85",
        "colab": {
          "base_uri": "https://localhost:8080/",
          "height": 51
        }
      },
      "source": [
        "# stft on subject 0\n",
        "X_train_valid = {}\n",
        "X_test = {}\n",
        "y_train_valid = {}\n",
        "y_test = {}\n",
        "f,t,X_train_valid[0] = STFT(X_train_crop[0])\n",
        "f,t,X_test[0] = STFT(X_test_crop[0])\n",
        "y_train_valid[0] = y_train_crop[0]\n",
        "y_test[0] = y_test_crop[0]\n"
      ],
      "execution_count": 0,
      "outputs": [
        {
          "output_type": "stream",
          "text": [
            "new data shape: (2133, 22, 16, 16)\n",
            "new data shape: (450, 22, 16, 16)\n"
          ],
          "name": "stdout"
        }
      ]
    },
    {
      "cell_type": "code",
      "metadata": {
        "id": "hHRQSkbPAveJ",
        "colab_type": "code",
        "outputId": "9a49264f-3861-4b68-d012-cd1a70c8a0bd",
        "colab": {
          "base_uri": "https://localhost:8080/",
          "height": 578
        }
      },
      "source": [
        "# show an example of STFT result, We can map each temporal data to a picture with size (time, frequency). Then we can apply CNN\n",
        "import matplotlib.pyplot as plt\n",
        "\n",
        "\n",
        "example = X_train_valid[0][128,5,:,:]\n",
        "print(example.shape)\n",
        "plt.pcolormesh(t, f, example, cmap = plt.cm.Greys)\n",
        "plt.colorbar()\n",
        "plt.xlabel('Time (s)')\n",
        "plt.ylabel(\"Frequency (Hz)\")\n",
        "plt.show()\n",
        "\n",
        "example = X_train_valid[0][128,0,:,:]\n",
        "print(example.shape)\n",
        "plt.pcolormesh(t, f, example, cmap = plt.cm.Greys)\n",
        "plt.colorbar()\n",
        "plt.xlabel('Time (s)')\n",
        "plt.ylabel(\"Frequency (Hz)\")\n",
        "plt.show()"
      ],
      "execution_count": 0,
      "outputs": [
        {
          "output_type": "stream",
          "text": [
            "(16, 16)\n"
          ],
          "name": "stdout"
        },
        {
          "output_type": "display_data",
          "data": {
            "image/png": "[encoded data removed]",
            "text/plain": [
              "<Figure size 432x288 with 2 Axes>"
            ]
          },
          "metadata": {
            "tags": []
          }
        },
        {
          "output_type": "stream",
          "text": [
            "(16, 16)\n"
          ],
          "name": "stdout"
        },
        {
          "output_type": "display_data",
          "data": {
            "image/png": "[encoded data removed]",
            "text/plain": [
              "<Figure size 432x288 with 2 Axes>"
            ]
          },
          "metadata": {
            "tags": []
          }
        }
      ]
    },
    {
      "cell_type": "markdown",
      "metadata": {
        "id": "n-CMTOdJoujY",
        "colab_type": "text"
      },
      "source": [
        "## CRNN"
      ]
    },
    {
      "cell_type": "markdown",
      "metadata": {
        "id": "IPU7pwCyiEc9",
        "colab_type": "text"
      },
      "source": [
        "### CRNN-cascade"
      ]
    },
    {
      "cell_type": "code",
      "metadata": {
        "id": "ajSC1Yu3iZi7",
        "colab_type": "code",
        "colab": {}
      },
      "source": [
        "from tensorflow.keras.models import Sequential\n",
        "from tensorflow.keras.layers import Conv2D, BatchNormalization,\\\n",
        "Activation, Flatten, Dense, Dropout, LSTM, Input, TimeDistributed\n",
        "from tensorflow.keras.layers import Permute\n",
        "from tensorflow.keras.layers import Reshape\n",
        "from tensorflow.keras.layers import Concatenate\n",
        "from tensorflow.keras.layers import BatchNormalization\n",
        "\n",
        "def one_hot_matrix(labels, C=4):\n",
        "    transformed_labels = labels - 769\n",
        "    C = tf.constant(C, name = \"C\")\n",
        "    one_hot_matrix = tf.one_hot(transformed_labels, depth = C, axis = 0)\n",
        "    sess = tf.Session()\n",
        "    one_hot = sess.run(one_hot_matrix)\n",
        "    sess.close()\n",
        "    return one_hot\n",
        "\n",
        "# CRNN in cascade, feed the CNN output into the RNN\n",
        "def CRNN_cascade_Model(input_shape):\n",
        "  tf.set_random_seed(2)\n",
        "  np.random.seed(2)\n",
        "  \n",
        "  # CNN\n",
        "  X_input = Input(input_shape)  \n",
        "  X = Conv2D(filters = 22, kernel_size = (3, 3), strides = (1, 1), kernel_regularizer=regularizers.l1(0.01), \n",
        "                   name = 'conv0', data_format='channels_last')(X_input)\n",
        "  X = Conv2D(filters= 44, kernel_size = (3, 3), strides = (1, 1), name = 'conv1', data_format='channels_last', \n",
        "                   padding='valid', kernel_regularizer=regularizers.l2(0.01))(X) \n",
        "  X = MaxPooling2D(pool_size = (2, 2), strides = (2, 2), name = 'mean_pool')(X)\n",
        "  X = ELU()(X)\n",
        "  #X = BatchNormalization()(X)\n",
        "  #X = Dropout(0.5)(X)\n",
        "  X = Flatten()(X)\n",
        "  X = Dropout(0.5, seed = 0)(X)\n",
        "  X = Dense(units = 1000, activation='elu', name='fc1')(X)\n",
        "  X = BatchNormalization()(X)\n",
        "  X = Dropout(0.8, seed = 0)(X)\n",
        "  X = Dense(units = 32, activation='elu', name='fc2')(X) \n",
        "  print(X.shape)\n",
        "  \n",
        "  # Reshape the tensor for RNN\n",
        "  XR = Reshape((X.shape[1], 1))(X)\n",
        "  \n",
        "  # RNN  \n",
        "  XR = LSTM(units = 32, return_sequences = False, kernel_regularizer=regularizers.l2(0.01))(XR)    \n",
        "  XR = Dropout(0.5, seed = 0)(XR)  \n",
        "  \n",
        "  \n",
        "  X_out = Dense(units = 4, activation='softmax', name='fc_last')(XR)\n",
        "  \n",
        "  model = Model(inputs = X_input, outputs = X_out, name='CRNN_cascade_Model')  \n",
        " \n",
        "  return model\n"
      ],
      "execution_count": 0,
      "outputs": []
    },
    {
      "cell_type": "code",
      "metadata": {
        "id": "5ao4LXpvmd_d",
        "colab_type": "code",
        "outputId": "8228271f-7fe7-479e-ed03-583412b2c332",
        "colab": {
          "base_uri": "https://localhost:8080/",
          "height": 34
        }
      },
      "source": [
        "subject_num = 0\n",
        "y_train_onehot = one_hot_matrix(y_train_valid[subject_num])\n",
        "y_train_onehot = y_train_onehot.T\n",
        "N, C, F, T = X_train_valid[subject_num].shape\n",
        "print(\"Training data shape: {}\".format(X_train_valid[subject_num].shape))\n"
      ],
      "execution_count": 0,
      "outputs": [
        {
          "output_type": "stream",
          "text": [
            "Training data shape: (2133, 22, 16, 16)\n"
          ],
          "name": "stdout"
        }
      ]
    },
    {
      "cell_type": "code",
      "metadata": {
        "id": "UWrFeNLGm4VC",
        "colab_type": "code",
        "outputId": "db6258d7-e4a7-4555-ecbe-530db9e15c58",
        "colab": {
          "base_uri": "https://localhost:8080/",
          "height": 88
        }
      },
      "source": [
        "import time\n",
        "start = time.time()\n",
        "model = CRNN_cascade_Model(input_shape = (C, F, T))\n",
        "optimizer = optimizers.Adam(lr=0.2)\n",
        "model.compile(loss='categorical_crossentropy', optimizer='Adam', metrics=['accuracy'])\n",
        "history = model.fit(x = X_train_valid[0], y = y_train_onehot, \n",
        "                    epochs = 40, batch_size = 20, \n",
        "                    validation_split = 0.2, verbose = 0)\n",
        "end = time.time()\n"
      ],
      "execution_count": 0,
      "outputs": [
        {
          "output_type": "stream",
          "text": [
            "WARNING:tensorflow:Large dropout rate: 0.8 (>0.5). In TensorFlow 2.x, dropout() uses dropout rate instead of keep_prob. Please ensure that this is intended.\n"
          ],
          "name": "stdout"
        },
        {
          "output_type": "stream",
          "text": [
            "WARNING:tensorflow:Large dropout rate: 0.8 (>0.5). In TensorFlow 2.x, dropout() uses dropout rate instead of keep_prob. Please ensure that this is intended.\n"
          ],
          "name": "stderr"
        },
        {
          "output_type": "stream",
          "text": [
            "(?, 32)\n"
          ],
          "name": "stdout"
        }
      ]
    },
    {
      "cell_type": "code",
      "metadata": {
        "id": "GzTFupkNrv0Z",
        "colab_type": "code",
        "outputId": "199b0c26-f3c1-4493-ff2c-9ac646d2998d",
        "colab": {
          "base_uri": "https://localhost:8080/",
          "height": 85
        }
      },
      "source": [
        "print(X_test[0].shape)\n",
        "y_test_onehot = one_hot_matrix(y_test[0], C = 4)\n",
        "y_test_onehot = y_test_onehot.T\n",
        "preds = model.evaluate(x = X_test[0],y = y_test_onehot)\n",
        "print (\"Loss = \" + str(preds[0]))\n",
        "print (\"Test Accuracy = \" + str(preds[1]))"
      ],
      "execution_count": 0,
      "outputs": [
        {
          "output_type": "stream",
          "text": [
            "(450, 22, 16, 16)\n",
            "450/450 [==============================] - 0s 694us/sample - loss: 1.4797 - acc: 0.5689\n",
            "Loss = 1.4797073205312092\n",
            "Test Accuracy = 0.5688889\n"
          ],
          "name": "stdout"
        }
      ]
    },
    {
      "cell_type": "code",
      "metadata": {
        "id": "GojeM7murJXr",
        "colab_type": "code",
        "outputId": "541660bd-9477-48e8-cc74-0f2c0a3bf201",
        "colab": {
          "base_uri": "https://localhost:8080/",
          "height": 34
        }
      },
      "source": [
        "print(end-start)"
      ],
      "execution_count": 0,
      "outputs": [
        {
          "output_type": "stream",
          "text": [
            "238.7122220993042\n"
          ],
          "name": "stdout"
        }
      ]
    },
    {
      "cell_type": "code",
      "metadata": {
        "id": "ktpBsHOWrvnV",
        "colab_type": "code",
        "outputId": "29fb7ac1-0cd4-4723-8961-fe6607e9fb90",
        "colab": {
          "base_uri": "https://localhost:8080/",
          "height": 247
        }
      },
      "source": [
        "print(history.history.keys())  \n",
        "   \n",
        "plt.figure(1)  \n",
        "\n",
        "plt.subplot(211)  \n",
        "plt.plot(history.history['acc'])  \n",
        "plt.plot(history.history['val_acc'])  \n",
        "plt.title('CRNN model accuracy')  \n",
        "plt.ylabel('accuracy')  \n",
        "plt.xlabel('epoch')  \n",
        "plt.legend(['train_accuracy', 'validation_accuracy'], loc='upper left')"
      ],
      "execution_count": 0,
      "outputs": [
        {
          "output_type": "stream",
          "text": [
            "dict_keys(['loss', 'acc', 'val_loss', 'val_acc'])\n"
          ],
          "name": "stdout"
        },
        {
          "output_type": "execute_result",
          "data": {
            "text/plain": [
              "<matplotlib.legend.Legend at 0x7f645480eb00>"
            ]
          },
          "metadata": {
            "tags": []
          },
          "execution_count": 28
        },
        {
          "output_type": "display_data",
          "data": {
            "image/png": "[encoded data removed]",
            "text/plain": [
              "<Figure size 576x396 with 1 Axes>"
            ]
          },
          "metadata": {
            "tags": []
          }
        }
      ]
    },
    {
      "cell_type": "code",
      "metadata": {
        "id": "69ZlXUbhrvSH",
        "colab_type": "code",
        "outputId": "c27fbd51-01c8-4789-bf3c-82819fc4f767",
        "colab": {
          "base_uri": "https://localhost:8080/",
          "height": 230
        }
      },
      "source": [
        "plt.figure(1)  \n",
        "\n",
        "# summarize history for accuracy  \n",
        "\n",
        "plt.subplot(211)  \n",
        "plt.plot(history.history['loss'])  \n",
        "plt.plot(history.history['val_loss'])  \n",
        "plt.title('CRNN model loss - learning curve')  \n",
        "plt.ylabel('loss')  \n",
        "plt.xlabel('epoch')  \n",
        "plt.legend(['train_loss', 'validation_loss'], loc='upper left')"
      ],
      "execution_count": 0,
      "outputs": [
        {
          "output_type": "execute_result",
          "data": {
            "text/plain": [
              "<matplotlib.legend.Legend at 0x7f64547f8630>"
            ]
          },
          "metadata": {
            "tags": []
          },
          "execution_count": 29
        },
        {
          "output_type": "display_data",
          "data": {
            "image/png": "[encoded data removed]",
            "text/plain": [
              "<Figure size 576x396 with 1 Axes>"
            ]
          },
          "metadata": {
            "tags": []
          }
        }
      ]
    },
    {
      "cell_type": "markdown",
      "metadata": {
        "id": "NATQrFeyzp7R",
        "colab_type": "text"
      },
      "source": [
        "### CRNN-cascade for All Subjects"
      ]
    },
    {
      "cell_type": "code",
      "metadata": {
        "id": "Xn1lBli2zvGf",
        "colab_type": "code",
        "outputId": "c98f1d7e-69e7-4cb4-8a49-f05781233067",
        "colab": {
          "base_uri": "https://localhost:8080/",
          "height": 170
        }
      },
      "source": [
        "X_train_valid_all=X_train_valid[0]\n",
        "for i in np.arange(1,9):\n",
        "  _,_,X_train_valid[i] = STFT(X_train_crop[i])  \n",
        "  X_train_valid_all = np.concatenate((X_train_valid_all, X_train_valid[i]), axis=0)\n",
        "  \n",
        "print(X_train_valid_all.shape)"
      ],
      "execution_count": 0,
      "outputs": [
        {
          "output_type": "stream",
          "text": [
            "new data shape: (2124, 22, 16, 16)\n",
            "new data shape: (2124, 22, 16, 16)\n",
            "new data shape: (2106, 22, 16, 16)\n",
            "new data shape: (2115, 22, 16, 16)\n",
            "new data shape: (2124, 22, 16, 16)\n",
            "new data shape: (2142, 22, 16, 16)\n",
            "new data shape: (2088, 22, 16, 16)\n",
            "new data shape: (2079, 22, 16, 16)\n",
            "(19035, 22, 16, 16)\n"
          ],
          "name": "stdout"
        }
      ]
    },
    {
      "cell_type": "code",
      "metadata": {
        "id": "7CMdmPzGzvDU",
        "colab_type": "code",
        "outputId": "7fdfef1d-8db9-41bd-a277-845bd7d9d3fb",
        "colab": {
          "base_uri": "https://localhost:8080/",
          "height": 34
        }
      },
      "source": [
        "y_train_valid_all=y_train_crop[0]\n",
        "for i in np.arange(1,9):\n",
        "  y_train_valid_all = np.concatenate((y_train_valid_all, y_train_crop[i]), axis=0)\n",
        "\n",
        "print(y_train_valid_all.shape)"
      ],
      "execution_count": 0,
      "outputs": [
        {
          "output_type": "stream",
          "text": [
            "(19035,)\n"
          ],
          "name": "stdout"
        }
      ]
    },
    {
      "cell_type": "code",
      "metadata": {
        "id": "WLug7WuGzu_w",
        "colab_type": "code",
        "outputId": "d8ed87cd-c8b0-4000-a6a7-3b62b7e0b1cc",
        "colab": {
          "base_uri": "https://localhost:8080/",
          "height": 34
        }
      },
      "source": [
        "y_train_all_onehot = one_hot_matrix(y_train_valid_all)\n",
        "y_train_all_onehot = y_train_all_onehot.T\n",
        "N, C, F, T = X_train_valid_all.shape\n",
        "print(\"Training data shape: {}\".format(X_train_valid_all.shape))"
      ],
      "execution_count": 0,
      "outputs": [
        {
          "output_type": "stream",
          "text": [
            "Training data shape: (19035, 22, 16, 16)\n"
          ],
          "name": "stdout"
        }
      ]
    },
    {
      "cell_type": "code",
      "metadata": {
        "id": "9KRO-hNhzuuS",
        "colab_type": "code",
        "outputId": "c82e1ae7-57fc-492d-a28a-a060ca21f2d7",
        "colab": {
          "base_uri": "https://localhost:8080/",
          "height": 71
        }
      },
      "source": [
        "model = CRNN_cascade_Model(input_shape = (C, F, T))\n",
        "optimizer = optimizers.Adam(lr=0.5)\n",
        "model.compile(loss='categorical_crossentropy', optimizer='Adam', metrics=['accuracy'])\n",
        "history = model.fit(x = X_train_valid_all, y = y_train_all_onehot, \n",
        "                    epochs = 30, batch_size = 1024, \n",
        "                    validation_split = 0.2, shuffle = 1, verbose = 0)  "
      ],
      "execution_count": 0,
      "outputs": [
        {
          "output_type": "stream",
          "text": [
            "WARNING:tensorflow:Large dropout rate: 0.8 (>0.5). In TensorFlow 2.x, dropout() uses dropout rate instead of keep_prob. Please ensure that this is intended.\n",
            "(?, 32)\n"
          ],
          "name": "stdout"
        }
      ]
    },
    {
      "cell_type": "code",
      "metadata": {
        "id": "Z4k_QU9D2Kkt",
        "colab_type": "code",
        "outputId": "b2ba45cd-2526-4267-85cd-76c4c4fba368",
        "colab": {
          "base_uri": "https://localhost:8080/",
          "height": 85
        }
      },
      "source": [
        "print(X_test[0].shape)\n",
        "y_test_onehot = one_hot_matrix(y_test[0], C = 4)\n",
        "y_test_onehot = y_test_onehot.T\n",
        "preds = model.evaluate(x = X_test[0],y = y_test_onehot)\n",
        "print (\"Loss = \" + str(preds[0]))\n",
        "print (\"Test Accuracy = \" + str(preds[1]))"
      ],
      "execution_count": 0,
      "outputs": [
        {
          "output_type": "stream",
          "text": [
            "(450, 22, 16, 16)\n",
            "450/450 [==============================] - 0s 805us/sample - loss: 1.1315 - acc: 0.5333\n",
            "Loss = 1.1314706293741863\n",
            "Test Accuracy = 0.53333336\n"
          ],
          "name": "stdout"
        }
      ]
    },
    {
      "cell_type": "code",
      "metadata": {
        "id": "46vl2MH-91rj",
        "colab_type": "code",
        "outputId": "82820ebf-8892-41e5-b782-10d11d1d46e6",
        "colab": {
          "base_uri": "https://localhost:8080/",
          "height": 207
        }
      },
      "source": [
        "import keras.backend as K\n",
        "def get_flops(model):\n",
        "    run_meta = tf.RunMetadata()\n",
        "    opts = tf.profiler.ProfileOptionBuilder.float_operation()\n",
        "\n",
        "    # We use the Keras session graph in the call to the profiler.\n",
        "    flops = tf.profiler.profile(graph=K.get_session().graph,\n",
        "                                run_meta=run_meta, cmd='op', options=opts)\n",
        "\n",
        "    return flops.total_float_ops  # Prints the \"flops\" of the model.\n",
        "\n",
        "\n",
        "# .... Define your model here ....\n",
        "print(get_flops(CRNN_cascade_Model))"
      ],
      "execution_count": 0,
      "outputs": [
        {
          "output_type": "stream",
          "text": [
            "WARNING:tensorflow:From /usr/local/lib/python3.6/dist-packages/keras/backend/tensorflow_backend.py:190: The name tf.get_default_session is deprecated. Please use tf.compat.v1.get_default_session instead.\n",
            "\n",
            "WARNING:tensorflow:From /usr/local/lib/python3.6/dist-packages/keras/backend/tensorflow_backend.py:197: The name tf.ConfigProto is deprecated. Please use tf.compat.v1.ConfigProto instead.\n",
            "\n",
            "WARNING:tensorflow:From /usr/local/lib/python3.6/dist-packages/keras/backend/tensorflow_backend.py:207: The name tf.global_variables is deprecated. Please use tf.compat.v1.global_variables instead.\n",
            "\n",
            "WARNING:tensorflow:From /usr/local/lib/python3.6/dist-packages/tensorflow_core/python/profiler/internal/flops_registry.py:142: tensor_shape_from_node_def_name (from tensorflow.python.framework.graph_util_impl) is deprecated and will be removed in a future version.\n",
            "Instructions for updating:\n",
            "Use `tf.compat.v1.graph_util.tensor_shape_from_node_def_name`\n",
            "9937802\n"
          ],
          "name": "stdout"
        }
      ]
    },
    {
      "cell_type": "code",
      "metadata": {
        "id": "78PrPxiN2KTY",
        "colab_type": "code",
        "outputId": "1205fd68-aef9-41af-af33-121e5faa4c5a",
        "colab": {
          "base_uri": "https://localhost:8080/",
          "height": 247
        }
      },
      "source": [
        "print(history.history.keys())  \n",
        "   \n",
        "plt.figure(1)  \n",
        "\n",
        "plt.subplot(211)  \n",
        "plt.plot(history.history['acc'])  \n",
        "plt.plot(history.history['val_acc'])  \n",
        "plt.title('CRNN model accuracy')  \n",
        "plt.ylabel('accuracy')  \n",
        "plt.xlabel('epoch')  \n",
        "plt.legend(['train_accuracy', 'validation_accuracy'], loc='upper left')"
      ],
      "execution_count": 0,
      "outputs": [
        {
          "output_type": "stream",
          "text": [
            "dict_keys(['loss', 'acc', 'val_loss', 'val_acc'])\n"
          ],
          "name": "stdout"
        },
        {
          "output_type": "execute_result",
          "data": {
            "text/plain": [
              "<matplotlib.legend.Legend at 0x7f6303070a20>"
            ]
          },
          "metadata": {
            "tags": []
          },
          "execution_count": 59
        },
        {
          "output_type": "display_data",
          "data": {
            "image/png": "[encoded data removed]",
            "text/plain": [
              "<Figure size 576x396 with 1 Axes>"
            ]
          },
          "metadata": {
            "tags": []
          }
        }
      ]
    },
    {
      "cell_type": "code",
      "metadata": {
        "id": "V4JtOA632KFd",
        "colab_type": "code",
        "outputId": "dd44cd0c-8e8d-4cab-f882-dceaec604d8b",
        "colab": {
          "base_uri": "https://localhost:8080/",
          "height": 230
        }
      },
      "source": [
        "plt.figure(1)  \n",
        "\n",
        "# summarize history for accuracy  \n",
        "\n",
        "plt.subplot(211)  \n",
        "plt.plot(history.history['loss'])  \n",
        "plt.plot(history.history['val_loss'])  \n",
        "plt.title('CRNN model loss - learning curve')  \n",
        "plt.ylabel('loss')  \n",
        "plt.xlabel('epoch')  \n",
        "plt.legend(['train_loss', 'validation_loss'], loc='upper left')"
      ],
      "execution_count": 0,
      "outputs": [
        {
          "output_type": "execute_result",
          "data": {
            "text/plain": [
              "<matplotlib.legend.Legend at 0x7f63030595f8>"
            ]
          },
          "metadata": {
            "tags": []
          },
          "execution_count": 60
        },
        {
          "output_type": "display_data",
          "data": {
            "image/png": "[encoded data removed]",
            "text/plain": [
              "<Figure size 576x396 with 1 Axes>"
            ]
          },
          "metadata": {
            "tags": []
          }
        }
      ]
    },
    {
      "cell_type": "markdown",
      "metadata": {
        "id": "pHvHg0mHTBx3",
        "colab_type": "text"
      },
      "source": [
        "### CRNN-parallel"
      ]
    },
    {
      "cell_type": "code",
      "metadata": {
        "id": "Wc2MbORTHItS",
        "colab_type": "code",
        "colab": {}
      },
      "source": [
        "from tensorflow.keras.layers import Permute\n",
        "from tensorflow.keras.layers import Reshape\n",
        "from tensorflow.keras.layers import Concatenate\n",
        "from tensorflow.keras.layers import BatchNormalization\n",
        "from tensorflow.keras.models import Sequential\n",
        "\n",
        "def one_hot_matrix(labels, C=4):\n",
        "    transformed_labels = labels - 769\n",
        "    C = tf.constant(C, name = \"C\")\n",
        "    one_hot_matrix = tf.one_hot(transformed_labels, depth = C, axis = 0)\n",
        "    sess = tf.Session()\n",
        "    one_hot = sess.run(one_hot_matrix)\n",
        "    sess.close()\n",
        "    return one_hot\n",
        "\n",
        "# CRNN in parallel, concatenate the output tensor of CNN and RNN\n",
        "def CRNN_Model(input_shape):\n",
        "  tf.set_random_seed(2)\n",
        "  np.random.seed(2)\n",
        "  \n",
        "  # CNN\n",
        "  X_input = Input(input_shape)  \n",
        "  X = Conv2D(filters = 22, kernel_size = (3, 3), strides = (1, 1), kernel_regularizer=regularizers.l1(0.01), \n",
        "                   name = 'conv0', data_format='channels_last')(X_input)\n",
        "  X = Conv2D(filters= 44, kernel_size = (3, 3), strides = (1, 1), name = 'conv1', data_format='channels_last', \n",
        "                   padding='valid', kernel_regularizer=regularizers.l2(0.01))(X) \n",
        "  X = MaxPooling2D(pool_size = (2, 2), strides = (2, 2), name = 'mean_pool')(X)\n",
        "  X = ELU()(X)\n",
        "  #X = BatchNormalization()(X)\n",
        "  X = Dropout(0.5)(X)\n",
        "  X = Flatten()(X)\n",
        "  \n",
        "  # RNN  \n",
        "  XR_input = X_input #(2133, 22, 16, 16)(N, n_electrode, f, t)\n",
        "  XR = Permute((3,1,2))(XR_input)\n",
        "  print(XR.shape)\n",
        "  XR = Reshape((XR.shape[1], XR.shape[2]*XR.shape[3]))(XR)\n",
        "  print(XR.shape)\n",
        "  XR = LSTM(units = 32, return_sequences = False, kernel_regularizer=regularizers.l2(0.01))(XR)    \n",
        "  XR = Dropout(0.5, seed = 0)(XR)  \n",
        "  \n",
        "  # Concatenate tensor  \n",
        "  X_out = Concatenate()([X, XR])  \n",
        "  X_out = Dense(units = 4, activation='softmax', name='fc2')(X_out)\n",
        "  \n",
        "  model = Model(inputs = X_input, outputs = X_out, name='CRNN_Model')  \n",
        "  \n",
        "  return model"
      ],
      "execution_count": 0,
      "outputs": []
    },
    {
      "cell_type": "code",
      "metadata": {
        "id": "-p2_WN7FK3sq",
        "colab_type": "code",
        "outputId": "cd1db27f-58f1-4e70-a8af-8b3cf730d821",
        "colab": {
          "base_uri": "https://localhost:8080/",
          "height": 34
        }
      },
      "source": [
        "subject_num = 0\n",
        "y_train_onehot = one_hot_matrix(y_train_valid[subject_num])\n",
        "y_train_onehot = y_train_onehot.T\n",
        "N, C, F, T = X_train_valid[subject_num].shape\n",
        "print(\"Training data shape: {}\".format(X_train_valid[subject_num].shape))\n"
      ],
      "execution_count": 0,
      "outputs": [
        {
          "output_type": "stream",
          "text": [
            "Training data shape: (2133, 22, 16, 16)\n"
          ],
          "name": "stdout"
        }
      ]
    },
    {
      "cell_type": "code",
      "metadata": {
        "id": "yUGoZg36KkLl",
        "colab_type": "code",
        "outputId": "93c60323-fd3d-457e-e428-eef4656f3c4b",
        "colab": {
          "base_uri": "https://localhost:8080/",
          "height": 51
        }
      },
      "source": [
        "start = time.time()\n",
        "model = CRNN_Model(input_shape = (C, F, T))\n",
        "optimizer = optimizers.Adam(lr=0.2)\n",
        "model.compile(loss='categorical_crossentropy', optimizer='Adam', metrics=['accuracy'])\n",
        "history = model.fit(x = X_train_valid[0], y = y_train_onehot, \n",
        "                    epochs = 30, batch_size = 20, \n",
        "                    validation_split = 0.2, verbose = 0)  \n",
        "end = time.time()"
      ],
      "execution_count": 0,
      "outputs": [
        {
          "output_type": "stream",
          "text": [
            "(?, 16, 22, 16)\n",
            "(?, 16, 352)\n"
          ],
          "name": "stdout"
        }
      ]
    },
    {
      "cell_type": "code",
      "metadata": {
        "id": "AsDM7D-gO7cq",
        "colab_type": "code",
        "outputId": "e44d41b0-9f72-45ff-bf33-98fbeeff52e4",
        "colab": {
          "base_uri": "https://localhost:8080/",
          "height": 85
        }
      },
      "source": [
        "print(X_test[0].shape)\n",
        "y_test_onehot = one_hot_matrix(y_test[0], C = 4)\n",
        "y_test_onehot = y_test_onehot.T\n",
        "preds = model.evaluate(x = X_test[0],y = y_test_onehot)\n",
        "print (\"Loss = \" + str(preds[0]))\n",
        "print (\"Test Accuracy = \" + str(preds[1]))\n"
      ],
      "execution_count": 0,
      "outputs": [
        {
          "output_type": "stream",
          "text": [
            "(450, 22, 16, 16)\n",
            "450/450 [==============================] - 0s 669us/sample - loss: 1.1369 - acc: 0.6533\n",
            "Loss = 1.1369392606947157\n",
            "Test Accuracy = 0.6533333\n"
          ],
          "name": "stdout"
        }
      ]
    },
    {
      "cell_type": "code",
      "metadata": {
        "id": "ky85nT4_sJMi",
        "colab_type": "code",
        "outputId": "b7c1fbfa-a932-45b6-83b1-2cbb476f92e7",
        "colab": {
          "base_uri": "https://localhost:8080/",
          "height": 34
        }
      },
      "source": [
        "print(end-start)"
      ],
      "execution_count": 0,
      "outputs": [
        {
          "output_type": "stream",
          "text": [
            "93.38964748382568\n"
          ],
          "name": "stdout"
        }
      ]
    },
    {
      "cell_type": "code",
      "metadata": {
        "id": "Na2EoqALQLlU",
        "colab_type": "code",
        "outputId": "b390efed-4952-4d58-82b3-f6dc5c17520b",
        "colab": {
          "base_uri": "https://localhost:8080/",
          "height": 247
        }
      },
      "source": [
        "print(history.history.keys())  \n",
        "   \n",
        "plt.figure(1)  \n",
        "\n",
        "plt.subplot(211)  \n",
        "plt.plot(history.history['acc'])  \n",
        "plt.plot(history.history['val_acc'])  \n",
        "plt.title('CRNN model accuracy')  \n",
        "plt.ylabel('accuracy')  \n",
        "plt.xlabel('epoch')  \n",
        "plt.legend(['train_accuracy', 'validation_accuracy'], loc='upper left')"
      ],
      "execution_count": 0,
      "outputs": [
        {
          "output_type": "stream",
          "text": [
            "dict_keys(['loss', 'acc', 'val_loss', 'val_acc'])\n"
          ],
          "name": "stdout"
        },
        {
          "output_type": "execute_result",
          "data": {
            "text/plain": [
              "<matplotlib.legend.Legend at 0x7fa5b8bfa128>"
            ]
          },
          "metadata": {
            "tags": []
          },
          "execution_count": 46
        },
        {
          "output_type": "display_data",
          "data": {
            "image/png": "[encoded data removed]",
            "text/plain": [
              "<Figure size 576x396 with 1 Axes>"
            ]
          },
          "metadata": {
            "tags": []
          }
        }
      ]
    },
    {
      "cell_type": "code",
      "metadata": {
        "id": "NgTDpX3wQZm2",
        "colab_type": "code",
        "outputId": "158b5f0d-ecd2-47d1-e6e7-24caa2715227",
        "colab": {
          "base_uri": "https://localhost:8080/",
          "height": 230
        }
      },
      "source": [
        "plt.figure(1)  \n",
        "\n",
        "# summarize history for accuracy  \n",
        "\n",
        "plt.subplot(211)  \n",
        "plt.plot(history.history['loss'])  \n",
        "plt.plot(history.history['val_loss'])  \n",
        "plt.title('CRNN model loss - learning curve')  \n",
        "plt.ylabel('loss')  \n",
        "plt.xlabel('epoch')  \n",
        "plt.legend(['train_loss', 'validation_loss'], loc='upper left')"
      ],
      "execution_count": 0,
      "outputs": [
        {
          "output_type": "execute_result",
          "data": {
            "text/plain": [
              "<matplotlib.legend.Legend at 0x7fa5b8bebf60>"
            ]
          },
          "metadata": {
            "tags": []
          },
          "execution_count": 47
        },
        {
          "output_type": "display_data",
          "data": {
            "image/png": "[encoded data removed]",
            "text/plain": [
              "<Figure size 576x396 with 1 Axes>"
            ]
          },
          "metadata": {
            "tags": []
          }
        }
      ]
    },
    {
      "cell_type": "markdown",
      "metadata": {
        "id": "lDeEJTTSbmiS",
        "colab_type": "text"
      },
      "source": [
        "### CRNN-parallel for All Subjects"
      ]
    },
    {
      "cell_type": "code",
      "metadata": {
        "id": "uTZJzu2DX44u",
        "colab_type": "code",
        "outputId": "4eaed664-b34c-4dea-fe18-ce2c04ee1791",
        "colab": {
          "base_uri": "https://localhost:8080/",
          "height": 425
        }
      },
      "source": [
        "X_train_valid_all=X_train_valid[0]\n",
        "for i in np.arange(1,9):\n",
        "  _,_,X_train_valid[i] = STFT(X_train_crop[i])  \n",
        "  X_train_valid_all = np.concatenate((X_train_valid_all, X_train_valid[i]), axis=0)\n",
        "  print(i)  \n",
        "  print(X_train_valid_all.shape)"
      ],
      "execution_count": 0,
      "outputs": [
        {
          "output_type": "stream",
          "text": [
            "new data shape: (2124, 22, 16, 16)\n",
            "1\n",
            "(4257, 22, 16, 16)\n",
            "new data shape: (2124, 22, 16, 16)\n",
            "2\n",
            "(6381, 22, 16, 16)\n",
            "new data shape: (2106, 22, 16, 16)\n",
            "3\n",
            "(8487, 22, 16, 16)\n",
            "new data shape: (2115, 22, 16, 16)\n",
            "4\n",
            "(10602, 22, 16, 16)\n",
            "new data shape: (2124, 22, 16, 16)\n",
            "5\n",
            "(12726, 22, 16, 16)\n",
            "new data shape: (2142, 22, 16, 16)\n",
            "6\n",
            "(14868, 22, 16, 16)\n",
            "new data shape: (2088, 22, 16, 16)\n",
            "7\n",
            "(16956, 22, 16, 16)\n",
            "new data shape: (2079, 22, 16, 16)\n",
            "8\n",
            "(19035, 22, 16, 16)\n"
          ],
          "name": "stdout"
        }
      ]
    },
    {
      "cell_type": "code",
      "metadata": {
        "id": "JmYr6Z1KcIVx",
        "colab_type": "code",
        "outputId": "6d0a38eb-2a76-4f1c-bec9-9f0538408f6e",
        "colab": {
          "base_uri": "https://localhost:8080/",
          "height": 289
        }
      },
      "source": [
        "y_train_valid_all=y_train_crop[0]\n",
        "for i in np.arange(1,9):\n",
        "  y_train_valid_all = np.concatenate((y_train_valid_all, y_train_crop[i]), axis=0)\n",
        "  print(i)  \n",
        "  print(y_train_valid_all.shape)"
      ],
      "execution_count": 0,
      "outputs": [
        {
          "output_type": "stream",
          "text": [
            "1\n",
            "(4257,)\n",
            "2\n",
            "(6381,)\n",
            "3\n",
            "(8487,)\n",
            "4\n",
            "(10602,)\n",
            "5\n",
            "(12726,)\n",
            "6\n",
            "(14868,)\n",
            "7\n",
            "(16956,)\n",
            "8\n",
            "(19035,)\n"
          ],
          "name": "stdout"
        }
      ]
    },
    {
      "cell_type": "code",
      "metadata": {
        "id": "wi03jXj-cD8m",
        "colab_type": "code",
        "outputId": "aaa5ed31-e936-46af-ca8a-f1cb4ed5f439",
        "colab": {
          "base_uri": "https://localhost:8080/",
          "height": 34
        }
      },
      "source": [
        "y_train_all_onehot = one_hot_matrix(y_train_valid_all)\n",
        "y_train_all_onehot = y_train_all_onehot.T\n",
        "N, C, F, T = X_train_valid_all.shape\n",
        "print(\"Training data shape: {}\".format(X_train_valid_all.shape))\n"
      ],
      "execution_count": 0,
      "outputs": [
        {
          "output_type": "stream",
          "text": [
            "Training data shape: (19035, 22, 16, 16)\n"
          ],
          "name": "stdout"
        }
      ]
    },
    {
      "cell_type": "code",
      "metadata": {
        "id": "5WJw685rbkRM",
        "colab_type": "code",
        "outputId": "202c7e67-a2f9-4584-816b-6f943c9a3866",
        "colab": {
          "base_uri": "https://localhost:8080/",
          "height": 10288
        }
      },
      "source": [
        "model = CRNN_Model(input_shape = (C, F, T))\n",
        "optimizer = optimizers.Adam(lr=0.02)\n",
        "model.compile(loss='categorical_crossentropy', optimizer='Adam', metrics=['accuracy'])\n",
        "history = model.fit(x = X_train_valid_all, y = y_train_all_onehot, \n",
        "                    epochs = 300, batch_size = 128, \n",
        "                    validation_split = 0.2, shuffle = 1, verbose = 1)  "
      ],
      "execution_count": 0,
      "outputs": [
        {
          "output_type": "stream",
          "text": [
            "(?, 16, 22, 16)\n",
            "(?, 16, 352)\n",
            "Train on 15228 samples, validate on 3807 samples\n",
            "Epoch 1/300\n",
            "15228/15228 [==============================] - 11s 736us/sample - loss: 4.1449 - acc: 0.2832 - val_loss: 3.0730 - val_acc: 0.3444\n",
            "Epoch 2/300\n",
            "15228/15228 [==============================] - 8s 545us/sample - loss: 2.5778 - acc: 0.3754 - val_loss: 2.3677 - val_acc: 0.3223\n",
            "Epoch 3/300\n",
            "15228/15228 [==============================] - 8s 526us/sample - loss: 1.9049 - acc: 0.4270 - val_loss: 1.8223 - val_acc: 0.3635\n",
            "Epoch 4/300\n",
            "15228/15228 [==============================] - 8s 512us/sample - loss: 1.5513 - acc: 0.4551 - val_loss: 1.6750 - val_acc: 0.3522\n",
            "Epoch 5/300\n",
            "15228/15228 [==============================] - 8s 516us/sample - loss: 1.4100 - acc: 0.4707 - val_loss: 1.5974 - val_acc: 0.4006\n",
            "Epoch 6/300\n",
            "15228/15228 [==============================] - 8s 514us/sample - loss: 1.3444 - acc: 0.4852 - val_loss: 1.5609 - val_acc: 0.4064\n",
            "Epoch 7/300\n",
            "15228/15228 [==============================] - 8s 522us/sample - loss: 1.2923 - acc: 0.5000 - val_loss: 1.6978 - val_acc: 0.4092\n",
            "Epoch 8/300\n",
            "15228/15228 [==============================] - 8s 520us/sample - loss: 1.2588 - acc: 0.5125 - val_loss: 1.5915 - val_acc: 0.4287\n",
            "Epoch 9/300\n",
            "15228/15228 [==============================] - 8s 532us/sample - loss: 1.2244 - acc: 0.5267 - val_loss: 1.6311 - val_acc: 0.4284\n",
            "Epoch 10/300\n",
            "15228/15228 [==============================] - 8s 542us/sample - loss: 1.2002 - acc: 0.5360 - val_loss: 1.6851 - val_acc: 0.4557\n",
            "Epoch 11/300\n",
            "15228/15228 [==============================] - 8s 541us/sample - loss: 1.1764 - acc: 0.5496 - val_loss: 1.7310 - val_acc: 0.4358\n",
            "Epoch 12/300\n",
            "15228/15228 [==============================] - 8s 549us/sample - loss: 1.1663 - acc: 0.5533 - val_loss: 1.6463 - val_acc: 0.4749\n",
            "Epoch 13/300\n",
            "15228/15228 [==============================] - 8s 548us/sample - loss: 1.1538 - acc: 0.5645 - val_loss: 1.6776 - val_acc: 0.4455\n",
            "Epoch 14/300\n",
            "15228/15228 [==============================] - 8s 541us/sample - loss: 1.1455 - acc: 0.5686 - val_loss: 1.7406 - val_acc: 0.4568\n",
            "Epoch 15/300\n",
            "15228/15228 [==============================] - 8s 548us/sample - loss: 1.1431 - acc: 0.5680 - val_loss: 1.6696 - val_acc: 0.4542\n",
            "Epoch 16/300\n",
            "15228/15228 [==============================] - 8s 540us/sample - loss: 1.1307 - acc: 0.5776 - val_loss: 1.7497 - val_acc: 0.4513\n",
            "Epoch 17/300\n",
            "15228/15228 [==============================] - 8s 546us/sample - loss: 1.1244 - acc: 0.5808 - val_loss: 1.7140 - val_acc: 0.4775\n",
            "Epoch 18/300\n",
            "15228/15228 [==============================] - 8s 543us/sample - loss: 1.1172 - acc: 0.5864 - val_loss: 1.7511 - val_acc: 0.4815\n",
            "Epoch 19/300\n",
            "15228/15228 [==============================] - 8s 546us/sample - loss: 1.1079 - acc: 0.6000 - val_loss: 1.7399 - val_acc: 0.4810\n",
            "Epoch 20/300\n",
            "15228/15228 [==============================] - 8s 547us/sample - loss: 1.0993 - acc: 0.5969 - val_loss: 1.7579 - val_acc: 0.4870\n",
            "Epoch 21/300\n",
            "15228/15228 [==============================] - 8s 538us/sample - loss: 1.0882 - acc: 0.6012 - val_loss: 1.6989 - val_acc: 0.5017\n",
            "Epoch 22/300\n",
            "15228/15228 [==============================] - 8s 543us/sample - loss: 1.0886 - acc: 0.6001 - val_loss: 1.7257 - val_acc: 0.4933\n",
            "Epoch 23/300\n",
            "15228/15228 [==============================] - 8s 540us/sample - loss: 1.0821 - acc: 0.6041 - val_loss: 1.7703 - val_acc: 0.4873\n",
            "Epoch 24/300\n",
            "15228/15228 [==============================] - 8s 545us/sample - loss: 1.0747 - acc: 0.6064 - val_loss: 1.8037 - val_acc: 0.4676\n",
            "Epoch 25/300\n",
            "15228/15228 [==============================] - 8s 545us/sample - loss: 1.0769 - acc: 0.6088 - val_loss: 1.7680 - val_acc: 0.4736\n",
            "Epoch 26/300\n",
            "15228/15228 [==============================] - 8s 544us/sample - loss: 1.0677 - acc: 0.6128 - val_loss: 1.8277 - val_acc: 0.4741\n",
            "Epoch 27/300\n",
            "15228/15228 [==============================] - 8s 538us/sample - loss: 1.0567 - acc: 0.6189 - val_loss: 1.7964 - val_acc: 0.4531\n",
            "Epoch 28/300\n",
            "15228/15228 [==============================] - 8s 518us/sample - loss: 1.0605 - acc: 0.6179 - val_loss: 1.8179 - val_acc: 0.4802\n",
            "Epoch 29/300\n",
            "15228/15228 [==============================] - 8s 510us/sample - loss: 1.0556 - acc: 0.6232 - val_loss: 1.8189 - val_acc: 0.4747\n",
            "Epoch 30/300\n",
            "15228/15228 [==============================] - 8s 517us/sample - loss: 1.0598 - acc: 0.6189 - val_loss: 1.7665 - val_acc: 0.4849\n",
            "Epoch 31/300\n",
            "15228/15228 [==============================] - 8s 536us/sample - loss: 1.0528 - acc: 0.6227 - val_loss: 1.8242 - val_acc: 0.4857\n",
            "Epoch 32/300\n",
            "15228/15228 [==============================] - 8s 529us/sample - loss: 1.0473 - acc: 0.6231 - val_loss: 1.9292 - val_acc: 0.4597\n",
            "Epoch 33/300\n",
            "15228/15228 [==============================] - 8s 531us/sample - loss: 1.0499 - acc: 0.6232 - val_loss: 1.9029 - val_acc: 0.4644\n",
            "Epoch 34/300\n",
            "15228/15228 [==============================] - 8s 515us/sample - loss: 1.0380 - acc: 0.6327 - val_loss: 1.8068 - val_acc: 0.5041\n",
            "Epoch 35/300\n",
            "15228/15228 [==============================] - 8s 518us/sample - loss: 1.0387 - acc: 0.6327 - val_loss: 1.7698 - val_acc: 0.5183\n",
            "Epoch 36/300\n",
            "15228/15228 [==============================] - 8s 531us/sample - loss: 1.0426 - acc: 0.6307 - val_loss: 1.8943 - val_acc: 0.4783\n",
            "Epoch 37/300\n",
            "15228/15228 [==============================] - 8s 516us/sample - loss: 1.0380 - acc: 0.6322 - val_loss: 1.8351 - val_acc: 0.5014\n",
            "Epoch 38/300\n",
            "15228/15228 [==============================] - 8s 538us/sample - loss: 1.0333 - acc: 0.6327 - val_loss: 1.8438 - val_acc: 0.4975\n",
            "Epoch 39/300\n",
            "15228/15228 [==============================] - 8s 529us/sample - loss: 1.0181 - acc: 0.6358 - val_loss: 1.8583 - val_acc: 0.4983\n",
            "Epoch 40/300\n",
            "15228/15228 [==============================] - 8s 541us/sample - loss: 1.0186 - acc: 0.6393 - val_loss: 1.8811 - val_acc: 0.4993\n",
            "Epoch 41/300\n",
            "15228/15228 [==============================] - 8s 543us/sample - loss: 1.0254 - acc: 0.6428 - val_loss: 1.8770 - val_acc: 0.4980\n",
            "Epoch 42/300\n",
            "15228/15228 [==============================] - 8s 542us/sample - loss: 1.0204 - acc: 0.6395 - val_loss: 1.8882 - val_acc: 0.4923\n",
            "Epoch 43/300\n",
            "15228/15228 [==============================] - 8s 541us/sample - loss: 1.0136 - acc: 0.6466 - val_loss: 1.8106 - val_acc: 0.4936\n",
            "Epoch 44/300\n",
            "15228/15228 [==============================] - 8s 541us/sample - loss: 1.0113 - acc: 0.6453 - val_loss: 2.0747 - val_acc: 0.4507\n",
            "Epoch 45/300\n",
            "15228/15228 [==============================] - 8s 544us/sample - loss: 1.0117 - acc: 0.6474 - val_loss: 1.9152 - val_acc: 0.4854\n",
            "Epoch 46/300\n",
            "15228/15228 [==============================] - 8s 544us/sample - loss: 1.0076 - acc: 0.6476 - val_loss: 1.8449 - val_acc: 0.5022\n",
            "Epoch 47/300\n",
            "15228/15228 [==============================] - 8s 534us/sample - loss: 1.0051 - acc: 0.6485 - val_loss: 1.8562 - val_acc: 0.5093\n",
            "Epoch 48/300\n",
            "15228/15228 [==============================] - 8s 519us/sample - loss: 1.0116 - acc: 0.6460 - val_loss: 1.8192 - val_acc: 0.4944\n",
            "Epoch 49/300\n",
            "15228/15228 [==============================] - 8s 513us/sample - loss: 1.0020 - acc: 0.6524 - val_loss: 1.9250 - val_acc: 0.4986\n",
            "Epoch 50/300\n",
            "15228/15228 [==============================] - 8s 518us/sample - loss: 1.0002 - acc: 0.6506 - val_loss: 1.9052 - val_acc: 0.5009\n",
            "Epoch 51/300\n",
            "15228/15228 [==============================] - 8s 530us/sample - loss: 0.9964 - acc: 0.6499 - val_loss: 1.9685 - val_acc: 0.4957\n",
            "Epoch 52/300\n",
            "15228/15228 [==============================] - 8s 537us/sample - loss: 1.0028 - acc: 0.6460 - val_loss: 1.8412 - val_acc: 0.5030\n",
            "Epoch 53/300\n",
            "15228/15228 [==============================] - 8s 516us/sample - loss: 1.0043 - acc: 0.6501 - val_loss: 1.8069 - val_acc: 0.5012\n",
            "Epoch 54/300\n",
            "15228/15228 [==============================] - 8s 512us/sample - loss: 0.9989 - acc: 0.6539 - val_loss: 1.9188 - val_acc: 0.5012\n",
            "Epoch 55/300\n",
            "15228/15228 [==============================] - 8s 513us/sample - loss: 1.0006 - acc: 0.6546 - val_loss: 1.9734 - val_acc: 0.4865\n",
            "Epoch 56/300\n",
            "15228/15228 [==============================] - 8s 511us/sample - loss: 0.9984 - acc: 0.6539 - val_loss: 1.8772 - val_acc: 0.5156\n",
            "Epoch 57/300\n",
            "15228/15228 [==============================] - 8s 511us/sample - loss: 0.9990 - acc: 0.6522 - val_loss: 1.8832 - val_acc: 0.5062\n",
            "Epoch 58/300\n",
            "15228/15228 [==============================] - 8s 509us/sample - loss: 0.9961 - acc: 0.6520 - val_loss: 1.9911 - val_acc: 0.4959\n",
            "Epoch 59/300\n",
            "15228/15228 [==============================] - 8s 510us/sample - loss: 0.9811 - acc: 0.6598 - val_loss: 1.9512 - val_acc: 0.4870\n",
            "Epoch 60/300\n",
            "15228/15228 [==============================] - 8s 510us/sample - loss: 0.9874 - acc: 0.6551 - val_loss: 1.9260 - val_acc: 0.5025\n",
            "Epoch 61/300\n",
            "15228/15228 [==============================] - 8s 508us/sample - loss: 0.9858 - acc: 0.6585 - val_loss: 1.9287 - val_acc: 0.4859\n",
            "Epoch 62/300\n",
            "15228/15228 [==============================] - 8s 510us/sample - loss: 0.9914 - acc: 0.6527 - val_loss: 1.8491 - val_acc: 0.5075\n",
            "Epoch 63/300\n",
            "15228/15228 [==============================] - 8s 514us/sample - loss: 0.9859 - acc: 0.6590 - val_loss: 2.0304 - val_acc: 0.5022\n",
            "Epoch 64/300\n",
            "15228/15228 [==============================] - 8s 512us/sample - loss: 0.9893 - acc: 0.6565 - val_loss: 1.9090 - val_acc: 0.5077\n",
            "Epoch 65/300\n",
            "15228/15228 [==============================] - 8s 515us/sample - loss: 0.9808 - acc: 0.6613 - val_loss: 1.9614 - val_acc: 0.5141\n",
            "Epoch 66/300\n",
            "15228/15228 [==============================] - 8s 517us/sample - loss: 0.9806 - acc: 0.6600 - val_loss: 1.8910 - val_acc: 0.5240\n",
            "Epoch 67/300\n",
            "15228/15228 [==============================] - 8s 519us/sample - loss: 0.9711 - acc: 0.6661 - val_loss: 1.9839 - val_acc: 0.4999\n",
            "Epoch 68/300\n",
            "15228/15228 [==============================] - 8s 511us/sample - loss: 0.9818 - acc: 0.6606 - val_loss: 2.0015 - val_acc: 0.4980\n",
            "Epoch 69/300\n",
            "15228/15228 [==============================] - 8s 508us/sample - loss: 0.9829 - acc: 0.6577 - val_loss: 1.9211 - val_acc: 0.5080\n",
            "Epoch 70/300\n",
            "15228/15228 [==============================] - 8s 520us/sample - loss: 0.9756 - acc: 0.6631 - val_loss: 1.9714 - val_acc: 0.4978\n",
            "Epoch 71/300\n",
            "15228/15228 [==============================] - 8s 519us/sample - loss: 0.9807 - acc: 0.6578 - val_loss: 1.8962 - val_acc: 0.5172\n",
            "Epoch 72/300\n",
            "15228/15228 [==============================] - 8s 512us/sample - loss: 0.9773 - acc: 0.6629 - val_loss: 2.0129 - val_acc: 0.4957\n",
            "Epoch 73/300\n",
            "15228/15228 [==============================] - 8s 520us/sample - loss: 0.9722 - acc: 0.6613 - val_loss: 1.9905 - val_acc: 0.4999\n",
            "Epoch 74/300\n",
            "15228/15228 [==============================] - 8s 517us/sample - loss: 0.9725 - acc: 0.6664 - val_loss: 1.9813 - val_acc: 0.5054\n",
            "Epoch 75/300\n",
            "15228/15228 [==============================] - 8s 520us/sample - loss: 0.9771 - acc: 0.6673 - val_loss: 1.9459 - val_acc: 0.5130\n",
            "Epoch 76/300\n",
            "15228/15228 [==============================] - 8s 515us/sample - loss: 0.9623 - acc: 0.6669 - val_loss: 1.9469 - val_acc: 0.5012\n",
            "Epoch 77/300\n",
            "15228/15228 [==============================] - 8s 531us/sample - loss: 0.9742 - acc: 0.6613 - val_loss: 1.8886 - val_acc: 0.5143\n",
            "Epoch 78/300\n",
            "15228/15228 [==============================] - 8s 538us/sample - loss: 0.9767 - acc: 0.6634 - val_loss: 1.9812 - val_acc: 0.5030\n",
            "Epoch 79/300\n",
            "15228/15228 [==============================] - 8s 517us/sample - loss: 0.9678 - acc: 0.6669 - val_loss: 1.9352 - val_acc: 0.4912\n",
            "Epoch 80/300\n",
            "15228/15228 [==============================] - 8s 514us/sample - loss: 0.9741 - acc: 0.6610 - val_loss: 1.9551 - val_acc: 0.4938\n",
            "Epoch 81/300\n",
            "15228/15228 [==============================] - 8s 512us/sample - loss: 0.9672 - acc: 0.6691 - val_loss: 1.9750 - val_acc: 0.4941\n",
            "Epoch 82/300\n",
            "15228/15228 [==============================] - 8s 513us/sample - loss: 0.9691 - acc: 0.6632 - val_loss: 2.0422 - val_acc: 0.4999\n",
            "Epoch 83/300\n",
            "15228/15228 [==============================] - 8s 516us/sample - loss: 0.9652 - acc: 0.6712 - val_loss: 2.0028 - val_acc: 0.5004\n",
            "Epoch 84/300\n",
            "15228/15228 [==============================] - 8s 512us/sample - loss: 0.9665 - acc: 0.6647 - val_loss: 1.8943 - val_acc: 0.5167\n",
            "Epoch 85/300\n",
            "15228/15228 [==============================] - 8s 510us/sample - loss: 0.9607 - acc: 0.6730 - val_loss: 2.0908 - val_acc: 0.4862\n",
            "Epoch 86/300\n",
            "15228/15228 [==============================] - 8s 510us/sample - loss: 0.9575 - acc: 0.6722 - val_loss: 1.8076 - val_acc: 0.5282\n",
            "Epoch 87/300\n",
            "15228/15228 [==============================] - 8s 511us/sample - loss: 0.9556 - acc: 0.6721 - val_loss: 1.9762 - val_acc: 0.5206\n",
            "Epoch 88/300\n",
            "15228/15228 [==============================] - 8s 511us/sample - loss: 0.9587 - acc: 0.6669 - val_loss: 1.9318 - val_acc: 0.5070\n",
            "Epoch 89/300\n",
            "15228/15228 [==============================] - 8s 507us/sample - loss: 0.9570 - acc: 0.6719 - val_loss: 1.8640 - val_acc: 0.5162\n",
            "Epoch 90/300\n",
            "15228/15228 [==============================] - 8s 506us/sample - loss: 0.9674 - acc: 0.6646 - val_loss: 1.9217 - val_acc: 0.5049\n",
            "Epoch 91/300\n",
            "15228/15228 [==============================] - 8s 505us/sample - loss: 0.9610 - acc: 0.6690 - val_loss: 1.9542 - val_acc: 0.5088\n",
            "Epoch 92/300\n",
            "15228/15228 [==============================] - 8s 507us/sample - loss: 0.9550 - acc: 0.6706 - val_loss: 1.9203 - val_acc: 0.5130\n",
            "Epoch 93/300\n",
            "15228/15228 [==============================] - 8s 506us/sample - loss: 0.9508 - acc: 0.6744 - val_loss: 1.9081 - val_acc: 0.5148\n",
            "Epoch 94/300\n",
            "15228/15228 [==============================] - 8s 507us/sample - loss: 0.9534 - acc: 0.6767 - val_loss: 2.0019 - val_acc: 0.4983\n",
            "Epoch 95/300\n",
            "15228/15228 [==============================] - 8s 510us/sample - loss: 0.9514 - acc: 0.6772 - val_loss: 1.9508 - val_acc: 0.5017\n",
            "Epoch 96/300\n",
            "15228/15228 [==============================] - 8s 509us/sample - loss: 0.9511 - acc: 0.6728 - val_loss: 1.9224 - val_acc: 0.5064\n",
            "Epoch 97/300\n",
            "15228/15228 [==============================] - 8s 503us/sample - loss: 0.9644 - acc: 0.6697 - val_loss: 1.8685 - val_acc: 0.5185\n",
            "Epoch 98/300\n",
            "15228/15228 [==============================] - 8s 508us/sample - loss: 0.9509 - acc: 0.6723 - val_loss: 2.0878 - val_acc: 0.4749\n",
            "Epoch 99/300\n",
            "15228/15228 [==============================] - 8s 504us/sample - loss: 0.9607 - acc: 0.6728 - val_loss: 1.9692 - val_acc: 0.5035\n",
            "Epoch 100/300\n",
            "15228/15228 [==============================] - 8s 503us/sample - loss: 0.9672 - acc: 0.6662 - val_loss: 2.0179 - val_acc: 0.5062\n",
            "Epoch 101/300\n",
            "15228/15228 [==============================] - 8s 499us/sample - loss: 0.9499 - acc: 0.6787 - val_loss: 2.0479 - val_acc: 0.5041\n",
            "Epoch 102/300\n",
            "15228/15228 [==============================] - 8s 505us/sample - loss: 0.9548 - acc: 0.6704 - val_loss: 1.9910 - val_acc: 0.5185\n",
            "Epoch 103/300\n",
            "15228/15228 [==============================] - 8s 496us/sample - loss: 0.9557 - acc: 0.6721 - val_loss: 1.9507 - val_acc: 0.5169\n",
            "Epoch 104/300\n",
            "15228/15228 [==============================] - 8s 499us/sample - loss: 0.9478 - acc: 0.6744 - val_loss: 1.8545 - val_acc: 0.5211\n",
            "Epoch 105/300\n",
            "15228/15228 [==============================] - 8s 497us/sample - loss: 0.9457 - acc: 0.6780 - val_loss: 2.1084 - val_acc: 0.4891\n",
            "Epoch 106/300\n",
            "15228/15228 [==============================] - 8s 496us/sample - loss: 0.9361 - acc: 0.6814 - val_loss: 1.9512 - val_acc: 0.5022\n",
            "Epoch 107/300\n",
            "15228/15228 [==============================] - 8s 494us/sample - loss: 0.9458 - acc: 0.6776 - val_loss: 2.0016 - val_acc: 0.4951\n",
            "Epoch 108/300\n",
            "15228/15228 [==============================] - 8s 494us/sample - loss: 0.9524 - acc: 0.6770 - val_loss: 1.9555 - val_acc: 0.5177\n",
            "Epoch 109/300\n",
            "15228/15228 [==============================] - 8s 498us/sample - loss: 0.9516 - acc: 0.6729 - val_loss: 2.0737 - val_acc: 0.5022\n",
            "Epoch 110/300\n",
            "15228/15228 [==============================] - 8s 495us/sample - loss: 0.9517 - acc: 0.6734 - val_loss: 2.0152 - val_acc: 0.4873\n",
            "Epoch 111/300\n",
            "15228/15228 [==============================] - 8s 493us/sample - loss: 0.9491 - acc: 0.6768 - val_loss: 1.9342 - val_acc: 0.5049\n",
            "Epoch 112/300\n",
            "15228/15228 [==============================] - 8s 496us/sample - loss: 0.9335 - acc: 0.6830 - val_loss: 1.8872 - val_acc: 0.5356\n",
            "Epoch 113/300\n",
            "15228/15228 [==============================] - 8s 496us/sample - loss: 0.9465 - acc: 0.6780 - val_loss: 1.9551 - val_acc: 0.5154\n",
            "Epoch 114/300\n",
            "15228/15228 [==============================] - 8s 496us/sample - loss: 0.9500 - acc: 0.6768 - val_loss: 1.9963 - val_acc: 0.5138\n",
            "Epoch 115/300\n",
            "15228/15228 [==============================] - 8s 495us/sample - loss: 0.9406 - acc: 0.6833 - val_loss: 2.0767 - val_acc: 0.4975\n",
            "Epoch 116/300\n",
            "15228/15228 [==============================] - 8s 498us/sample - loss: 0.9476 - acc: 0.6793 - val_loss: 1.9461 - val_acc: 0.5054\n",
            "Epoch 117/300\n",
            "15228/15228 [==============================] - 8s 501us/sample - loss: 0.9427 - acc: 0.6789 - val_loss: 2.0866 - val_acc: 0.4838\n",
            "Epoch 118/300\n",
            "15228/15228 [==============================] - 8s 523us/sample - loss: 0.9392 - acc: 0.6847 - val_loss: 1.9274 - val_acc: 0.5188\n",
            "Epoch 119/300\n",
            "15228/15228 [==============================] - 8s 502us/sample - loss: 0.9612 - acc: 0.6717 - val_loss: 1.9509 - val_acc: 0.5028\n",
            "Epoch 120/300\n",
            "15228/15228 [==============================] - 8s 500us/sample - loss: 0.9426 - acc: 0.6798 - val_loss: 1.9842 - val_acc: 0.5159\n",
            "Epoch 121/300\n",
            "15228/15228 [==============================] - 8s 498us/sample - loss: 0.9442 - acc: 0.6812 - val_loss: 2.0293 - val_acc: 0.5127\n",
            "Epoch 122/300\n",
            "15228/15228 [==============================] - 8s 499us/sample - loss: 0.9469 - acc: 0.6781 - val_loss: 1.9842 - val_acc: 0.5117\n",
            "Epoch 123/300\n",
            "15228/15228 [==============================] - 8s 500us/sample - loss: 0.9429 - acc: 0.6798 - val_loss: 1.9481 - val_acc: 0.5162\n",
            "Epoch 124/300\n",
            "15228/15228 [==============================] - 8s 498us/sample - loss: 0.9411 - acc: 0.6812 - val_loss: 1.8424 - val_acc: 0.5314\n",
            "Epoch 125/300\n",
            "15228/15228 [==============================] - 8s 501us/sample - loss: 0.9343 - acc: 0.6860 - val_loss: 1.9637 - val_acc: 0.5214\n",
            "Epoch 126/300\n",
            "15228/15228 [==============================] - 8s 493us/sample - loss: 0.9389 - acc: 0.6811 - val_loss: 1.8791 - val_acc: 0.5282\n",
            "Epoch 127/300\n",
            "15228/15228 [==============================] - 7s 491us/sample - loss: 0.9378 - acc: 0.6797 - val_loss: 2.0320 - val_acc: 0.5059\n",
            "Epoch 128/300\n",
            "15228/15228 [==============================] - 8s 499us/sample - loss: 0.9434 - acc: 0.6782 - val_loss: 1.9930 - val_acc: 0.4967\n",
            "Epoch 129/300\n",
            "15228/15228 [==============================] - 8s 495us/sample - loss: 0.9369 - acc: 0.6815 - val_loss: 1.9689 - val_acc: 0.5159\n",
            "Epoch 130/300\n",
            "15228/15228 [==============================] - 8s 495us/sample - loss: 0.9381 - acc: 0.6795 - val_loss: 2.0022 - val_acc: 0.5138\n",
            "Epoch 131/300\n",
            "15228/15228 [==============================] - 8s 496us/sample - loss: 0.9344 - acc: 0.6844 - val_loss: 1.9867 - val_acc: 0.5156\n",
            "Epoch 132/300\n",
            "15228/15228 [==============================] - 8s 498us/sample - loss: 0.9478 - acc: 0.6800 - val_loss: 2.0237 - val_acc: 0.5096\n",
            "Epoch 133/300\n",
            "15228/15228 [==============================] - 8s 493us/sample - loss: 0.9429 - acc: 0.6807 - val_loss: 2.0082 - val_acc: 0.5190\n",
            "Epoch 134/300\n",
            "15228/15228 [==============================] - 7s 493us/sample - loss: 0.9446 - acc: 0.6838 - val_loss: 2.0419 - val_acc: 0.5122\n",
            "Epoch 135/300\n",
            "15228/15228 [==============================] - 7s 490us/sample - loss: 0.9553 - acc: 0.6816 - val_loss: 2.0058 - val_acc: 0.5080\n",
            "Epoch 136/300\n",
            "15228/15228 [==============================] - 7s 492us/sample - loss: 0.9334 - acc: 0.6831 - val_loss: 2.0664 - val_acc: 0.5135\n",
            "Epoch 137/300\n",
            "15228/15228 [==============================] - 7s 489us/sample - loss: 0.9222 - acc: 0.6891 - val_loss: 2.0710 - val_acc: 0.5041\n",
            "Epoch 138/300\n",
            "15228/15228 [==============================] - 7s 487us/sample - loss: 0.9335 - acc: 0.6862 - val_loss: 1.9546 - val_acc: 0.5175\n",
            "Epoch 139/300\n",
            "15228/15228 [==============================] - 7s 491us/sample - loss: 0.9298 - acc: 0.6887 - val_loss: 1.9431 - val_acc: 0.5130\n",
            "Epoch 140/300\n",
            "15228/15228 [==============================] - 7s 492us/sample - loss: 0.9281 - acc: 0.6828 - val_loss: 2.0947 - val_acc: 0.4915\n",
            "Epoch 141/300\n",
            "15228/15228 [==============================] - 8s 496us/sample - loss: 0.9287 - acc: 0.6845 - val_loss: 2.0231 - val_acc: 0.5146\n",
            "Epoch 142/300\n",
            "15228/15228 [==============================] - 8s 494us/sample - loss: 0.9221 - acc: 0.6919 - val_loss: 2.0380 - val_acc: 0.5127\n",
            "Epoch 143/300\n",
            "15228/15228 [==============================] - 7s 490us/sample - loss: 0.9282 - acc: 0.6860 - val_loss: 1.9030 - val_acc: 0.5311\n",
            "Epoch 144/300\n",
            "15228/15228 [==============================] - 8s 497us/sample - loss: 0.9273 - acc: 0.6864 - val_loss: 2.0343 - val_acc: 0.5172\n",
            "Epoch 145/300\n",
            "15228/15228 [==============================] - 8s 494us/sample - loss: 0.9248 - acc: 0.6908 - val_loss: 1.9850 - val_acc: 0.5062\n",
            "Epoch 146/300\n",
            "15228/15228 [==============================] - 7s 491us/sample - loss: 0.9239 - acc: 0.6903 - val_loss: 2.0734 - val_acc: 0.4988\n",
            "Epoch 147/300\n",
            "15228/15228 [==============================] - 7s 491us/sample - loss: 0.9296 - acc: 0.6879 - val_loss: 1.9440 - val_acc: 0.5190\n",
            "Epoch 148/300\n",
            "15228/15228 [==============================] - 7s 491us/sample - loss: 0.9304 - acc: 0.6889 - val_loss: 2.0448 - val_acc: 0.5041\n",
            "Epoch 149/300\n",
            "15228/15228 [==============================] - 8s 495us/sample - loss: 0.9284 - acc: 0.6912 - val_loss: 1.9979 - val_acc: 0.5138\n",
            "Epoch 150/300\n",
            "15228/15228 [==============================] - 7s 490us/sample - loss: 0.9197 - acc: 0.6881 - val_loss: 1.9508 - val_acc: 0.5156\n",
            "Epoch 151/300\n",
            "15228/15228 [==============================] - 7s 487us/sample - loss: 0.9254 - acc: 0.6904 - val_loss: 2.0943 - val_acc: 0.5064\n",
            "Epoch 152/300\n",
            "15228/15228 [==============================] - 8s 493us/sample - loss: 0.9303 - acc: 0.6858 - val_loss: 1.9507 - val_acc: 0.5077\n",
            "Epoch 153/300\n",
            "15228/15228 [==============================] - 7s 491us/sample - loss: 0.9288 - acc: 0.6861 - val_loss: 2.0202 - val_acc: 0.5041\n",
            "Epoch 154/300\n",
            "15228/15228 [==============================] - 7s 491us/sample - loss: 0.9341 - acc: 0.6856 - val_loss: 2.0011 - val_acc: 0.5190\n",
            "Epoch 155/300\n",
            "15228/15228 [==============================] - 7s 488us/sample - loss: 0.9351 - acc: 0.6869 - val_loss: 1.8806 - val_acc: 0.5340\n",
            "Epoch 156/300\n",
            "15228/15228 [==============================] - 7s 488us/sample - loss: 0.9311 - acc: 0.6854 - val_loss: 1.9149 - val_acc: 0.5193\n",
            "Epoch 157/300\n",
            "15228/15228 [==============================] - 8s 498us/sample - loss: 0.9174 - acc: 0.6946 - val_loss: 2.0228 - val_acc: 0.5185\n",
            "Epoch 158/300\n",
            "15228/15228 [==============================] - 7s 487us/sample - loss: 0.9247 - acc: 0.6862 - val_loss: 1.9444 - val_acc: 0.5196\n",
            "Epoch 159/300\n",
            "15228/15228 [==============================] - 8s 506us/sample - loss: 0.9300 - acc: 0.6896 - val_loss: 1.9287 - val_acc: 0.5269\n",
            "Epoch 160/300\n",
            "15228/15228 [==============================] - 8s 494us/sample - loss: 0.9420 - acc: 0.6797 - val_loss: 1.9319 - val_acc: 0.5219\n",
            "Epoch 161/300\n",
            "15228/15228 [==============================] - 7s 489us/sample - loss: 0.9269 - acc: 0.6888 - val_loss: 1.9273 - val_acc: 0.5303\n",
            "Epoch 162/300\n",
            "15228/15228 [==============================] - 7s 490us/sample - loss: 0.9337 - acc: 0.6864 - val_loss: 2.0527 - val_acc: 0.5106\n",
            "Epoch 163/300\n",
            "15228/15228 [==============================] - 7s 488us/sample - loss: 0.9159 - acc: 0.6950 - val_loss: 1.9686 - val_acc: 0.5246\n",
            "Epoch 164/300\n",
            "15228/15228 [==============================] - 7s 491us/sample - loss: 0.9236 - acc: 0.6868 - val_loss: 1.9535 - val_acc: 0.5272\n",
            "Epoch 165/300\n",
            "15228/15228 [==============================] - 7s 491us/sample - loss: 0.9205 - acc: 0.6964 - val_loss: 1.9342 - val_acc: 0.5264\n",
            "Epoch 166/300\n",
            "15228/15228 [==============================] - 7s 488us/sample - loss: 0.9315 - acc: 0.6877 - val_loss: 2.0008 - val_acc: 0.5046\n",
            "Epoch 167/300\n",
            "15228/15228 [==============================] - 7s 488us/sample - loss: 0.9153 - acc: 0.6937 - val_loss: 2.0881 - val_acc: 0.4949\n",
            "Epoch 168/300\n",
            "15228/15228 [==============================] - 7s 489us/sample - loss: 0.9156 - acc: 0.6953 - val_loss: 1.9730 - val_acc: 0.5167\n",
            "Epoch 169/300\n",
            "15228/15228 [==============================] - 8s 493us/sample - loss: 0.9303 - acc: 0.6880 - val_loss: 2.0210 - val_acc: 0.5127\n",
            "Epoch 170/300\n",
            "15228/15228 [==============================] - 7s 487us/sample - loss: 0.9282 - acc: 0.6887 - val_loss: 2.0814 - val_acc: 0.4941\n",
            "Epoch 171/300\n",
            "15228/15228 [==============================] - 7s 488us/sample - loss: 0.9218 - acc: 0.6938 - val_loss: 2.0440 - val_acc: 0.5038\n",
            "Epoch 172/300\n",
            "15228/15228 [==============================] - 7s 489us/sample - loss: 0.9166 - acc: 0.6926 - val_loss: 1.9207 - val_acc: 0.5196\n",
            "Epoch 173/300\n",
            "15228/15228 [==============================] - 8s 494us/sample - loss: 0.9161 - acc: 0.6908 - val_loss: 2.0000 - val_acc: 0.5159\n",
            "Epoch 174/300\n",
            "15228/15228 [==============================] - 7s 489us/sample - loss: 0.9105 - acc: 0.6963 - val_loss: 2.0364 - val_acc: 0.5041\n",
            "Epoch 175/300\n",
            "15228/15228 [==============================] - 7s 490us/sample - loss: 0.9151 - acc: 0.6952 - val_loss: 1.9954 - val_acc: 0.5141\n",
            "Epoch 176/300\n",
            "15228/15228 [==============================] - 8s 493us/sample - loss: 0.9193 - acc: 0.6929 - val_loss: 1.9111 - val_acc: 0.5338\n",
            "Epoch 177/300\n",
            "15228/15228 [==============================] - 8s 494us/sample - loss: 0.9202 - acc: 0.6943 - val_loss: 2.2513 - val_acc: 0.4909\n",
            "Epoch 178/300\n",
            "15228/15228 [==============================] - 8s 493us/sample - loss: 0.9266 - acc: 0.6863 - val_loss: 1.9183 - val_acc: 0.5285\n",
            "Epoch 179/300\n",
            "15228/15228 [==============================] - 7s 489us/sample - loss: 0.9188 - acc: 0.6939 - val_loss: 1.9643 - val_acc: 0.5159\n",
            "Epoch 180/300\n",
            "15228/15228 [==============================] - 7s 489us/sample - loss: 0.9184 - acc: 0.6926 - val_loss: 2.0196 - val_acc: 0.5146\n",
            "Epoch 181/300\n",
            "15228/15228 [==============================] - 7s 491us/sample - loss: 0.9180 - acc: 0.6939 - val_loss: 1.9948 - val_acc: 0.5117\n",
            "Epoch 182/300\n",
            "15228/15228 [==============================] - 7s 488us/sample - loss: 0.9075 - acc: 0.7023 - val_loss: 2.0022 - val_acc: 0.5125\n",
            "Epoch 183/300\n",
            "15228/15228 [==============================] - 7s 485us/sample - loss: 0.9070 - acc: 0.6984 - val_loss: 2.0149 - val_acc: 0.5127\n",
            "Epoch 184/300\n",
            "15228/15228 [==============================] - 7s 491us/sample - loss: 0.9125 - acc: 0.6963 - val_loss: 1.9322 - val_acc: 0.5230\n",
            "Epoch 185/300\n",
            "15228/15228 [==============================] - 7s 490us/sample - loss: 0.9154 - acc: 0.6974 - val_loss: 1.9830 - val_acc: 0.5159\n",
            "Epoch 186/300\n",
            "15228/15228 [==============================] - 7s 487us/sample - loss: 0.9141 - acc: 0.6959 - val_loss: 2.0355 - val_acc: 0.5154\n",
            "Epoch 187/300\n",
            "15228/15228 [==============================] - 7s 486us/sample - loss: 0.9135 - acc: 0.6977 - val_loss: 2.1130 - val_acc: 0.5054\n",
            "Epoch 188/300\n",
            "15228/15228 [==============================] - 7s 488us/sample - loss: 0.9226 - acc: 0.6889 - val_loss: 2.2110 - val_acc: 0.4959\n",
            "Epoch 189/300\n",
            "15228/15228 [==============================] - 8s 494us/sample - loss: 0.9301 - acc: 0.6919 - val_loss: 1.9847 - val_acc: 0.5127\n",
            "Epoch 190/300\n",
            "15228/15228 [==============================] - 7s 490us/sample - loss: 0.9182 - acc: 0.6967 - val_loss: 1.9738 - val_acc: 0.5269\n",
            "Epoch 191/300\n",
            "15228/15228 [==============================] - 7s 487us/sample - loss: 0.9292 - acc: 0.6899 - val_loss: 2.0587 - val_acc: 0.5112\n",
            "Epoch 192/300\n",
            "15228/15228 [==============================] - 7s 490us/sample - loss: 0.9226 - acc: 0.6875 - val_loss: 1.9792 - val_acc: 0.5133\n",
            "Epoch 193/300\n",
            "15228/15228 [==============================] - 8s 493us/sample - loss: 0.9179 - acc: 0.6965 - val_loss: 1.9841 - val_acc: 0.5190\n",
            "Epoch 194/300\n",
            "15228/15228 [==============================] - 7s 489us/sample - loss: 0.9106 - acc: 0.6981 - val_loss: 2.0077 - val_acc: 0.5120\n",
            "Epoch 195/300\n",
            "15228/15228 [==============================] - 7s 491us/sample - loss: 0.9190 - acc: 0.6896 - val_loss: 1.9782 - val_acc: 0.5201\n",
            "Epoch 196/300\n",
            "15228/15228 [==============================] - 7s 488us/sample - loss: 0.9118 - acc: 0.6946 - val_loss: 1.9935 - val_acc: 0.5109\n",
            "Epoch 197/300\n",
            "15228/15228 [==============================] - 7s 490us/sample - loss: 0.9171 - acc: 0.6929 - val_loss: 1.9996 - val_acc: 0.5162\n",
            "Epoch 198/300\n",
            "15228/15228 [==============================] - 7s 492us/sample - loss: 0.9166 - acc: 0.6933 - val_loss: 1.9031 - val_acc: 0.5222\n",
            "Epoch 199/300\n",
            "15228/15228 [==============================] - 7s 490us/sample - loss: 0.9258 - acc: 0.6913 - val_loss: 2.1304 - val_acc: 0.4991\n",
            "Epoch 200/300\n",
            "15228/15228 [==============================] - 8s 508us/sample - loss: 0.9128 - acc: 0.6956 - val_loss: 1.9552 - val_acc: 0.5080\n",
            "Epoch 201/300\n",
            "15228/15228 [==============================] - 8s 502us/sample - loss: 0.9222 - acc: 0.6920 - val_loss: 2.0375 - val_acc: 0.4970\n",
            "Epoch 202/300\n",
            "15228/15228 [==============================] - 7s 489us/sample - loss: 0.9120 - acc: 0.6977 - val_loss: 2.0339 - val_acc: 0.5125\n",
            "Epoch 203/300\n",
            "15228/15228 [==============================] - 7s 491us/sample - loss: 0.9119 - acc: 0.6946 - val_loss: 1.9662 - val_acc: 0.5127\n",
            "Epoch 204/300\n",
            "15228/15228 [==============================] - 7s 489us/sample - loss: 0.9084 - acc: 0.6990 - val_loss: 1.9593 - val_acc: 0.5248\n",
            "Epoch 205/300\n",
            "15228/15228 [==============================] - 8s 494us/sample - loss: 0.9046 - acc: 0.7011 - val_loss: 2.0257 - val_acc: 0.5117\n",
            "Epoch 206/300\n",
            "15228/15228 [==============================] - 8s 494us/sample - loss: 0.9145 - acc: 0.6928 - val_loss: 1.9961 - val_acc: 0.5188\n",
            "Epoch 207/300\n",
            "15228/15228 [==============================] - 7s 488us/sample - loss: 0.9133 - acc: 0.6973 - val_loss: 2.0357 - val_acc: 0.5096\n",
            "Epoch 208/300\n",
            "15228/15228 [==============================] - 7s 490us/sample - loss: 0.9125 - acc: 0.6962 - val_loss: 1.9419 - val_acc: 0.5135\n",
            "Epoch 209/300\n",
            "15228/15228 [==============================] - 7s 491us/sample - loss: 0.9065 - acc: 0.7004 - val_loss: 2.0843 - val_acc: 0.5001\n",
            "Epoch 210/300\n",
            "15228/15228 [==============================] - 7s 491us/sample - loss: 0.9111 - acc: 0.6945 - val_loss: 2.0033 - val_acc: 0.5154\n",
            "Epoch 211/300\n",
            "15228/15228 [==============================] - 7s 485us/sample - loss: 0.9100 - acc: 0.6945 - val_loss: 1.9700 - val_acc: 0.5077\n",
            "Epoch 212/300\n",
            "15228/15228 [==============================] - 7s 489us/sample - loss: 0.9101 - acc: 0.6958 - val_loss: 2.0144 - val_acc: 0.5214\n",
            "Epoch 213/300\n",
            "15228/15228 [==============================] - 7s 491us/sample - loss: 0.9003 - acc: 0.7051 - val_loss: 2.1001 - val_acc: 0.4933\n",
            "Epoch 214/300\n",
            "15228/15228 [==============================] - 7s 490us/sample - loss: 0.9072 - acc: 0.6998 - val_loss: 1.9126 - val_acc: 0.5322\n",
            "Epoch 215/300\n",
            "15228/15228 [==============================] - 8s 493us/sample - loss: 0.9215 - acc: 0.6928 - val_loss: 1.9673 - val_acc: 0.5175\n",
            "Epoch 216/300\n",
            "15228/15228 [==============================] - 7s 490us/sample - loss: 0.9178 - acc: 0.6942 - val_loss: 2.1215 - val_acc: 0.4988\n",
            "Epoch 217/300\n",
            "15228/15228 [==============================] - 8s 495us/sample - loss: 0.9250 - acc: 0.6907 - val_loss: 1.9501 - val_acc: 0.5167\n",
            "Epoch 218/300\n",
            "15228/15228 [==============================] - 7s 491us/sample - loss: 0.9147 - acc: 0.6945 - val_loss: 2.1700 - val_acc: 0.5062\n",
            "Epoch 219/300\n",
            "15228/15228 [==============================] - 7s 492us/sample - loss: 0.9113 - acc: 0.6973 - val_loss: 1.9855 - val_acc: 0.5219\n",
            "Epoch 220/300\n",
            "15228/15228 [==============================] - 7s 488us/sample - loss: 0.9297 - acc: 0.6936 - val_loss: 2.0116 - val_acc: 0.5099\n",
            "Epoch 221/300\n",
            "15228/15228 [==============================] - 7s 492us/sample - loss: 0.9088 - acc: 0.7000 - val_loss: 2.0017 - val_acc: 0.5204\n",
            "Epoch 222/300\n",
            "15228/15228 [==============================] - 7s 488us/sample - loss: 0.9209 - acc: 0.6908 - val_loss: 1.9824 - val_acc: 0.5290\n",
            "Epoch 223/300\n",
            "15228/15228 [==============================] - 7s 488us/sample - loss: 0.9048 - acc: 0.7008 - val_loss: 2.0448 - val_acc: 0.5085\n",
            "Epoch 224/300\n",
            "15228/15228 [==============================] - 7s 489us/sample - loss: 0.9001 - acc: 0.7001 - val_loss: 2.1346 - val_acc: 0.4896\n",
            "Epoch 225/300\n",
            "15228/15228 [==============================] - 7s 489us/sample - loss: 0.9087 - acc: 0.7004 - val_loss: 1.9722 - val_acc: 0.5196\n",
            "Epoch 226/300\n",
            "15228/15228 [==============================] - 7s 490us/sample - loss: 0.8998 - acc: 0.7004 - val_loss: 2.2139 - val_acc: 0.4925\n",
            "Epoch 227/300\n",
            "15228/15228 [==============================] - 7s 489us/sample - loss: 0.9176 - acc: 0.6933 - val_loss: 2.0562 - val_acc: 0.5072\n",
            "Epoch 228/300\n",
            "15228/15228 [==============================] - 7s 487us/sample - loss: 0.9077 - acc: 0.7006 - val_loss: 2.0936 - val_acc: 0.5133\n",
            "Epoch 229/300\n",
            "15228/15228 [==============================] - 7s 488us/sample - loss: 0.9105 - acc: 0.6941 - val_loss: 1.9829 - val_acc: 0.5167\n",
            "Epoch 230/300\n",
            "15228/15228 [==============================] - 8s 494us/sample - loss: 0.9057 - acc: 0.6969 - val_loss: 2.0612 - val_acc: 0.5014\n",
            "Epoch 231/300\n",
            "15228/15228 [==============================] - 7s 489us/sample - loss: 0.9102 - acc: 0.6989 - val_loss: 1.9659 - val_acc: 0.5327\n",
            "Epoch 232/300\n",
            "15228/15228 [==============================] - 7s 489us/sample - loss: 0.9268 - acc: 0.6927 - val_loss: 2.1008 - val_acc: 0.5077\n",
            "Epoch 233/300\n",
            "15228/15228 [==============================] - 7s 491us/sample - loss: 0.8935 - acc: 0.7042 - val_loss: 2.0901 - val_acc: 0.5193\n",
            "Epoch 234/300\n",
            "15228/15228 [==============================] - 8s 495us/sample - loss: 0.8988 - acc: 0.7027 - val_loss: 2.0728 - val_acc: 0.5148\n",
            "Epoch 235/300\n",
            "15228/15228 [==============================] - 7s 488us/sample - loss: 0.8979 - acc: 0.7022 - val_loss: 2.0932 - val_acc: 0.5017\n",
            "Epoch 236/300\n",
            "15228/15228 [==============================] - 7s 489us/sample - loss: 0.9162 - acc: 0.6940 - val_loss: 1.9937 - val_acc: 0.5198\n",
            "Epoch 237/300\n",
            "15228/15228 [==============================] - 8s 494us/sample - loss: 0.9045 - acc: 0.6981 - val_loss: 1.9856 - val_acc: 0.5133\n",
            "Epoch 238/300\n",
            "15228/15228 [==============================] - 7s 488us/sample - loss: 0.9091 - acc: 0.6992 - val_loss: 2.0794 - val_acc: 0.5180\n",
            "Epoch 239/300\n",
            "15228/15228 [==============================] - 7s 487us/sample - loss: 0.9058 - acc: 0.6989 - val_loss: 2.0756 - val_acc: 0.5125\n",
            "Epoch 240/300\n",
            "15228/15228 [==============================] - 8s 502us/sample - loss: 0.8962 - acc: 0.7000 - val_loss: 2.1376 - val_acc: 0.5009\n",
            "Epoch 241/300\n",
            "15228/15228 [==============================] - 8s 495us/sample - loss: 0.9042 - acc: 0.7007 - val_loss: 2.1231 - val_acc: 0.5043\n",
            "Epoch 242/300\n",
            "15228/15228 [==============================] - 8s 505us/sample - loss: 0.9147 - acc: 0.6978 - val_loss: 2.0201 - val_acc: 0.5151\n",
            "Epoch 243/300\n",
            "15228/15228 [==============================] - 7s 491us/sample - loss: 0.9093 - acc: 0.7019 - val_loss: 2.1288 - val_acc: 0.4991\n",
            "Epoch 244/300\n",
            "15228/15228 [==============================] - 7s 486us/sample - loss: 0.9163 - acc: 0.6941 - val_loss: 2.1414 - val_acc: 0.5022\n",
            "Epoch 245/300\n",
            "15228/15228 [==============================] - 7s 489us/sample - loss: 0.9196 - acc: 0.6953 - val_loss: 2.0460 - val_acc: 0.5172\n",
            "Epoch 246/300\n",
            "15228/15228 [==============================] - 7s 490us/sample - loss: 0.9093 - acc: 0.6967 - val_loss: 2.0545 - val_acc: 0.5246\n",
            "Epoch 247/300\n",
            "15228/15228 [==============================] - 7s 488us/sample - loss: 0.9145 - acc: 0.7005 - val_loss: 2.0846 - val_acc: 0.5083\n",
            "Epoch 248/300\n",
            "15228/15228 [==============================] - 7s 490us/sample - loss: 0.9043 - acc: 0.7002 - val_loss: 2.0157 - val_acc: 0.5267\n",
            "Epoch 249/300\n",
            "15228/15228 [==============================] - 7s 487us/sample - loss: 0.9075 - acc: 0.6974 - val_loss: 1.9933 - val_acc: 0.5196\n",
            "Epoch 250/300\n",
            "15228/15228 [==============================] - 7s 488us/sample - loss: 0.8956 - acc: 0.7047 - val_loss: 2.1423 - val_acc: 0.4930\n",
            "Epoch 251/300\n",
            "15228/15228 [==============================] - 7s 487us/sample - loss: 0.9021 - acc: 0.7038 - val_loss: 2.0843 - val_acc: 0.5183\n",
            "Epoch 252/300\n",
            "15228/15228 [==============================] - 7s 487us/sample - loss: 0.9089 - acc: 0.7037 - val_loss: 2.0875 - val_acc: 0.5151\n",
            "Epoch 253/300\n",
            "15228/15228 [==============================] - 7s 492us/sample - loss: 0.9078 - acc: 0.7003 - val_loss: 2.0237 - val_acc: 0.5185\n",
            "Epoch 254/300\n",
            "15228/15228 [==============================] - 7s 488us/sample - loss: 0.9049 - acc: 0.7034 - val_loss: 2.1048 - val_acc: 0.5122\n",
            "Epoch 255/300\n",
            "15228/15228 [==============================] - 7s 487us/sample - loss: 0.8982 - acc: 0.7003 - val_loss: 2.1777 - val_acc: 0.5043\n",
            "Epoch 256/300\n",
            "15228/15228 [==============================] - 7s 489us/sample - loss: 0.9200 - acc: 0.6952 - val_loss: 2.0614 - val_acc: 0.5112\n",
            "Epoch 257/300\n",
            "15228/15228 [==============================] - 7s 485us/sample - loss: 0.9086 - acc: 0.6977 - val_loss: 2.1680 - val_acc: 0.5054\n",
            "Epoch 258/300\n",
            "15228/15228 [==============================] - 7s 492us/sample - loss: 0.9025 - acc: 0.7030 - val_loss: 2.0023 - val_acc: 0.5185\n",
            "Epoch 259/300\n",
            "15228/15228 [==============================] - 7s 487us/sample - loss: 0.9070 - acc: 0.7001 - val_loss: 2.0619 - val_acc: 0.5096\n",
            "Epoch 260/300\n",
            "15228/15228 [==============================] - 7s 482us/sample - loss: 0.8939 - acc: 0.7076 - val_loss: 2.1981 - val_acc: 0.4991\n",
            "Epoch 261/300\n",
            "15228/15228 [==============================] - 7s 488us/sample - loss: 0.8980 - acc: 0.7000 - val_loss: 2.1251 - val_acc: 0.5064\n",
            "Epoch 262/300\n",
            "15228/15228 [==============================] - 7s 485us/sample - loss: 0.9038 - acc: 0.6954 - val_loss: 2.1321 - val_acc: 0.5104\n",
            "Epoch 263/300\n",
            "15228/15228 [==============================] - 7s 484us/sample - loss: 0.9005 - acc: 0.6999 - val_loss: 2.0733 - val_acc: 0.5099\n",
            "Epoch 264/300\n",
            "15228/15228 [==============================] - 7s 481us/sample - loss: 0.8955 - acc: 0.7079 - val_loss: 2.0646 - val_acc: 0.5211\n",
            "Epoch 265/300\n",
            "15228/15228 [==============================] - 7s 481us/sample - loss: 0.8993 - acc: 0.7052 - val_loss: 2.0309 - val_acc: 0.5272\n",
            "Epoch 266/300\n",
            "15228/15228 [==============================] - 7s 484us/sample - loss: 0.9006 - acc: 0.7028 - val_loss: 2.1421 - val_acc: 0.5156\n",
            "Epoch 267/300\n",
            "15228/15228 [==============================] - 7s 481us/sample - loss: 0.9018 - acc: 0.7037 - val_loss: 2.1034 - val_acc: 0.5154\n",
            "Epoch 268/300\n",
            "15228/15228 [==============================] - 7s 482us/sample - loss: 0.9132 - acc: 0.6944 - val_loss: 1.9877 - val_acc: 0.5196\n",
            "Epoch 269/300\n",
            "15228/15228 [==============================] - 7s 488us/sample - loss: 0.9157 - acc: 0.6927 - val_loss: 2.2431 - val_acc: 0.4933\n",
            "Epoch 270/300\n",
            "15228/15228 [==============================] - 7s 487us/sample - loss: 0.9117 - acc: 0.6966 - val_loss: 2.1910 - val_acc: 0.5004\n",
            "Epoch 271/300\n",
            "15228/15228 [==============================] - 7s 481us/sample - loss: 0.9022 - acc: 0.7040 - val_loss: 2.2246 - val_acc: 0.4951\n",
            "Epoch 272/300\n",
            "15228/15228 [==============================] - 7s 482us/sample - loss: 0.9060 - acc: 0.6986 - val_loss: 2.0993 - val_acc: 0.5046\n",
            "Epoch 273/300\n",
            "15228/15228 [==============================] - 7s 482us/sample - loss: 0.9085 - acc: 0.6989 - val_loss: 2.1339 - val_acc: 0.5083\n",
            "Epoch 274/300\n",
            "15228/15228 [==============================] - 7s 483us/sample - loss: 0.9131 - acc: 0.6984 - val_loss: 2.0816 - val_acc: 0.5164\n",
            "Epoch 275/300\n",
            "15228/15228 [==============================] - 7s 487us/sample - loss: 0.9106 - acc: 0.6974 - val_loss: 2.0375 - val_acc: 0.5117\n",
            "Epoch 276/300\n",
            "15228/15228 [==============================] - 7s 486us/sample - loss: 0.8919 - acc: 0.7060 - val_loss: 2.0918 - val_acc: 0.5190\n",
            "Epoch 277/300\n",
            "15228/15228 [==============================] - 7s 482us/sample - loss: 0.8896 - acc: 0.7072 - val_loss: 2.1189 - val_acc: 0.5143\n",
            "Epoch 278/300\n",
            "15228/15228 [==============================] - 7s 485us/sample - loss: 0.9048 - acc: 0.7015 - val_loss: 2.0464 - val_acc: 0.5148\n",
            "Epoch 279/300\n",
            "15228/15228 [==============================] - 8s 499us/sample - loss: 0.8954 - acc: 0.7033 - val_loss: 2.0752 - val_acc: 0.5130\n",
            "Epoch 280/300\n",
            "15228/15228 [==============================] - 8s 493us/sample - loss: 0.9115 - acc: 0.6958 - val_loss: 2.1857 - val_acc: 0.5117\n",
            "Epoch 281/300\n",
            "15228/15228 [==============================] - 8s 496us/sample - loss: 0.9030 - acc: 0.7023 - val_loss: 2.1330 - val_acc: 0.5046\n",
            "Epoch 282/300\n",
            "15228/15228 [==============================] - 8s 502us/sample - loss: 0.8851 - acc: 0.7048 - val_loss: 2.0844 - val_acc: 0.5093\n",
            "Epoch 283/300\n",
            "15228/15228 [==============================] - 8s 523us/sample - loss: 0.9064 - acc: 0.7050 - val_loss: 2.1878 - val_acc: 0.4965\n",
            "Epoch 284/300\n",
            "15228/15228 [==============================] - 8s 522us/sample - loss: 0.8950 - acc: 0.7053 - val_loss: 2.0880 - val_acc: 0.5214\n",
            "Epoch 285/300\n",
            "15228/15228 [==============================] - 8s 521us/sample - loss: 0.8962 - acc: 0.7071 - val_loss: 2.1906 - val_acc: 0.5014\n",
            "Epoch 286/300\n",
            "15228/15228 [==============================] - 8s 503us/sample - loss: 0.8994 - acc: 0.7074 - val_loss: 2.1543 - val_acc: 0.5093\n",
            "Epoch 287/300\n",
            "15228/15228 [==============================] - 8s 496us/sample - loss: 0.8946 - acc: 0.7071 - val_loss: 2.2219 - val_acc: 0.5001\n",
            "Epoch 288/300\n",
            "15228/15228 [==============================] - 8s 500us/sample - loss: 0.9059 - acc: 0.7011 - val_loss: 2.1581 - val_acc: 0.5012\n",
            "Epoch 289/300\n",
            "15228/15228 [==============================] - 8s 505us/sample - loss: 0.9132 - acc: 0.6976 - val_loss: 2.0376 - val_acc: 0.5259\n",
            "Epoch 290/300\n",
            "15228/15228 [==============================] - 8s 521us/sample - loss: 0.9080 - acc: 0.7012 - val_loss: 2.1621 - val_acc: 0.5080\n",
            "Epoch 291/300\n",
            "15228/15228 [==============================] - 8s 494us/sample - loss: 0.8989 - acc: 0.7055 - val_loss: 2.0649 - val_acc: 0.5196\n",
            "Epoch 292/300\n",
            "15228/15228 [==============================] - 8s 497us/sample - loss: 0.9008 - acc: 0.7000 - val_loss: 2.1457 - val_acc: 0.5164\n",
            "Epoch 293/300\n",
            "15228/15228 [==============================] - 8s 499us/sample - loss: 0.8986 - acc: 0.7028 - val_loss: 2.1812 - val_acc: 0.5151\n",
            "Epoch 294/300\n",
            "15228/15228 [==============================] - 8s 502us/sample - loss: 0.8999 - acc: 0.7044 - val_loss: 2.2093 - val_acc: 0.4946\n",
            "Epoch 295/300\n",
            "15228/15228 [==============================] - 8s 500us/sample - loss: 0.8907 - acc: 0.7051 - val_loss: 2.0981 - val_acc: 0.5141\n",
            "Epoch 296/300\n",
            "15228/15228 [==============================] - 8s 499us/sample - loss: 0.9064 - acc: 0.7041 - val_loss: 2.0932 - val_acc: 0.5054\n",
            "Epoch 297/300\n",
            "15228/15228 [==============================] - 8s 506us/sample - loss: 0.9042 - acc: 0.6981 - val_loss: 2.2118 - val_acc: 0.5007\n",
            "Epoch 298/300\n",
            "15228/15228 [==============================] - 8s 515us/sample - loss: 0.9075 - acc: 0.7025 - val_loss: 2.1113 - val_acc: 0.5120\n",
            "Epoch 299/300\n",
            "15228/15228 [==============================] - 8s 509us/sample - loss: 0.8925 - acc: 0.7082 - val_loss: 2.1289 - val_acc: 0.5151\n",
            "Epoch 300/300\n",
            "15228/15228 [==============================] - 8s 504us/sample - loss: 0.9002 - acc: 0.7015 - val_loss: 2.0261 - val_acc: 0.5332\n"
          ],
          "name": "stdout"
        }
      ]
    },
    {
      "cell_type": "code",
      "metadata": {
        "id": "CXoaB0OidksE",
        "colab_type": "code",
        "outputId": "7a9c3909-b331-46c8-9a35-22c623025a54",
        "colab": {
          "base_uri": "https://localhost:8080/",
          "height": 85
        }
      },
      "source": [
        "print(X_test[0].shape)\n",
        "y_test_onehot = one_hot_matrix(y_test[0], C = 4)\n",
        "y_test_onehot = y_test_onehot.T\n",
        "preds = model.evaluate(x = X_test[0],y = y_test_onehot)\n",
        "print (\"Loss = \" + str(preds[0]))\n",
        "print (\"Test Accuracy = \" + str(preds[1]))"
      ],
      "execution_count": 0,
      "outputs": [
        {
          "output_type": "stream",
          "text": [
            "(450, 22, 16, 16)\n",
            "450/450 [==============================] - 0s 794us/sample - loss: 1.5310 - acc: 0.4644\n",
            "Loss = 1.5310091659757825\n",
            "Test Accuracy = 0.46444446\n"
          ],
          "name": "stdout"
        }
      ]
    },
    {
      "cell_type": "code",
      "metadata": {
        "id": "RXMj46MydlnT",
        "colab_type": "code",
        "outputId": "e60ea754-6247-48a2-cb19-c9ccd222a3d2",
        "colab": {
          "base_uri": "https://localhost:8080/",
          "height": 247
        }
      },
      "source": [
        "print(history.history.keys())  \n",
        "   \n",
        "plt.figure(1)  \n",
        "\n",
        "plt.subplot(211)  \n",
        "plt.plot(history.history['acc'])  \n",
        "plt.plot(history.history['val_acc'])  \n",
        "plt.title('CRNN model accuracy')  \n",
        "plt.ylabel('accuracy')  \n",
        "plt.xlabel('epoch')  \n",
        "plt.legend(['train_accuracy', 'validation_accuracy'], loc='upper left')"
      ],
      "execution_count": 0,
      "outputs": [
        {
          "output_type": "stream",
          "text": [
            "dict_keys(['loss', 'acc', 'val_loss', 'val_acc'])\n"
          ],
          "name": "stdout"
        },
        {
          "output_type": "execute_result",
          "data": {
            "text/plain": [
              "<matplotlib.legend.Legend at 0x7fa42ce78048>"
            ]
          },
          "metadata": {
            "tags": []
          },
          "execution_count": 119
        },
        {
          "output_type": "display_data",
          "data": {
            "image/png": "[encoded data removed]",
            "text/plain": [
              "<Figure size 576x396 with 1 Axes>"
            ]
          },
          "metadata": {
            "tags": []
          }
        }
      ]
    },
    {
      "cell_type": "code",
      "metadata": {
        "id": "cc5OK5rcdrzh",
        "colab_type": "code",
        "outputId": "3e4bc7f4-d199-440e-9279-834b5ce8699d",
        "colab": {
          "base_uri": "https://localhost:8080/",
          "height": 230
        }
      },
      "source": [
        "plt.figure(1)  \n",
        "\n",
        "# summarize history for accuracy  \n",
        "\n",
        "plt.subplot(211)  \n",
        "plt.plot(history.history['loss'])  \n",
        "plt.plot(history.history['val_loss'])  \n",
        "plt.title('CRNN model loss - learning curve')  \n",
        "plt.ylabel('loss')  \n",
        "plt.xlabel('epoch')  \n",
        "plt.legend(['train_loss', 'validation_loss'], loc='upper left')"
      ],
      "execution_count": 0,
      "outputs": [
        {
          "output_type": "execute_result",
          "data": {
            "text/plain": [
              "<matplotlib.legend.Legend at 0x7fa42ce5abe0>"
            ]
          },
          "metadata": {
            "tags": []
          },
          "execution_count": 120
        },
        {
          "output_type": "display_data",
          "data": {
            "image/png": "[encoded data removed]",
            "text/plain": [
              "<Figure size 576x396 with 1 Axes>"
            ]
          },
          "metadata": {
            "tags": []
          }
        }
      ]
    },
    {
      "cell_type": "code",
      "metadata": {
        "id": "64xF8VFULbco",
        "colab_type": "code",
        "outputId": "237f55f5-a65f-43a1-b03e-d65fb364201d",
        "colab": {
          "base_uri": "https://localhost:8080/",
          "height": 3488
        }
      },
      "source": [
        "model = CRNN_Model(input_shape = (C, F, T))\n",
        "optimizer = optimizers.Adam(lr=0.02)\n",
        "model.compile(loss='categorical_crossentropy', optimizer='Adam', metrics=['accuracy'])\n",
        "history = model.fit(x = X_train_valid_all, y = y_train_all_onehot, \n",
        "                    epochs = 100, batch_size = 512, \n",
        "                    validation_split = 0.2, shuffle = 1, verbose = 1)  "
      ],
      "execution_count": 0,
      "outputs": [
        {
          "output_type": "stream",
          "text": [
            "(?, 16, 22, 16)\n",
            "(?, 16, 352)\n",
            "Train on 15228 samples, validate on 3807 samples\n",
            "Epoch 1/100\n",
            "15228/15228 [==============================] - 8s 506us/sample - loss: 5.2827 - acc: 0.2720 - val_loss: 4.4743 - val_acc: 0.2958\n",
            "Epoch 2/100\n",
            "15228/15228 [==============================] - 3s 223us/sample - loss: 4.0079 - acc: 0.3073 - val_loss: 3.6444 - val_acc: 0.3094\n",
            "Epoch 3/100\n",
            "15228/15228 [==============================] - 3s 222us/sample - loss: 3.2893 - acc: 0.3496 - val_loss: 3.1053 - val_acc: 0.3367\n",
            "Epoch 4/100\n",
            "15228/15228 [==============================] - 3s 223us/sample - loss: 2.8201 - acc: 0.3817 - val_loss: 2.8389 - val_acc: 0.3107\n",
            "Epoch 5/100\n",
            "15228/15228 [==============================] - 3s 225us/sample - loss: 2.4686 - acc: 0.4082 - val_loss: 2.4464 - val_acc: 0.3580\n",
            "Epoch 6/100\n",
            "15228/15228 [==============================] - 3s 224us/sample - loss: 2.1914 - acc: 0.4301 - val_loss: 2.2778 - val_acc: 0.3449\n",
            "Epoch 7/100\n",
            "15228/15228 [==============================] - 3s 224us/sample - loss: 1.9609 - acc: 0.4467 - val_loss: 2.1420 - val_acc: 0.3386\n",
            "Epoch 8/100\n",
            "15228/15228 [==============================] - 3s 225us/sample - loss: 1.7794 - acc: 0.4549 - val_loss: 1.8879 - val_acc: 0.3654\n",
            "Epoch 9/100\n",
            "15228/15228 [==============================] - 3s 225us/sample - loss: 1.6362 - acc: 0.4647 - val_loss: 1.8386 - val_acc: 0.3654\n",
            "Epoch 10/100\n",
            "15228/15228 [==============================] - 3s 224us/sample - loss: 1.5287 - acc: 0.4693 - val_loss: 1.7936 - val_acc: 0.3719\n",
            "Epoch 11/100\n",
            "15228/15228 [==============================] - 3s 222us/sample - loss: 1.4573 - acc: 0.4736 - val_loss: 1.7285 - val_acc: 0.3751\n",
            "Epoch 12/100\n",
            "15228/15228 [==============================] - 3s 223us/sample - loss: 1.4052 - acc: 0.4808 - val_loss: 1.7051 - val_acc: 0.3914\n",
            "Epoch 13/100\n",
            "15228/15228 [==============================] - 3s 225us/sample - loss: 1.3636 - acc: 0.4904 - val_loss: 1.7200 - val_acc: 0.3788\n",
            "Epoch 14/100\n",
            "15228/15228 [==============================] - 3s 225us/sample - loss: 1.3340 - acc: 0.4949 - val_loss: 1.7556 - val_acc: 0.3945\n",
            "Epoch 15/100\n",
            "15228/15228 [==============================] - 3s 226us/sample - loss: 1.3104 - acc: 0.5024 - val_loss: 1.7872 - val_acc: 0.3783\n",
            "Epoch 16/100\n",
            "15228/15228 [==============================] - 3s 224us/sample - loss: 1.2880 - acc: 0.5086 - val_loss: 1.6615 - val_acc: 0.4195\n",
            "Epoch 17/100\n",
            "15228/15228 [==============================] - 3s 220us/sample - loss: 1.2735 - acc: 0.5087 - val_loss: 1.7308 - val_acc: 0.3993\n",
            "Epoch 18/100\n",
            "15228/15228 [==============================] - 3s 220us/sample - loss: 1.2560 - acc: 0.5186 - val_loss: 1.7337 - val_acc: 0.3995\n",
            "Epoch 19/100\n",
            "15228/15228 [==============================] - 3s 217us/sample - loss: 1.2417 - acc: 0.5208 - val_loss: 1.6965 - val_acc: 0.4258\n",
            "Epoch 20/100\n",
            "15228/15228 [==============================] - 3s 222us/sample - loss: 1.2314 - acc: 0.5220 - val_loss: 1.6911 - val_acc: 0.4208\n",
            "Epoch 21/100\n",
            "15228/15228 [==============================] - 3s 221us/sample - loss: 1.2111 - acc: 0.5358 - val_loss: 1.7015 - val_acc: 0.4358\n",
            "Epoch 22/100\n",
            "15228/15228 [==============================] - 3s 221us/sample - loss: 1.2023 - acc: 0.5351 - val_loss: 1.7081 - val_acc: 0.4339\n",
            "Epoch 23/100\n",
            "15228/15228 [==============================] - 3s 219us/sample - loss: 1.1945 - acc: 0.5376 - val_loss: 1.7096 - val_acc: 0.4229\n",
            "Epoch 24/100\n",
            "15228/15228 [==============================] - 3s 223us/sample - loss: 1.1877 - acc: 0.5393 - val_loss: 1.7135 - val_acc: 0.4339\n",
            "Epoch 25/100\n",
            "15228/15228 [==============================] - 3s 223us/sample - loss: 1.1746 - acc: 0.5465 - val_loss: 1.7216 - val_acc: 0.4389\n",
            "Epoch 26/100\n",
            "15228/15228 [==============================] - 3s 221us/sample - loss: 1.1678 - acc: 0.5502 - val_loss: 1.6791 - val_acc: 0.4468\n",
            "Epoch 27/100\n",
            "15228/15228 [==============================] - 3s 221us/sample - loss: 1.1578 - acc: 0.5553 - val_loss: 1.6709 - val_acc: 0.4547\n",
            "Epoch 28/100\n",
            "15228/15228 [==============================] - 3s 220us/sample - loss: 1.1544 - acc: 0.5561 - val_loss: 1.6794 - val_acc: 0.4442\n",
            "Epoch 29/100\n",
            "15228/15228 [==============================] - 3s 219us/sample - loss: 1.1413 - acc: 0.5582 - val_loss: 1.7353 - val_acc: 0.4384\n",
            "Epoch 30/100\n",
            "15228/15228 [==============================] - 3s 222us/sample - loss: 1.1390 - acc: 0.5656 - val_loss: 1.6653 - val_acc: 0.4505\n",
            "Epoch 31/100\n",
            "15228/15228 [==============================] - 3s 220us/sample - loss: 1.1349 - acc: 0.5640 - val_loss: 1.7233 - val_acc: 0.4694\n",
            "Epoch 32/100\n",
            "15228/15228 [==============================] - 3s 222us/sample - loss: 1.1235 - acc: 0.5724 - val_loss: 1.6854 - val_acc: 0.4610\n",
            "Epoch 33/100\n",
            "15228/15228 [==============================] - 3s 223us/sample - loss: 1.1204 - acc: 0.5731 - val_loss: 1.7336 - val_acc: 0.4602\n",
            "Epoch 34/100\n",
            "15228/15228 [==============================] - 3s 222us/sample - loss: 1.1173 - acc: 0.5763 - val_loss: 1.7068 - val_acc: 0.4589\n",
            "Epoch 35/100\n",
            "15228/15228 [==============================] - 3s 223us/sample - loss: 1.1129 - acc: 0.5751 - val_loss: 1.7526 - val_acc: 0.4518\n",
            "Epoch 36/100\n",
            "15228/15228 [==============================] - 3s 223us/sample - loss: 1.1068 - acc: 0.5794 - val_loss: 1.8608 - val_acc: 0.4431\n",
            "Epoch 37/100\n",
            "15228/15228 [==============================] - 3s 223us/sample - loss: 1.1096 - acc: 0.5790 - val_loss: 1.7007 - val_acc: 0.4731\n",
            "Epoch 38/100\n",
            "15228/15228 [==============================] - 3s 221us/sample - loss: 1.0992 - acc: 0.5851 - val_loss: 1.7632 - val_acc: 0.4568\n",
            "Epoch 39/100\n",
            "15228/15228 [==============================] - 3s 221us/sample - loss: 1.0935 - acc: 0.5832 - val_loss: 1.7588 - val_acc: 0.4539\n",
            "Epoch 40/100\n",
            "15228/15228 [==============================] - 3s 220us/sample - loss: 1.0902 - acc: 0.5894 - val_loss: 1.6944 - val_acc: 0.4815\n",
            "Epoch 41/100\n",
            "15228/15228 [==============================] - 3s 221us/sample - loss: 1.0852 - acc: 0.5864 - val_loss: 1.7760 - val_acc: 0.4726\n",
            "Epoch 42/100\n",
            "15228/15228 [==============================] - 3s 220us/sample - loss: 1.0841 - acc: 0.5942 - val_loss: 1.7589 - val_acc: 0.4613\n",
            "Epoch 43/100\n",
            "15228/15228 [==============================] - 3s 222us/sample - loss: 1.0785 - acc: 0.5988 - val_loss: 1.7269 - val_acc: 0.4720\n",
            "Epoch 44/100\n",
            "15228/15228 [==============================] - 3s 221us/sample - loss: 1.0751 - acc: 0.5984 - val_loss: 1.8458 - val_acc: 0.4423\n",
            "Epoch 45/100\n",
            "15228/15228 [==============================] - 3s 220us/sample - loss: 1.0715 - acc: 0.6063 - val_loss: 1.7425 - val_acc: 0.4683\n",
            "Epoch 46/100\n",
            "15228/15228 [==============================] - 3s 220us/sample - loss: 1.0659 - acc: 0.6030 - val_loss: 1.8101 - val_acc: 0.4573\n",
            "Epoch 47/100\n",
            "15228/15228 [==============================] - 3s 220us/sample - loss: 1.0678 - acc: 0.6015 - val_loss: 1.7615 - val_acc: 0.4662\n",
            "Epoch 48/100\n",
            "15228/15228 [==============================] - 3s 222us/sample - loss: 1.0668 - acc: 0.6007 - val_loss: 1.7587 - val_acc: 0.4765\n",
            "Epoch 49/100\n",
            "15228/15228 [==============================] - 3s 224us/sample - loss: 1.0620 - acc: 0.6024 - val_loss: 1.7587 - val_acc: 0.4707\n",
            "Epoch 50/100\n",
            "15228/15228 [==============================] - 3s 219us/sample - loss: 1.0573 - acc: 0.6075 - val_loss: 1.7490 - val_acc: 0.4812\n",
            "Epoch 51/100\n",
            "15228/15228 [==============================] - 3s 221us/sample - loss: 1.0563 - acc: 0.6103 - val_loss: 1.7290 - val_acc: 0.4768\n",
            "Epoch 52/100\n",
            "15228/15228 [==============================] - 3s 218us/sample - loss: 1.0459 - acc: 0.6122 - val_loss: 1.7503 - val_acc: 0.4878\n",
            "Epoch 53/100\n",
            "15228/15228 [==============================] - 3s 224us/sample - loss: 1.0551 - acc: 0.6071 - val_loss: 1.7758 - val_acc: 0.4670\n",
            "Epoch 54/100\n",
            "15228/15228 [==============================] - 3s 222us/sample - loss: 1.0505 - acc: 0.6095 - val_loss: 1.8082 - val_acc: 0.4676\n",
            "Epoch 55/100\n",
            "15228/15228 [==============================] - 3s 220us/sample - loss: 1.0495 - acc: 0.6087 - val_loss: 1.7422 - val_acc: 0.4802\n",
            "Epoch 56/100\n",
            "15228/15228 [==============================] - 3s 223us/sample - loss: 1.0439 - acc: 0.6147 - val_loss: 1.7334 - val_acc: 0.4867\n",
            "Epoch 57/100\n",
            "15228/15228 [==============================] - 3s 222us/sample - loss: 1.0308 - acc: 0.6188 - val_loss: 1.8494 - val_acc: 0.4662\n",
            "Epoch 58/100\n",
            "15228/15228 [==============================] - 3s 222us/sample - loss: 1.0440 - acc: 0.6145 - val_loss: 1.8217 - val_acc: 0.4796\n",
            "Epoch 59/100\n",
            "15228/15228 [==============================] - 3s 218us/sample - loss: 1.0362 - acc: 0.6165 - val_loss: 1.8276 - val_acc: 0.4649\n",
            "Epoch 60/100\n",
            "15228/15228 [==============================] - 3s 221us/sample - loss: 1.0362 - acc: 0.6193 - val_loss: 1.8877 - val_acc: 0.4623\n",
            "Epoch 61/100\n",
            "15228/15228 [==============================] - 3s 219us/sample - loss: 1.0341 - acc: 0.6222 - val_loss: 1.7902 - val_acc: 0.4718\n",
            "Epoch 62/100\n",
            "15228/15228 [==============================] - 3s 219us/sample - loss: 1.0295 - acc: 0.6200 - val_loss: 1.7907 - val_acc: 0.4781\n",
            "Epoch 63/100\n",
            "15228/15228 [==============================] - 3s 221us/sample - loss: 1.0285 - acc: 0.6220 - val_loss: 1.8140 - val_acc: 0.4697\n",
            "Epoch 64/100\n",
            "15228/15228 [==============================] - 3s 222us/sample - loss: 1.0210 - acc: 0.6261 - val_loss: 1.8108 - val_acc: 0.4831\n",
            "Epoch 65/100\n",
            "15228/15228 [==============================] - 3s 219us/sample - loss: 1.0254 - acc: 0.6244 - val_loss: 1.8576 - val_acc: 0.4718\n",
            "Epoch 66/100\n",
            "15228/15228 [==============================] - 3s 221us/sample - loss: 1.0245 - acc: 0.6230 - val_loss: 1.8755 - val_acc: 0.4592\n",
            "Epoch 67/100\n",
            "15228/15228 [==============================] - 3s 220us/sample - loss: 1.0292 - acc: 0.6256 - val_loss: 1.9298 - val_acc: 0.4531\n",
            "Epoch 68/100\n",
            "15228/15228 [==============================] - 3s 222us/sample - loss: 1.0295 - acc: 0.6257 - val_loss: 1.8871 - val_acc: 0.4733\n",
            "Epoch 69/100\n",
            "15228/15228 [==============================] - 3s 220us/sample - loss: 1.0184 - acc: 0.6278 - val_loss: 1.9092 - val_acc: 0.4649\n",
            "Epoch 70/100\n",
            "15228/15228 [==============================] - 3s 220us/sample - loss: 1.0185 - acc: 0.6305 - val_loss: 1.9017 - val_acc: 0.4620\n",
            "Epoch 71/100\n",
            "15228/15228 [==============================] - 3s 220us/sample - loss: 1.0123 - acc: 0.6298 - val_loss: 1.8737 - val_acc: 0.4678\n",
            "Epoch 72/100\n",
            "15228/15228 [==============================] - 3s 222us/sample - loss: 1.0214 - acc: 0.6294 - val_loss: 1.8548 - val_acc: 0.4768\n",
            "Epoch 73/100\n",
            "15228/15228 [==============================] - 3s 220us/sample - loss: 1.0141 - acc: 0.6316 - val_loss: 1.7864 - val_acc: 0.4951\n",
            "Epoch 74/100\n",
            "15228/15228 [==============================] - 3s 221us/sample - loss: 1.0173 - acc: 0.6253 - val_loss: 1.8208 - val_acc: 0.4970\n",
            "Epoch 75/100\n",
            "15228/15228 [==============================] - 3s 222us/sample - loss: 1.0076 - acc: 0.6358 - val_loss: 1.9172 - val_acc: 0.4665\n",
            "Epoch 76/100\n",
            "15228/15228 [==============================] - 3s 221us/sample - loss: 1.0106 - acc: 0.6367 - val_loss: 1.9041 - val_acc: 0.4765\n",
            "Epoch 77/100\n",
            "15228/15228 [==============================] - 3s 220us/sample - loss: 1.0119 - acc: 0.6330 - val_loss: 1.8164 - val_acc: 0.4828\n",
            "Epoch 78/100\n",
            "15228/15228 [==============================] - 3s 222us/sample - loss: 1.0046 - acc: 0.6369 - val_loss: 1.8633 - val_acc: 0.4749\n",
            "Epoch 79/100\n",
            "15228/15228 [==============================] - 3s 222us/sample - loss: 1.0089 - acc: 0.6350 - val_loss: 1.8465 - val_acc: 0.4857\n",
            "Epoch 80/100\n",
            "15228/15228 [==============================] - 3s 222us/sample - loss: 1.0042 - acc: 0.6344 - val_loss: 1.8923 - val_acc: 0.4875\n",
            "Epoch 81/100\n",
            "15228/15228 [==============================] - 3s 221us/sample - loss: 0.9980 - acc: 0.6367 - val_loss: 1.8643 - val_acc: 0.4841\n",
            "Epoch 82/100\n",
            "15228/15228 [==============================] - 3s 222us/sample - loss: 0.9977 - acc: 0.6372 - val_loss: 1.8682 - val_acc: 0.4825\n",
            "Epoch 83/100\n",
            "15228/15228 [==============================] - 3s 221us/sample - loss: 0.9991 - acc: 0.6416 - val_loss: 1.8905 - val_acc: 0.4930\n",
            "Epoch 84/100\n",
            "15228/15228 [==============================] - 3s 219us/sample - loss: 1.0010 - acc: 0.6353 - val_loss: 1.8979 - val_acc: 0.4775\n",
            "Epoch 85/100\n",
            "15228/15228 [==============================] - 3s 220us/sample - loss: 0.9981 - acc: 0.6405 - val_loss: 1.9361 - val_acc: 0.4880\n",
            "Epoch 86/100\n",
            "15228/15228 [==============================] - 3s 222us/sample - loss: 0.9921 - acc: 0.6427 - val_loss: 1.7817 - val_acc: 0.4896\n",
            "Epoch 87/100\n",
            "15228/15228 [==============================] - 3s 223us/sample - loss: 0.9929 - acc: 0.6430 - val_loss: 1.8912 - val_acc: 0.4909\n",
            "Epoch 88/100\n",
            "15228/15228 [==============================] - 3s 220us/sample - loss: 0.9899 - acc: 0.6380 - val_loss: 1.8186 - val_acc: 0.4933\n",
            "Epoch 89/100\n",
            "15228/15228 [==============================] - 3s 222us/sample - loss: 0.9901 - acc: 0.6411 - val_loss: 1.8458 - val_acc: 0.4867\n",
            "Epoch 90/100\n",
            "15228/15228 [==============================] - 3s 222us/sample - loss: 0.9935 - acc: 0.6419 - val_loss: 1.8955 - val_acc: 0.4796\n",
            "Epoch 91/100\n",
            "15228/15228 [==============================] - 3s 224us/sample - loss: 0.9872 - acc: 0.6466 - val_loss: 1.9330 - val_acc: 0.4768\n",
            "Epoch 92/100\n",
            "15228/15228 [==============================] - 3s 220us/sample - loss: 0.9872 - acc: 0.6423 - val_loss: 1.9633 - val_acc: 0.4613\n",
            "Epoch 93/100\n",
            "15228/15228 [==============================] - 3s 219us/sample - loss: 0.9948 - acc: 0.6440 - val_loss: 1.9098 - val_acc: 0.4791\n",
            "Epoch 94/100\n",
            "15228/15228 [==============================] - 3s 222us/sample - loss: 0.9849 - acc: 0.6459 - val_loss: 1.9039 - val_acc: 0.4825\n",
            "Epoch 95/100\n",
            "15228/15228 [==============================] - 3s 220us/sample - loss: 0.9903 - acc: 0.6476 - val_loss: 1.8917 - val_acc: 0.4773\n",
            "Epoch 96/100\n",
            "15228/15228 [==============================] - 3s 219us/sample - loss: 0.9920 - acc: 0.6449 - val_loss: 1.8710 - val_acc: 0.4770\n",
            "Epoch 97/100\n",
            "15228/15228 [==============================] - 3s 221us/sample - loss: 0.9863 - acc: 0.6450 - val_loss: 1.9289 - val_acc: 0.4828\n",
            "Epoch 98/100\n",
            "15228/15228 [==============================] - 3s 218us/sample - loss: 0.9811 - acc: 0.6496 - val_loss: 1.9141 - val_acc: 0.4749\n",
            "Epoch 99/100\n",
            "15228/15228 [==============================] - 3s 220us/sample - loss: 0.9859 - acc: 0.6453 - val_loss: 1.9154 - val_acc: 0.4825\n",
            "Epoch 100/100\n",
            "15228/15228 [==============================] - 3s 220us/sample - loss: 0.9853 - acc: 0.6474 - val_loss: 1.8844 - val_acc: 0.4912\n"
          ],
          "name": "stdout"
        }
      ]
    },
    {
      "cell_type": "code",
      "metadata": {
        "id": "V5C5f2waO4nb",
        "colab_type": "code",
        "outputId": "a18afff0-a365-404e-b4e2-9466fb193f07",
        "colab": {
          "base_uri": "https://localhost:8080/",
          "height": 85
        }
      },
      "source": [
        "print(X_test[0].shape)\n",
        "y_test_onehot = one_hot_matrix(y_test[0], C = 4)\n",
        "y_test_onehot = y_test_onehot.T\n",
        "preds = model.evaluate(x = X_test[0],y = y_test_onehot)\n",
        "print (\"Loss = \" + str(preds[0]))\n",
        "print (\"Test Accuracy = \" + str(preds[1]))"
      ],
      "execution_count": 0,
      "outputs": [
        {
          "output_type": "stream",
          "text": [
            "(450, 22, 16, 16)\n",
            "450/450 [==============================] - 0s 834us/sample - loss: 1.1065 - acc: 0.5556\n",
            "Loss = 1.1064685000313652\n",
            "Test Accuracy = 0.5555556\n"
          ],
          "name": "stdout"
        }
      ]
    },
    {
      "cell_type": "code",
      "metadata": {
        "id": "ExPvyl6LO9Xb",
        "colab_type": "code",
        "outputId": "4629e3cd-ab1a-4646-cbeb-df3797115c85",
        "colab": {
          "base_uri": "https://localhost:8080/",
          "height": 247
        }
      },
      "source": [
        "print(history.history.keys())  \n",
        "   \n",
        "plt.figure(1)  \n",
        "\n",
        "plt.subplot(211)  \n",
        "plt.plot(history.history['acc'])  \n",
        "plt.plot(history.history['val_acc'])  \n",
        "plt.title('CRNN model accuracy')  \n",
        "plt.ylabel('accuracy')  \n",
        "plt.xlabel('epoch')  \n",
        "plt.legend(['train_accuracy', 'validation_accuracy'], loc='upper left')"
      ],
      "execution_count": 0,
      "outputs": [
        {
          "output_type": "stream",
          "text": [
            "dict_keys(['loss', 'acc', 'val_loss', 'val_acc'])\n"
          ],
          "name": "stdout"
        },
        {
          "output_type": "execute_result",
          "data": {
            "text/plain": [
              "<matplotlib.legend.Legend at 0x7fa41d542e10>"
            ]
          },
          "metadata": {
            "tags": []
          },
          "execution_count": 143
        },
        {
          "output_type": "display_data",
          "data": {
            "image/png": "[encoded data removed]",
            "text/plain": [
              "<Figure size 576x396 with 1 Axes>"
            ]
          },
          "metadata": {
            "tags": []
          }
        }
      ]
    },
    {
      "cell_type": "code",
      "metadata": {
        "id": "sB0PP6caPBEd",
        "colab_type": "code",
        "outputId": "c996f02c-c68f-4562-c2c7-bee4e2f6b7d6",
        "colab": {
          "base_uri": "https://localhost:8080/",
          "height": 230
        }
      },
      "source": [
        "plt.figure(1)  \n",
        "\n",
        "# summarize history for accuracy  \n",
        "\n",
        "plt.subplot(211)  \n",
        "plt.plot(history.history['loss'])  \n",
        "plt.plot(history.history['val_loss'])  \n",
        "plt.title('CRNN model loss - learning curve')  \n",
        "plt.ylabel('loss')  \n",
        "plt.xlabel('epoch')  \n",
        "plt.legend(['train_loss', 'validation_loss'], loc='upper left')"
      ],
      "execution_count": 0,
      "outputs": [
        {
          "output_type": "execute_result",
          "data": {
            "text/plain": [
              "<matplotlib.legend.Legend at 0x7fa41d5124e0>"
            ]
          },
          "metadata": {
            "tags": []
          },
          "execution_count": 144
        },
        {
          "output_type": "display_data",
          "data": {
            "image/png": "[encoded data removed]",
            "text/plain": [
              "<Figure size 576x396 with 1 Axes>"
            ]
          },
          "metadata": {
            "tags": []
          }
        }
      ]
    },
    {
      "cell_type": "markdown",
      "metadata": {
        "id": "8Oty48OeTpdZ",
        "colab_type": "text"
      },
      "source": [
        "\n",
        "\n",
        "*   With CRNN parallel, the result is good for one subject but not good for combined dataset\n",
        "*   The intuition behind using CRNN is that, using CNN to convolute over electrode and time, since CNN is good at spatial tensor. And RNN is good at temporal tensor so transpose and reshape the data and use RNN to analyze time series component.\n",
        "*   For CRNN-cascade, the data is firstly fed to CNN, then reshaped and fed to RNN. The structure is more complicated, so needs more time to train for each epoch. (The time-limited step is at RNN, so before fed into RNN, the flattened tensor needs to go through two dense layer to reduce the neuron number)\n",
        "*   For CRNN-parallel, the data is fed to CNN and RNN at the same time, and then concatenate the output tensors in parallel before going to the softmax for classification.\n",
        "*   Reason might be firstly the combined datasets might have subjects that acts like outliers behaving differently\n",
        "*   We are combining the CNN and RNN, but using the same batch size and learning rate for the training, these hyperparameters might not be the best for them\n",
        "*   Normally for the batch size is 32, 64, 128 ,512 (if we continue increase the batch size, the GPU will not be compatible with that and leading to the failure of converge). Larger datasets means more iteration per epoch, leading to the overfitting.\n"
      ]
    },
    {
      "cell_type": "code",
      "metadata": {
        "id": "RToFFYjUTo7C",
        "colab_type": "code",
        "colab": {}
      },
      "source": [
        ""
      ],
      "execution_count": 0,
      "outputs": []
    },
    {
      "cell_type": "markdown",
      "metadata": {
        "id": "cgELORMis0Rf",
        "colab_type": "text"
      },
      "source": [
        "## Tuning"
      ]
    },
    {
      "cell_type": "markdown",
      "metadata": {
        "id": "LTsvaQsvs4Wl",
        "colab_type": "text"
      },
      "source": [
        "### Tune Dropout Rate"
      ]
    },
    {
      "cell_type": "code",
      "metadata": {
        "id": "QfWww8wbt1OC",
        "colab_type": "code",
        "colab": {}
      },
      "source": [
        "def CRNN_Model(input_shape, dropout_rate):\n",
        "  tf.set_random_seed(2)\n",
        "  np.random.seed(2)\n",
        "  \n",
        "  # CNN\n",
        "  X_input = Input(input_shape)  \n",
        "  X = Conv2D(filters = 22, kernel_size = (3, 3), strides = (1, 1), kernel_regularizer=regularizers.l1(0.01), \n",
        "                   name = 'conv0', data_format='channels_last')(X_input)\n",
        "  X = Conv2D(filters= 44, kernel_size = (3, 3), strides = (1, 1), name = 'conv1', data_format='channels_last', \n",
        "                   padding='valid', kernel_regularizer=regularizers.l2(0.01))(X) \n",
        "  X = MaxPooling2D(pool_size = (2, 2), strides = (2, 2), name = 'mean_pool')(X)\n",
        "  X = ELU()(X)\n",
        "  #X = BatchNormalization()(X)\n",
        "  X = Dropout(dropout_rate)(X)\n",
        "  X = Flatten()(X)\n",
        "  \n",
        "  # RNN  \n",
        "  XR_input = X_input #(2133, 22, 16, 16)(N, n_electrode, f, t)\n",
        "  XR = Permute((3,1,2))(XR_input)\n",
        "  print(XR.shape)\n",
        "  XR = Reshape((XR.shape[1], XR.shape[2]*XR.shape[3]))(XR)\n",
        "  print(XR.shape)\n",
        "  XR = LSTM(units = 32, return_sequences = False, kernel_regularizer=regularizers.l2(0.01))(XR)    \n",
        "  XR = Dropout(dropout_rate, seed = 0)(XR)  \n",
        "  \n",
        "  # Concatenate tensor  \n",
        "  X_out = Concatenate()([X, XR])  \n",
        "  X_out = Dense(units = 4, activation='softmax', name='fc2')(X_out)\n",
        "  \n",
        "  model = Model(inputs = X_input, outputs = X_out, name='CRNN_Model')  \n",
        "  \n",
        "  return model"
      ],
      "execution_count": 0,
      "outputs": []
    },
    {
      "cell_type": "code",
      "metadata": {
        "id": "REVZT5WHtBd4",
        "colab_type": "code",
        "outputId": "f5ae4902-b2cb-4af5-d50c-56da19c63dc6",
        "colab": {
          "base_uri": "https://localhost:8080/",
          "height": 51
        }
      },
      "source": [
        "# define the search parameters\n",
        "np.random.seed(0)\n",
        "dropout_rate_r = -1*np.random.rand(10)\n",
        "dropout_rate = 10**dropout_rate_r\n",
        "dropout_rate.sort()\n",
        "print(dropout_rate)"
      ],
      "execution_count": 0,
      "outputs": [
        {
          "output_type": "stream",
          "text": [
            "[0.10872696 0.1283001  0.19266846 0.22599867 0.24959543 0.28260933\n",
            " 0.28517852 0.3651008  0.37700334 0.413579  ]\n"
          ],
          "name": "stdout"
        }
      ]
    },
    {
      "cell_type": "code",
      "metadata": {
        "id": "jaQtPG1StUHd",
        "colab_type": "code",
        "outputId": "349943e5-7790-4271-be72-e35681af3205",
        "colab": {
          "base_uri": "https://localhost:8080/",
          "height": 527
        }
      },
      "source": [
        "# for loop search\n",
        "rate_acc_list = []\n",
        "\n",
        "for rate_iter in dropout_rate:\n",
        "  start = time.time()\n",
        "  model = CRNN_Model(input_shape = (C, F, T), dropout_rate = rate_iter)\n",
        "  optimizer = optimizers.Adam(lr=0.2)\n",
        "  model.compile(loss='categorical_crossentropy', optimizer='Adam', metrics=['accuracy'])    \n",
        "  model.fit(x = X_train_valid[0], y = y_train_onehot, \n",
        "                  epochs = 30, batch_size = 32, \n",
        "                  validation_split = 0.2, verbose = 0)\n",
        "  end = time.time()\n",
        "  preds = model.evaluate(x = X_test[0],y = y_test_onehot)\n",
        "  rate_acc_list.append(preds[1])"
      ],
      "execution_count": 0,
      "outputs": [
        {
          "output_type": "stream",
          "text": [
            "(?, 16, 22, 16)\n",
            "(?, 16, 352)\n",
            "450/450 [==============================] - 0s 671us/sample - loss: 1.2078 - acc: 0.6444\n",
            "(?, 16, 22, 16)\n",
            "(?, 16, 352)\n",
            "450/450 [==============================] - 0s 680us/sample - loss: 1.2075 - acc: 0.6089\n",
            "(?, 16, 22, 16)\n",
            "(?, 16, 352)\n",
            "450/450 [==============================] - 0s 661us/sample - loss: 1.1222 - acc: 0.6467\n",
            "(?, 16, 22, 16)\n",
            "(?, 16, 352)\n",
            "450/450 [==============================] - 0s 683us/sample - loss: 1.2662 - acc: 0.5844\n",
            "(?, 16, 22, 16)\n",
            "(?, 16, 352)\n",
            "450/450 [==============================] - 0s 655us/sample - loss: 1.1913 - acc: 0.6200\n",
            "(?, 16, 22, 16)\n",
            "(?, 16, 352)\n",
            "450/450 [==============================] - 0s 662us/sample - loss: 1.1718 - acc: 0.6378\n",
            "(?, 16, 22, 16)\n",
            "(?, 16, 352)\n",
            "450/450 [==============================] - 0s 662us/sample - loss: 1.2454 - acc: 0.6200\n",
            "(?, 16, 22, 16)\n",
            "(?, 16, 352)\n",
            "450/450 [==============================] - 0s 676us/sample - loss: 1.1761 - acc: 0.6444\n",
            "(?, 16, 22, 16)\n",
            "(?, 16, 352)\n",
            "450/450 [==============================] - 0s 643us/sample - loss: 1.1649 - acc: 0.6644\n",
            "(?, 16, 22, 16)\n",
            "(?, 16, 352)\n",
            "450/450 [==============================] - 0s 653us/sample - loss: 1.1476 - acc: 0.6467\n"
          ],
          "name": "stdout"
        }
      ]
    },
    {
      "cell_type": "code",
      "metadata": {
        "id": "QUBLF0fvtUAT",
        "colab_type": "code",
        "outputId": "2c95a9c9-420f-49a9-d770-27d7c8c34459",
        "colab": {
          "base_uri": "https://localhost:8080/",
          "height": 54
        }
      },
      "source": [
        "print(rate_acc_list)"
      ],
      "execution_count": 0,
      "outputs": [
        {
          "output_type": "stream",
          "text": [
            "[0.64444447, 0.60888886, 0.64666665, 0.58444446, 0.62, 0.6377778, 0.62, 0.64444447, 0.66444445, 0.64666665]\n"
          ],
          "name": "stdout"
        }
      ]
    },
    {
      "cell_type": "code",
      "metadata": {
        "id": "HX6wqfdTv1ac",
        "colab_type": "code",
        "outputId": "4d10801b-16b1-4c67-f6c5-c483412091d6",
        "colab": {
          "base_uri": "https://localhost:8080/",
          "height": 296
        }
      },
      "source": [
        "# visulization\n",
        "from matplotlib.ticker import FormatStrFormatter\n",
        "%matplotlib inline\n",
        "\n",
        "fig, ax = plt.subplots()\n",
        "ax.xaxis.set_major_formatter(FormatStrFormatter('%.2f'))\n",
        "plt.plot(dropout_rate,rate_acc_list,'-o')\n",
        "plt.xlabel('dropout_rate')\n",
        "plt.ylabel('model accuracy')\n",
        "plt.title('Tune Hyperparameters - dropout_rate')\n",
        "plt.grid()\n",
        "plt.show()\n"
      ],
      "execution_count": 0,
      "outputs": [
        {
          "output_type": "display_data",
          "data": {
            "image/png": "[encoded data removed]",
            "text/plain": [
              "<Figure size 432x288 with 1 Axes>"
            ]
          },
          "metadata": {
            "tags": []
          }
        }
      ]
    },
    {
      "cell_type": "markdown",
      "metadata": {
        "id": "w_hKBgGev3jq",
        "colab_type": "text"
      },
      "source": [
        "### Tune Units Number and L2 Regularization"
      ]
    },
    {
      "cell_type": "code",
      "metadata": {
        "id": "SCsLxVYYwjyZ",
        "colab_type": "code",
        "colab": {}
      },
      "source": [
        "def CRNN_Model(input_shape, units_num = 32, rnn_l2 = 0.01):\n",
        "  tf.set_random_seed(2)\n",
        "  np.random.seed(2)\n",
        "  \n",
        "  # CNN\n",
        "  X_input = Input(input_shape)  \n",
        "  X = Conv2D(filters = 22, kernel_size = (3, 3), strides = (1, 1), kernel_regularizer=regularizers.l1(0.01), \n",
        "                   name = 'conv0', data_format='channels_last')(X_input)\n",
        "  X = Conv2D(filters= 44, kernel_size = (3, 3), strides = (1, 1), name = 'conv1', data_format='channels_last', \n",
        "                   padding='valid', kernel_regularizer=regularizers.l2(0.01))(X) \n",
        "  X = MaxPooling2D(pool_size = (2, 2), strides = (2, 2), name = 'mean_pool')(X)\n",
        "  X = ELU()(X)\n",
        "  #X = BatchNormalization()(X)\n",
        "  X = Dropout(0.38)(X)\n",
        "  X = Flatten()(X)\n",
        "  \n",
        "  # RNN  \n",
        "  XR_input = X_input #(2133, 22, 16, 16)(N, n_electrode, f, t)\n",
        "  XR = Permute((3,1,2))(XR_input)\n",
        "  print(XR.shape)\n",
        "  XR = Reshape((XR.shape[1], XR.shape[2]*XR.shape[3]))(XR)\n",
        "  print(XR.shape)\n",
        "  XR = LSTM(units = units_num, return_sequences = False, kernel_regularizer=regularizers.l2(rnn_l2))(XR)    \n",
        "  XR = Dropout(0.38, seed = 0)(XR)  \n",
        "  \n",
        "  # Concatenate tensor  \n",
        "  X_out = Concatenate()([X, XR])  \n",
        "  X_out = Dense(units = 4, activation='softmax', name='fc2')(X_out)\n",
        "  \n",
        "  model = Model(inputs = X_input, outputs = X_out, name='CRNN_Model')  \n",
        "  \n",
        "  return model"
      ],
      "execution_count": 0,
      "outputs": []
    },
    {
      "cell_type": "code",
      "metadata": {
        "id": "t7g3OqVOzNYn",
        "colab_type": "code",
        "outputId": "f570ea99-ce20-4fd4-e8ca-b4c9c22abf48",
        "colab": {
          "base_uri": "https://localhost:8080/",
          "height": 51
        }
      },
      "source": [
        "# define the search parameters\n",
        "np.random.seed(0)\n",
        "l2r = -3*np.random.rand(5)\n",
        "rnn_l2_array = 10**l2r\n",
        "rnn_l2_array.sort()\n",
        "units_num_array = [32, 64, 128, 512]\n",
        "print(units_num_array)\n",
        "print(rnn_l2_array)"
      ],
      "execution_count": 0,
      "outputs": [
        {
          "output_type": "stream",
          "text": [
            "[32, 64, 128, 512]\n",
            "[0.00715207 0.01554927 0.02257145 0.02319265 0.05358406]\n"
          ],
          "name": "stdout"
        }
      ]
    },
    {
      "cell_type": "code",
      "metadata": {
        "id": "AgJQXLDUz4u9",
        "colab_type": "code",
        "outputId": "26001890-57bb-4d8b-8a7a-ef604e2bdd27",
        "colab": {
          "base_uri": "https://localhost:8080/",
          "height": 1000
        }
      },
      "source": [
        "# for loop search\n",
        "unit_l2_acc_list = []              \n",
        "                     \n",
        "for u_iter in units_num_array:\n",
        "  for l2_iter in rnn_l2_array:\n",
        "    model = CRNN_Model(input_shape = (C, F, T), units_num = u_iter, rnn_l2 = l2_iter) \n",
        "    optimizer = optimizers.Adam(lr=0.2)\n",
        "    model.compile(loss='categorical_crossentropy', optimizer='Adam', metrics=['accuracy']) \n",
        "    model.fit(x = X_train_valid[0], y = y_train_onehot, \n",
        "                  epochs = 30, batch_size = 32, \n",
        "                  validation_split = 0.2, verbose = 0) \n",
        "    preds = model.evaluate(x = X_test[0],y = y_test_onehot)\n",
        "    unit_l2_acc_list.append(preds[1])\n"
      ],
      "execution_count": 0,
      "outputs": [
        {
          "output_type": "stream",
          "text": [
            "(?, 16, 22, 16)\n",
            "(?, 16, 352)\n",
            "450/450 [==============================] - 0s 673us/sample - loss: 1.1764 - acc: 0.6289\n",
            "(?, 16, 22, 16)\n",
            "(?, 16, 352)\n",
            "450/450 [==============================] - 0s 678us/sample - loss: 1.1586 - acc: 0.6378\n",
            "(?, 16, 22, 16)\n",
            "(?, 16, 352)\n",
            "450/450 [==============================] - 0s 684us/sample - loss: 1.2740 - acc: 0.6289\n",
            "(?, 16, 22, 16)\n",
            "(?, 16, 352)\n",
            "450/450 [==============================] - 0s 733us/sample - loss: 1.1678 - acc: 0.6311\n",
            "(?, 16, 22, 16)\n",
            "(?, 16, 352)\n",
            "450/450 [==============================] - 0s 706us/sample - loss: 1.2499 - acc: 0.5956\n",
            "(?, 16, 22, 16)\n",
            "(?, 16, 352)\n",
            "450/450 [==============================] - 0s 709us/sample - loss: 1.1871 - acc: 0.6511\n",
            "(?, 16, 22, 16)\n",
            "(?, 16, 352)\n",
            "450/450 [==============================] - 0s 690us/sample - loss: 1.1738 - acc: 0.6400\n",
            "(?, 16, 22, 16)\n",
            "(?, 16, 352)\n",
            "450/450 [==============================] - 0s 689us/sample - loss: 1.1858 - acc: 0.6333\n",
            "(?, 16, 22, 16)\n",
            "(?, 16, 352)\n",
            "450/450 [==============================] - 0s 680us/sample - loss: 1.1179 - acc: 0.6578\n",
            "(?, 16, 22, 16)\n",
            "(?, 16, 352)\n",
            "450/450 [==============================] - 0s 682us/sample - loss: 1.1480 - acc: 0.6400\n",
            "(?, 16, 22, 16)\n",
            "(?, 16, 352)\n",
            "450/450 [==============================] - 0s 685us/sample - loss: 1.1334 - acc: 0.6200\n",
            "(?, 16, 22, 16)\n",
            "(?, 16, 352)\n",
            "450/450 [==============================] - 0s 761us/sample - loss: 1.1453 - acc: 0.6867\n",
            "(?, 16, 22, 16)\n",
            "(?, 16, 352)\n",
            "450/450 [==============================] - 0s 662us/sample - loss: 1.1215 - acc: 0.6444\n",
            "(?, 16, 22, 16)\n",
            "(?, 16, 352)\n",
            "450/450 [==============================] - 0s 697us/sample - loss: 1.0862 - acc: 0.6933\n",
            "(?, 16, 22, 16)\n",
            "(?, 16, 352)\n",
            "450/450 [==============================] - 0s 685us/sample - loss: 1.1857 - acc: 0.6222\n",
            "(?, 16, 22, 16)\n",
            "(?, 16, 352)\n",
            "450/450 [==============================] - 0s 738us/sample - loss: 2.2380 - acc: 0.6333\n",
            "(?, 16, 22, 16)\n",
            "(?, 16, 352)\n",
            "450/450 [==============================] - 0s 771us/sample - loss: 1.9214 - acc: 0.6000\n",
            "(?, 16, 22, 16)\n",
            "(?, 16, 352)\n",
            "450/450 [==============================] - 0s 750us/sample - loss: 1.2171 - acc: 0.6022\n",
            "(?, 16, 22, 16)\n",
            "(?, 16, 352)\n",
            "450/450 [==============================] - 0s 752us/sample - loss: 1.1002 - acc: 0.6533\n",
            "(?, 16, 22, 16)\n",
            "(?, 16, 352)\n",
            "450/450 [==============================] - 0s 716us/sample - loss: 1.1679 - acc: 0.6511\n"
          ],
          "name": "stdout"
        }
      ]
    },
    {
      "cell_type": "code",
      "metadata": {
        "id": "yVVpdK0IOkj3",
        "colab_type": "code",
        "outputId": "e81680d5-cbd3-4268-ec2e-4faabcff0ff2",
        "colab": {
          "base_uri": "https://localhost:8080/",
          "height": 54
        }
      },
      "source": [
        "print(unit_l2_acc_list)"
      ],
      "execution_count": 0,
      "outputs": [
        {
          "output_type": "stream",
          "text": [
            "[0.6288889, 0.6377778, 0.6288889, 0.6311111, 0.59555554, 0.6511111, 0.64, 0.6333333, 0.6577778, 0.64, 0.62, 0.68666667, 0.64444447, 0.6933333, 0.62222224, 0.6333333, 0.6, 0.6022222, 0.6533333, 0.6511111]\n"
          ],
          "name": "stdout"
        }
      ]
    },
    {
      "cell_type": "code",
      "metadata": {
        "id": "YCfKhX6e_Lzp",
        "colab_type": "code",
        "outputId": "833f83ca-588b-40a4-e285-412c5a379b71",
        "colab": {
          "base_uri": "https://localhost:8080/",
          "height": 268
        }
      },
      "source": [
        "# visulization\n",
        "ul2_acc_array = np.array(unit_l2_acc_list)\n",
        "ul2_acc_array = ul2_acc_array.reshape(len(units_num_array), len(rnn_l2_array))\n",
        "my_formatted_rnn_l2 = [ '%.3f' % elem for elem in rnn_l2_array ]\n",
        "\n",
        "plt.figure(figsize=(10, 10))\n",
        "plt.subplots_adjust(top=0.6, bottom=0.2, right=0.6, left=0.2)\n",
        "fig, ax = plt.subplots()\n",
        "ax.xaxis.set_major_formatter(FormatStrFormatter('%.2f'))\n",
        "plt.imshow(ul2_acc_array, interpolation='nearest', cmap=plt.cm.hot)\n",
        "plt.xlabel('l2 regularization')\n",
        "plt.ylabel('units')\n",
        "plt.colorbar()\n",
        "plt.xticks(np.arange(len(l2)), my_formatted_rnn_l2)\n",
        "plt.yticks(np.arange(len(units)), units_num_array)\n",
        "plt.title('Parameter Search - l2 regularization & units')\n",
        "plt.show()"
      ],
      "execution_count": 0,
      "outputs": [
        {
          "output_type": "display_data",
          "data": {
            "text/plain": [
              "<Figure size 720x720 with 0 Axes>"
            ]
          },
          "metadata": {
            "tags": []
          }
        },
        {
          "output_type": "display_data",
          "data": {
            "image/png": "[encoded data removed]",
            "text/plain": [
              "<Figure size 432x288 with 2 Axes>"
            ]
          },
          "metadata": {
            "tags": []
          }
        }
      ]
    },
    {
      "cell_type": "code",
      "metadata": {
        "id": "gX7DTNkIOe47",
        "colab_type": "code",
        "colab": {}
      },
      "source": [
        "unit_l2_acc_list = [0.6288889, 0.6377778, 0.6288889, 0.6311111, 0.59555554, 0.6511111, 0.64, 0.6333333, 0.6577778, 0.64, 0.62, 0.68666667, 0.64444447, 0.6933333, 0.62222224, 0.6333333, 0.6, 0.6022222, 0.6533333, 0.6511111]"
      ],
      "execution_count": 0,
      "outputs": []
    },
    {
      "cell_type": "code",
      "metadata": {
        "id": "lurJkSCfO6ID",
        "colab_type": "code",
        "colab": {}
      },
      "source": [
        "units_num_array = [32, 64, 128, 512]\n",
        "rnn_l2_array = [0.00715207, 0.01554927, 0.02257145, 0.02319265, 0.05358406]"
      ],
      "execution_count": 0,
      "outputs": []
    },
    {
      "cell_type": "code",
      "metadata": {
        "id": "z2hwisYjOwN4",
        "colab_type": "code",
        "outputId": "47944247-1b06-4825-dee4-6d594c981c7c",
        "colab": {
          "base_uri": "https://localhost:8080/",
          "height": 268
        }
      },
      "source": [
        "# visulization\n",
        "from matplotlib import pyplot as plt\n",
        "from matplotlib.ticker import FormatStrFormatter\n",
        "import numpy as np\n",
        "\n",
        "ul2_acc_array = np.array(unit_l2_acc_list)\n",
        "ul2_acc_array = ul2_acc_array.reshape(len(units_num_array), len(rnn_l2_array))\n",
        "my_formatted_rnn_l2 = [ '%.4f' % elem for elem in rnn_l2_array ]\n",
        "\n",
        "plt.figure(figsize=(10, 10))\n",
        "plt.subplots_adjust(top=0.6, bottom=0.2, right=0.6, left=0.2)\n",
        "fig, ax = plt.subplots()\n",
        "ax.xaxis.set_major_formatter(FormatStrFormatter('%.4f'))\n",
        "plt.imshow(ul2_acc_array, interpolation='nearest', cmap=plt.cm.hot)\n",
        "plt.xlabel('Regularization')\n",
        "plt.ylabel('RNN Units')\n",
        "plt.colorbar()\n",
        "plt.xticks(np.arange(len(my_formatted_rnn_l2)), my_formatted_rnn_l2)\n",
        "plt.yticks(np.arange(len(units_num_array)), units_num_array)\n",
        "plt.title('Tune Parameters - RNN Units and Regularization')\n",
        "plt.show()"
      ],
      "execution_count": 0,
      "outputs": [
        {
          "output_type": "display_data",
          "data": {
            "text/plain": [
              "<Figure size 720x720 with 0 Axes>"
            ]
          },
          "metadata": {
            "tags": []
          }
        },
        {
          "output_type": "display_data",
          "data": {
            "image/png": "[encoded data removed]",
            "text/plain": [
              "<Figure size 432x288 with 2 Axes>"
            ]
          },
          "metadata": {
            "tags": []
          }
        }
      ]
    },
    {
      "cell_type": "markdown",
      "metadata": {
        "id": "WIcqqHsoOecF",
        "colab_type": "text"
      },
      "source": [
        ""
      ]
    },
    {
      "cell_type": "markdown",
      "metadata": {
        "id": "fozQrVTn75Hb",
        "colab_type": "text"
      },
      "source": [
        "## CNN"
      ]
    },
    {
      "cell_type": "code",
      "metadata": {
        "id": "ui1PKAEKGZT9",
        "colab_type": "code",
        "colab": {}
      },
      "source": [
        ""
      ],
      "execution_count": 0,
      "outputs": []
    },
    {
      "cell_type": "markdown",
      "metadata": {
        "id": "mrJcE5Xx8GMl",
        "colab_type": "text"
      },
      "source": [
        ""
      ]
    },
    {
      "cell_type": "markdown",
      "metadata": {
        "id": "PWqxyzcG7-0U",
        "colab_type": "text"
      },
      "source": [
        "## RNN"
      ]
    },
    {
      "cell_type": "code",
      "metadata": {
        "id": "qRJM069x74fl",
        "colab_type": "code",
        "colab": {}
      },
      "source": [
        ""
      ],
      "execution_count": 0,
      "outputs": []
    },
    {
      "cell_type": "code",
      "metadata": {
        "id": "FZhBeB6_7vku",
        "colab_type": "code",
        "colab": {}
      },
      "source": [
        ""
      ],
      "execution_count": 0,
      "outputs": []
    },
    {
      "cell_type": "markdown",
      "metadata": {
        "id": "djmASE6soEq9",
        "colab_type": "text"
      },
      "source": [
        "## Naive RNN"
      ]
    },
    {
      "cell_type": "markdown",
      "metadata": {
        "id": "lzOgnzWu1OfM",
        "colab_type": "text"
      },
      "source": [
        "### Data Prepocessing for RNN"
      ]
    },
    {
      "cell_type": "code",
      "metadata": {
        "id": "70d-dDZp9AR7",
        "colab_type": "code",
        "outputId": "24c79a7d-e639-4607-8278-fa01c0fcb912",
        "colab": {
          "base_uri": "https://localhost:8080/",
          "height": 34
        }
      },
      "source": [
        "print('Training data shape after cropping and STFT {}'.format(X_train_valid[0].shape))"
      ],
      "execution_count": 0,
      "outputs": [
        {
          "output_type": "stream",
          "text": [
            "Training data shape after cropping and STFT (2133, 22, 16, 16)\n"
          ],
          "name": "stdout"
        }
      ]
    },
    {
      "cell_type": "code",
      "metadata": {
        "id": "UGtOfacO1ZhX",
        "colab_type": "code",
        "outputId": "767393cb-6c50-45d4-d1ae-8f838f2a4957",
        "colab": {
          "base_uri": "https://localhost:8080/",
          "height": 51
        }
      },
      "source": [
        "# transpose the data so that the the shape is [#sample, time_seq, feature1, feature2]\n",
        "X_train_valid_0_transpose = np.transpose(X_train_valid[0], (0,2,1,3))\n",
        "print('Training data shape after transpose {}'.format(X_train_valid_0_transpose.shape))\n",
        "\n",
        "# reshape the data to compress the features into one dimension\n",
        "X_train_valid_0_transpose_reshape = X_train_valid_0_transpose.reshape(2133, 16, -1)\n",
        "print('Training data shape after reshape {}'.format(X_train_valid_0_transpose_reshape.shape))\n"
      ],
      "execution_count": 0,
      "outputs": [
        {
          "output_type": "stream",
          "text": [
            "Training data shape after transpose (2133, 16, 22, 16)\n",
            "Training data shape after reshape (2133, 16, 352)\n"
          ],
          "name": "stdout"
        }
      ]
    },
    {
      "cell_type": "code",
      "metadata": {
        "id": "5fjehfOE2VI5",
        "colab_type": "code",
        "outputId": "4af1f50e-ecd7-4ed0-fb95-014ae8e00c7e",
        "colab": {
          "base_uri": "https://localhost:8080/",
          "height": 68
        }
      },
      "source": [
        "print('Testing data shape {}'.format(X_test[0].shape))\n",
        "\n",
        "# transpose the data so that the the shape is [#sample, time_seq, feature1, feature2]\n",
        "X_test_0_transpose = np.transpose(X_test[0], (0,2,1,3))\n",
        "print('Testing data shape after transpose {}'.format(X_test_0_transpose.shape))\n",
        "\n",
        "# reshape the data to compress the features into one dimension\n",
        "X_test_0_transpose_reshape = X_test_0_transpose.reshape(450,16,-1)\n",
        "print('Testing data shape after reshape {}'.format(X_test_0_transpose_reshape.shape))\n"
      ],
      "execution_count": 0,
      "outputs": [
        {
          "output_type": "stream",
          "text": [
            "Testing data shape (450, 22, 16, 16)\n",
            "Testing data shape after transpose (450, 16, 22, 16)\n",
            "Testing data shape after reshape (450, 16, 352)\n"
          ],
          "name": "stdout"
        }
      ]
    },
    {
      "cell_type": "code",
      "metadata": {
        "id": "4L7x7VkqLZuj",
        "colab_type": "code",
        "colab": {}
      },
      "source": [
        ""
      ],
      "execution_count": 0,
      "outputs": []
    },
    {
      "cell_type": "markdown",
      "metadata": {
        "id": "Q7DJNdeSP-w5",
        "colab_type": "text"
      },
      "source": [
        "### Training and Modeling"
      ]
    },
    {
      "cell_type": "code",
      "metadata": {
        "id": "SJZ3Zo0NP9NO",
        "colab_type": "code",
        "colab": {}
      },
      "source": [
        "def one_hot_matrix(labels, C=4):\n",
        "    transformed_labels = labels - 769\n",
        "    C = tf.constant(C, name = \"C\")\n",
        "    one_hot_matrix = tf.one_hot(transformed_labels, depth = C, axis = 0)\n",
        "    sess = tf.Session()\n",
        "    one_hot = sess.run(one_hot_matrix)\n",
        "    sess.close()\n",
        "    return one_hot"
      ],
      "execution_count": 0,
      "outputs": []
    },
    {
      "cell_type": "code",
      "metadata": {
        "id": "g4N_Xf3WQaZ2",
        "colab_type": "code",
        "outputId": "1992e69d-f658-4192-a089-b9ceb2330cad",
        "colab": {
          "base_uri": "https://localhost:8080/",
          "height": 34
        }
      },
      "source": [
        "# Choose set of training data\n",
        "subject_num = 0\n",
        "y_train_onehot = one_hot_matrix(y_train_valid[subject_num])\n",
        "y_train_onehot = y_train_onehot.T\n",
        "N, C, F, T = X_train_valid[subject_num].shape\n",
        "print(\"Training data shape: {}\".format(X_train_valid[subject_num].shape))\n",
        "\n",
        "def stft_RNN_Model():\n",
        "    np.random.seed(0)\n",
        "    tf.set_random_seed(1)\n",
        "    model = Sequential()    \n",
        "    model.add(LSTM(units = 32, return_sequences = True))    \n",
        "    model.add(Dropout(0.5, seed = 0))    \n",
        "    model.add(LSTM(units = 64, return_sequences = False))\n",
        "    model.add(Dense(units = 4, activation = 'sigmoid'))\n",
        "    optimizer = optimizers.RMSprop(lr=1)\n",
        "    model.compile(loss='categorical_crossentropy', optimizer='RMSprop', metrics=['accuracy'])\t  \n",
        "    return model"
      ],
      "execution_count": 0,
      "outputs": [
        {
          "output_type": "stream",
          "text": [
            "Training data shape: (2133, 22, 16, 16)\n"
          ],
          "name": "stdout"
        }
      ]
    },
    {
      "cell_type": "code",
      "metadata": {
        "id": "f0OidD05fhf-",
        "colab_type": "code",
        "outputId": "af9f1381-b201-499f-b59c-cf4eaeaa53bd",
        "colab": {
          "base_uri": "https://localhost:8080/",
          "height": 34
        }
      },
      "source": [
        "print(X_train_valid[0].shape)"
      ],
      "execution_count": 0,
      "outputs": [
        {
          "output_type": "stream",
          "text": [
            "(2133, 22, 16, 16)\n"
          ],
          "name": "stdout"
        }
      ]
    },
    {
      "cell_type": "code",
      "metadata": {
        "id": "o-cGNN9_f0MF",
        "colab_type": "code",
        "outputId": "a80a1258-9a26-4ea8-d484-f43db133126f",
        "colab": {
          "base_uri": "https://localhost:8080/",
          "height": 34
        }
      },
      "source": [
        "# transpose the data so that the the shape is [#sample, time_seq, feature1, feature2]\n",
        "X_train_valid_0_transpose = np.transpose(X_train_valid[0], (0,2,1,3))\n",
        "print(X_train_valid_0_transpose.shape)"
      ],
      "execution_count": 0,
      "outputs": [
        {
          "output_type": "stream",
          "text": [
            "(2133, 16, 22, 16)\n"
          ],
          "name": "stdout"
        }
      ]
    },
    {
      "cell_type": "code",
      "metadata": {
        "id": "DViM20R7gQJf",
        "colab_type": "code",
        "outputId": "e84f6977-2173-4c10-e59c-d7bb9dba6e4b",
        "colab": {
          "base_uri": "https://localhost:8080/",
          "height": 34
        }
      },
      "source": [
        "# reshape the data to compress the features into one dimension\n",
        "X_train_valid_0_transpose_reshape = X_train_valid_0_transpose.reshape(2133, 16, -1)\n",
        "print(X_train_valid_0_transpose_reshape.shape)"
      ],
      "execution_count": 0,
      "outputs": [
        {
          "output_type": "stream",
          "text": [
            "(2133, 16, 352)\n"
          ],
          "name": "stdout"
        }
      ]
    },
    {
      "cell_type": "code",
      "metadata": {
        "id": "vIvJusLtwGP2",
        "colab_type": "code",
        "outputId": "73d241dc-ec73-4418-d880-e4ed54514145",
        "colab": {
          "base_uri": "https://localhost:8080/",
          "height": 1074
        }
      },
      "source": [
        "model = stft_RNN_Model()\n",
        "history = model.fit(x = X_train_valid_0_transpose_reshape, y = y_train_onehot, \n",
        "                    epochs = 30, batch_size = 20, \n",
        "                    validation_split = 0.2, verbose = 1)  "
      ],
      "execution_count": 0,
      "outputs": [
        {
          "output_type": "stream",
          "text": [
            "Train on 1706 samples, validate on 427 samples\n",
            "Epoch 1/30\n",
            "1706/1706 [==============================] - 19s 11ms/sample - loss: 1.3904 - acc: 0.2661 - val_loss: 1.3894 - val_acc: 0.2342\n",
            "Epoch 2/30\n",
            "1706/1706 [==============================] - 15s 9ms/sample - loss: 1.3822 - acc: 0.2743 - val_loss: 1.3815 - val_acc: 0.2389\n",
            "Epoch 3/30\n",
            "1706/1706 [==============================] - 15s 9ms/sample - loss: 1.3707 - acc: 0.2878 - val_loss: 1.3852 - val_acc: 0.2529\n",
            "Epoch 4/30\n",
            "1706/1706 [==============================] - 15s 9ms/sample - loss: 1.3527 - acc: 0.3183 - val_loss: 1.3655 - val_acc: 0.3162\n",
            "Epoch 5/30\n",
            "1706/1706 [==============================] - 15s 9ms/sample - loss: 1.3394 - acc: 0.3529 - val_loss: 1.3661 - val_acc: 0.3208\n",
            "Epoch 6/30\n",
            "1706/1706 [==============================] - 15s 9ms/sample - loss: 1.3050 - acc: 0.3693 - val_loss: 1.4313 - val_acc: 0.3091\n",
            "Epoch 7/30\n",
            "1706/1706 [==============================] - 15s 9ms/sample - loss: 1.2903 - acc: 0.3834 - val_loss: 1.4066 - val_acc: 0.2881\n",
            "Epoch 8/30\n",
            "1706/1706 [==============================] - 15s 9ms/sample - loss: 1.2815 - acc: 0.3787 - val_loss: 1.3010 - val_acc: 0.3817\n",
            "Epoch 9/30\n",
            "1706/1706 [==============================] - 15s 9ms/sample - loss: 1.2446 - acc: 0.4168 - val_loss: 1.2549 - val_acc: 0.4122\n",
            "Epoch 10/30\n",
            "1706/1706 [==============================] - 15s 9ms/sample - loss: 1.2289 - acc: 0.4443 - val_loss: 1.2759 - val_acc: 0.3724\n",
            "Epoch 11/30\n",
            "1706/1706 [==============================] - 15s 9ms/sample - loss: 1.1965 - acc: 0.4426 - val_loss: 1.3689 - val_acc: 0.3513\n",
            "Epoch 12/30\n",
            "1706/1706 [==============================] - 15s 9ms/sample - loss: 1.1924 - acc: 0.4601 - val_loss: 1.3684 - val_acc: 0.3372\n",
            "Epoch 13/30\n",
            "1706/1706 [==============================] - 15s 9ms/sample - loss: 1.1681 - acc: 0.4701 - val_loss: 1.2206 - val_acc: 0.3981\n",
            "Epoch 14/30\n",
            "1706/1706 [==============================] - 15s 9ms/sample - loss: 1.1221 - acc: 0.4982 - val_loss: 1.1979 - val_acc: 0.4356\n",
            "Epoch 15/30\n",
            "1706/1706 [==============================] - 16s 9ms/sample - loss: 1.0915 - acc: 0.5246 - val_loss: 1.2844 - val_acc: 0.4145\n",
            "Epoch 16/30\n",
            "1706/1706 [==============================] - 15s 9ms/sample - loss: 1.0797 - acc: 0.5152 - val_loss: 1.2420 - val_acc: 0.4286\n",
            "Epoch 17/30\n",
            "1706/1706 [==============================] - 15s 9ms/sample - loss: 1.0710 - acc: 0.4936 - val_loss: 1.1899 - val_acc: 0.4239\n",
            "Epoch 18/30\n",
            "1706/1706 [==============================] - 15s 9ms/sample - loss: 1.0363 - acc: 0.5293 - val_loss: 1.1690 - val_acc: 0.4239\n",
            "Epoch 19/30\n",
            "1706/1706 [==============================] - 15s 9ms/sample - loss: 1.0247 - acc: 0.5563 - val_loss: 1.1713 - val_acc: 0.4637\n",
            "Epoch 20/30\n",
            "1706/1706 [==============================] - 15s 9ms/sample - loss: 0.9793 - acc: 0.5686 - val_loss: 1.2098 - val_acc: 0.4333\n",
            "Epoch 21/30\n",
            "1706/1706 [==============================] - 14s 8ms/sample - loss: 0.9602 - acc: 0.5791 - val_loss: 1.2916 - val_acc: 0.3864\n",
            "Epoch 22/30\n",
            "1706/1706 [==============================] - 15s 9ms/sample - loss: 0.9249 - acc: 0.5938 - val_loss: 1.2934 - val_acc: 0.4262\n",
            "Epoch 23/30\n",
            "1706/1706 [==============================] - 15s 9ms/sample - loss: 0.9197 - acc: 0.5973 - val_loss: 1.1220 - val_acc: 0.5012\n",
            "Epoch 24/30\n",
            "1706/1706 [==============================] - 15s 9ms/sample - loss: 0.9019 - acc: 0.5955 - val_loss: 1.2451 - val_acc: 0.4075\n",
            "Epoch 25/30\n",
            "1706/1706 [==============================] - 15s 9ms/sample - loss: 0.8825 - acc: 0.6149 - val_loss: 1.1347 - val_acc: 0.4778\n",
            "Epoch 26/30\n",
            "1706/1706 [==============================] - 14s 8ms/sample - loss: 0.8524 - acc: 0.6231 - val_loss: 1.2199 - val_acc: 0.4684\n",
            "Epoch 27/30\n",
            "1706/1706 [==============================] - 15s 9ms/sample - loss: 0.8317 - acc: 0.6419 - val_loss: 1.3554 - val_acc: 0.4122\n",
            "Epoch 28/30\n",
            "1706/1706 [==============================] - 14s 8ms/sample - loss: 0.8268 - acc: 0.6395 - val_loss: 1.2908 - val_acc: 0.4590\n",
            "Epoch 29/30\n",
            "1706/1706 [==============================] - 14s 8ms/sample - loss: 0.7912 - acc: 0.6700 - val_loss: 1.4352 - val_acc: 0.4169\n",
            "Epoch 30/30\n",
            "1706/1706 [==============================] - 13s 8ms/sample - loss: 0.7638 - acc: 0.6635 - val_loss: 1.7997 - val_acc: 0.3864\n"
          ],
          "name": "stdout"
        }
      ]
    },
    {
      "cell_type": "markdown",
      "metadata": {
        "id": "av1zwphp53pf",
        "colab_type": "text"
      },
      "source": [
        "### Testing"
      ]
    },
    {
      "cell_type": "code",
      "metadata": {
        "id": "H0po5pJ4rWXG",
        "colab_type": "code",
        "outputId": "2fffbaec-dd65-4c77-cd19-35f2e681b0f0",
        "colab": {
          "base_uri": "https://localhost:8080/",
          "height": 51
        }
      },
      "source": [
        "#X_train_0 = X_train_valid[0].reshape(X_train_valid[0].shape[0],X_train_valid[0].shape[2],-1)\n",
        "print(X_test[0].shape)\n",
        "#X_test_reshape = X_test[0].reshape(X_test[0].shape[0], X_test[0].shape[2], -1)\n",
        "X_test_0_transpose = np.transpose(X_test[0], (0,2,1,3))\n",
        "print(X_test_0_transpose.shape)"
      ],
      "execution_count": 0,
      "outputs": [
        {
          "output_type": "stream",
          "text": [
            "(450, 22, 16, 16)\n",
            "(450, 16, 22, 16)\n"
          ],
          "name": "stdout"
        }
      ]
    },
    {
      "cell_type": "code",
      "metadata": {
        "id": "D3vaJ6HAi-k3",
        "colab_type": "code",
        "outputId": "cfe8f1eb-fbde-4f93-ed33-2d0223c84600",
        "colab": {
          "base_uri": "https://localhost:8080/",
          "height": 34
        }
      },
      "source": [
        "X_test_0_transpose_reshape = X_test_0_transpose.reshape(450,16,-1)\n",
        "print(X_test_0_transpose_reshape.shape)"
      ],
      "execution_count": 0,
      "outputs": [
        {
          "output_type": "stream",
          "text": [
            "(450, 16, 352)\n"
          ],
          "name": "stdout"
        }
      ]
    },
    {
      "cell_type": "code",
      "metadata": {
        "id": "fMk_x6Qejv-m",
        "colab_type": "code",
        "colab": {}
      },
      "source": [
        "y_test_onehot = one_hot_matrix(y_test[0], C = 4)\n",
        "y_test_onehot = y_test_onehot.T"
      ],
      "execution_count": 0,
      "outputs": []
    },
    {
      "cell_type": "code",
      "metadata": {
        "id": "zgUkOR3L37kV",
        "colab_type": "code",
        "outputId": "a798ca1e-70d7-4eec-98ea-c4339411b7f9",
        "colab": {
          "base_uri": "https://localhost:8080/",
          "height": 68
        }
      },
      "source": [
        "y_test_onehot = one_hot_matrix(y_test[0], C = 4)\n",
        "y_test_onehot = y_test_onehot.T\n",
        "#X_test[0] = X_test[0].reshape(X_test[0].shape[0],X_test[0].shape[2],-1)\n",
        "preds = model.evaluate(x = X_test_0_transpose_reshape,y = y_test_onehot)\n",
        "print (\"Loss = \" + str(preds[0]))\n",
        "print (\"Test Accuracy = \" + str(preds[1]))"
      ],
      "execution_count": 0,
      "outputs": [
        {
          "output_type": "stream",
          "text": [
            "450/450 [==============================] - 1s 3ms/sample - loss: 1.9310 - acc: 0.3333\n",
            "Loss = 1.9309590491983626\n",
            "Test Accuracy = 0.33333334\n"
          ],
          "name": "stdout"
        }
      ]
    },
    {
      "cell_type": "code",
      "metadata": {
        "id": "o96EN4m05-TY",
        "colab_type": "code",
        "outputId": "c064be58-6696-4dcc-aad6-697ed8534523",
        "colab": {
          "base_uri": "https://localhost:8080/",
          "height": 247
        }
      },
      "source": [
        "print(history.history.keys())  \n",
        "   \n",
        "plt.figure(1)  \n",
        "\n",
        "plt.subplot(211)  \n",
        "plt.plot(history.history['acc'])  \n",
        "plt.plot(history.history['val_acc'])  \n",
        "plt.title('model accuracy')  \n",
        "plt.ylabel('accuracy')  \n",
        "plt.xlabel('epoch')  \n",
        "plt.legend(['train_accuracy', 'validation_accuracy'], loc='upper left') "
      ],
      "execution_count": 0,
      "outputs": [
        {
          "output_type": "stream",
          "text": [
            "dict_keys(['loss', 'acc', 'val_loss', 'val_acc'])\n"
          ],
          "name": "stdout"
        },
        {
          "output_type": "execute_result",
          "data": {
            "text/plain": [
              "<matplotlib.legend.Legend at 0x7faa11c8b0f0>"
            ]
          },
          "metadata": {
            "tags": []
          },
          "execution_count": 32
        },
        {
          "output_type": "display_data",
          "data": {
            "image/png": "[encoded data removed]",
            "text/plain": [
              "<Figure size 576x396 with 1 Axes>"
            ]
          },
          "metadata": {
            "tags": []
          }
        }
      ]
    },
    {
      "cell_type": "code",
      "metadata": {
        "id": "0gdPQV4d2715",
        "colab_type": "code",
        "outputId": "4ed02093-380c-467f-d7ee-12c9089bd4fa",
        "colab": {
          "base_uri": "https://localhost:8080/",
          "height": 230
        }
      },
      "source": [
        "plt.figure(1)  \n",
        "\n",
        "# summarize history for accuracy  \n",
        "\n",
        "plt.subplot(211)  \n",
        "plt.plot(history.history['loss'])  \n",
        "plt.plot(history.history['val_loss'])  \n",
        "plt.title('model loss - learning curve')  \n",
        "plt.ylabel('loss')  \n",
        "plt.xlabel('epoch')  \n",
        "plt.legend(['train_loss', 'validation_loss'], loc='upper left')  "
      ],
      "execution_count": 0,
      "outputs": [
        {
          "output_type": "execute_result",
          "data": {
            "text/plain": [
              "<matplotlib.legend.Legend at 0x7faa11c6f8d0>"
            ]
          },
          "metadata": {
            "tags": []
          },
          "execution_count": 33
        },
        {
          "output_type": "display_data",
          "data": {
            "image/png": "[encoded data removed]",
            "text/plain": [
              "<Figure size 576x396 with 1 Axes>"
            ]
          },
          "metadata": {
            "tags": []
          }
        }
      ]
    },
    {
      "cell_type": "code",
      "metadata": {
        "id": "Ohiw0ki43GsD",
        "colab_type": "code",
        "colab": {}
      },
      "source": [
        ""
      ],
      "execution_count": 0,
      "outputs": []
    },
    {
      "cell_type": "code",
      "metadata": {
        "id": "BQiiAFSa69NP",
        "colab_type": "code",
        "colab": {}
      },
      "source": [
        ""
      ],
      "execution_count": 0,
      "outputs": []
    },
    {
      "cell_type": "code",
      "metadata": {
        "id": "VemF1rf569F9",
        "colab_type": "code",
        "colab": {}
      },
      "source": [
        "def stft_RNN_Model():\n",
        "    np.random.seed(0)\n",
        "    tf.set_random_seed(1)\n",
        "    model = Sequential()    \n",
        "    model.add(LSTM(units = 32, return_sequences = False, kernel_regularizer=regularizers.l2(0.01)))    \n",
        "    model.add(Dropout(0.5, seed = 0))    \n",
        "    model.add(Dense(units = 4, activation = 'softmax'))\n",
        "    optimizer = optimizers.Adam(lr=0.2)\n",
        "    model.compile(loss='categorical_crossentropy', optimizer='Adam', metrics=['accuracy'])\t  \n",
        "    return model"
      ],
      "execution_count": 0,
      "outputs": []
    },
    {
      "cell_type": "code",
      "metadata": {
        "id": "AVNUQ6hP68_O",
        "colab_type": "code",
        "outputId": "b9544982-1d25-4baa-af3f-4860520cd979",
        "colab": {
          "base_uri": "https://localhost:8080/",
          "height": 3454
        }
      },
      "source": [
        "model = stft_RNN_Model()\n",
        "history = model.fit(x = X_train_valid_0_transpose_reshape, y = y_train_onehot, \n",
        "                    epochs = 100, batch_size = 200, \n",
        "                    validation_split = 0.2, verbose = 1) "
      ],
      "execution_count": 0,
      "outputs": [
        {
          "output_type": "stream",
          "text": [
            "Train on 1706 samples, validate on 427 samples\n",
            "Epoch 1/100\n",
            "1706/1706 [==============================] - 2s 1ms/sample - loss: 3.2518 - acc: 0.2773 - val_loss: 3.0638 - val_acc: 0.2436\n",
            "Epoch 2/100\n",
            "1706/1706 [==============================] - 1s 448us/sample - loss: 2.9717 - acc: 0.2726 - val_loss: 2.8264 - val_acc: 0.2857\n",
            "Epoch 3/100\n",
            "1706/1706 [==============================] - 1s 447us/sample - loss: 2.7509 - acc: 0.2585 - val_loss: 2.6190 - val_acc: 0.2787\n",
            "Epoch 4/100\n",
            "1706/1706 [==============================] - 1s 461us/sample - loss: 2.5339 - acc: 0.2954 - val_loss: 2.4283 - val_acc: 0.3232\n",
            "Epoch 5/100\n",
            "1706/1706 [==============================] - 1s 452us/sample - loss: 2.3661 - acc: 0.2825 - val_loss: 2.2646 - val_acc: 0.2951\n",
            "Epoch 6/100\n",
            "1706/1706 [==============================] - 1s 454us/sample - loss: 2.2053 - acc: 0.2925 - val_loss: 2.1245 - val_acc: 0.2881\n",
            "Epoch 7/100\n",
            "1706/1706 [==============================] - 1s 459us/sample - loss: 2.0719 - acc: 0.3013 - val_loss: 2.0103 - val_acc: 0.2857\n",
            "Epoch 8/100\n",
            "1706/1706 [==============================] - 1s 448us/sample - loss: 1.9698 - acc: 0.2966 - val_loss: 1.9159 - val_acc: 0.2834\n",
            "Epoch 9/100\n",
            "1706/1706 [==============================] - 1s 459us/sample - loss: 1.8698 - acc: 0.3277 - val_loss: 1.8243 - val_acc: 0.3279\n",
            "Epoch 10/100\n",
            "1706/1706 [==============================] - 1s 455us/sample - loss: 1.7994 - acc: 0.3077 - val_loss: 1.7625 - val_acc: 0.3232\n",
            "Epoch 11/100\n",
            "1706/1706 [==============================] - 1s 456us/sample - loss: 1.7421 - acc: 0.3247 - val_loss: 1.7197 - val_acc: 0.3068\n",
            "Epoch 12/100\n",
            "1706/1706 [==============================] - 1s 449us/sample - loss: 1.6785 - acc: 0.3265 - val_loss: 1.6656 - val_acc: 0.3255\n",
            "Epoch 13/100\n",
            "1706/1706 [==============================] - 1s 458us/sample - loss: 1.6367 - acc: 0.3242 - val_loss: 1.6157 - val_acc: 0.3396\n",
            "Epoch 14/100\n",
            "1706/1706 [==============================] - 1s 456us/sample - loss: 1.5941 - acc: 0.3365 - val_loss: 1.5879 - val_acc: 0.3443\n",
            "Epoch 15/100\n",
            "1706/1706 [==============================] - 1s 457us/sample - loss: 1.5565 - acc: 0.3705 - val_loss: 1.5778 - val_acc: 0.3208\n",
            "Epoch 16/100\n",
            "1706/1706 [==============================] - 1s 457us/sample - loss: 1.5468 - acc: 0.3388 - val_loss: 1.5384 - val_acc: 0.3560\n",
            "Epoch 17/100\n",
            "1706/1706 [==============================] - 1s 457us/sample - loss: 1.5102 - acc: 0.3652 - val_loss: 1.5156 - val_acc: 0.3044\n",
            "Epoch 18/100\n",
            "1706/1706 [==============================] - 1s 456us/sample - loss: 1.4995 - acc: 0.3652 - val_loss: 1.4947 - val_acc: 0.3232\n",
            "Epoch 19/100\n",
            "1706/1706 [==============================] - 1s 459us/sample - loss: 1.4532 - acc: 0.3869 - val_loss: 1.4772 - val_acc: 0.3630\n",
            "Epoch 20/100\n",
            "1706/1706 [==============================] - 1s 442us/sample - loss: 1.4402 - acc: 0.3757 - val_loss: 1.4579 - val_acc: 0.3560\n",
            "Epoch 21/100\n",
            "1706/1706 [==============================] - 1s 456us/sample - loss: 1.4468 - acc: 0.3845 - val_loss: 1.4518 - val_acc: 0.3583\n",
            "Epoch 22/100\n",
            "1706/1706 [==============================] - 1s 464us/sample - loss: 1.3985 - acc: 0.4179 - val_loss: 1.4412 - val_acc: 0.3677\n",
            "Epoch 23/100\n",
            "1706/1706 [==============================] - 1s 458us/sample - loss: 1.3785 - acc: 0.4220 - val_loss: 1.4261 - val_acc: 0.3770\n",
            "Epoch 24/100\n",
            "1706/1706 [==============================] - 1s 448us/sample - loss: 1.3629 - acc: 0.4156 - val_loss: 1.4303 - val_acc: 0.3513\n",
            "Epoch 25/100\n",
            "1706/1706 [==============================] - 1s 454us/sample - loss: 1.3462 - acc: 0.4261 - val_loss: 1.4299 - val_acc: 0.3677\n",
            "Epoch 26/100\n",
            "1706/1706 [==============================] - 1s 463us/sample - loss: 1.3515 - acc: 0.4431 - val_loss: 1.5109 - val_acc: 0.3349\n",
            "Epoch 27/100\n",
            "1706/1706 [==============================] - 1s 458us/sample - loss: 1.3419 - acc: 0.4209 - val_loss: 1.3837 - val_acc: 0.3794\n",
            "Epoch 28/100\n",
            "1706/1706 [==============================] - 1s 447us/sample - loss: 1.3031 - acc: 0.4437 - val_loss: 1.4123 - val_acc: 0.3794\n",
            "Epoch 29/100\n",
            "1706/1706 [==============================] - 1s 457us/sample - loss: 1.2979 - acc: 0.4519 - val_loss: 1.3798 - val_acc: 0.3794\n",
            "Epoch 30/100\n",
            "1706/1706 [==============================] - 1s 459us/sample - loss: 1.2797 - acc: 0.4537 - val_loss: 1.5245 - val_acc: 0.3419\n",
            "Epoch 31/100\n",
            "1706/1706 [==============================] - 1s 468us/sample - loss: 1.3706 - acc: 0.4197 - val_loss: 1.3679 - val_acc: 0.4028\n",
            "Epoch 32/100\n",
            "1706/1706 [==============================] - 1s 446us/sample - loss: 1.2810 - acc: 0.4719 - val_loss: 1.3907 - val_acc: 0.3934\n",
            "Epoch 33/100\n",
            "1706/1706 [==============================] - 1s 456us/sample - loss: 1.2589 - acc: 0.4771 - val_loss: 1.4001 - val_acc: 0.3794\n",
            "Epoch 34/100\n",
            "1706/1706 [==============================] - 1s 462us/sample - loss: 1.2501 - acc: 0.4725 - val_loss: 1.3454 - val_acc: 0.3911\n",
            "Epoch 35/100\n",
            "1706/1706 [==============================] - 1s 455us/sample - loss: 1.2180 - acc: 0.5047 - val_loss: 1.3759 - val_acc: 0.3770\n",
            "Epoch 36/100\n",
            "1706/1706 [==============================] - 1s 453us/sample - loss: 1.1936 - acc: 0.5059 - val_loss: 1.3157 - val_acc: 0.4028\n",
            "Epoch 37/100\n",
            "1706/1706 [==============================] - 1s 463us/sample - loss: 1.1915 - acc: 0.4889 - val_loss: 1.3355 - val_acc: 0.3724\n",
            "Epoch 38/100\n",
            "1706/1706 [==============================] - 1s 455us/sample - loss: 1.1738 - acc: 0.5117 - val_loss: 1.2836 - val_acc: 0.4122\n",
            "Epoch 39/100\n",
            "1706/1706 [==============================] - 1s 457us/sample - loss: 1.1929 - acc: 0.4959 - val_loss: 1.3031 - val_acc: 0.4122\n",
            "Epoch 40/100\n",
            "1706/1706 [==============================] - 1s 448us/sample - loss: 1.1793 - acc: 0.5141 - val_loss: 1.3131 - val_acc: 0.4215\n",
            "Epoch 41/100\n",
            "1706/1706 [==============================] - 1s 458us/sample - loss: 1.1468 - acc: 0.5346 - val_loss: 1.2457 - val_acc: 0.4356\n",
            "Epoch 42/100\n",
            "1706/1706 [==============================] - 1s 460us/sample - loss: 1.1510 - acc: 0.5393 - val_loss: 1.2966 - val_acc: 0.4145\n",
            "Epoch 43/100\n",
            "1706/1706 [==============================] - 1s 460us/sample - loss: 1.1444 - acc: 0.5129 - val_loss: 1.2995 - val_acc: 0.4098\n",
            "Epoch 44/100\n",
            "1706/1706 [==============================] - 1s 452us/sample - loss: 1.0874 - acc: 0.5621 - val_loss: 1.2756 - val_acc: 0.4496\n",
            "Epoch 45/100\n",
            "1706/1706 [==============================] - 1s 461us/sample - loss: 1.1294 - acc: 0.5463 - val_loss: 1.2886 - val_acc: 0.4122\n",
            "Epoch 46/100\n",
            "1706/1706 [==============================] - 1s 457us/sample - loss: 1.0825 - acc: 0.5440 - val_loss: 1.2470 - val_acc: 0.4473\n",
            "Epoch 47/100\n",
            "1706/1706 [==============================] - 1s 458us/sample - loss: 1.0395 - acc: 0.5791 - val_loss: 1.2675 - val_acc: 0.4379\n",
            "Epoch 48/100\n",
            "1706/1706 [==============================] - 1s 460us/sample - loss: 1.0326 - acc: 0.5944 - val_loss: 1.2397 - val_acc: 0.4426\n",
            "Epoch 49/100\n",
            "1706/1706 [==============================] - 1s 457us/sample - loss: 1.0013 - acc: 0.5920 - val_loss: 1.1666 - val_acc: 0.5176\n",
            "Epoch 50/100\n",
            "1706/1706 [==============================] - 1s 469us/sample - loss: 0.9566 - acc: 0.6090 - val_loss: 1.3523 - val_acc: 0.4192\n",
            "Epoch 51/100\n",
            "1706/1706 [==============================] - 1s 473us/sample - loss: 1.0611 - acc: 0.5856 - val_loss: 1.2672 - val_acc: 0.4379\n",
            "Epoch 52/100\n",
            "1706/1706 [==============================] - 1s 470us/sample - loss: 0.9872 - acc: 0.6002 - val_loss: 1.1839 - val_acc: 0.5129\n",
            "Epoch 53/100\n",
            "1706/1706 [==============================] - 1s 456us/sample - loss: 1.0132 - acc: 0.5903 - val_loss: 1.2063 - val_acc: 0.4871\n",
            "Epoch 54/100\n",
            "1706/1706 [==============================] - 1s 471us/sample - loss: 0.9611 - acc: 0.6295 - val_loss: 1.1500 - val_acc: 0.4871\n",
            "Epoch 55/100\n",
            "1706/1706 [==============================] - 1s 470us/sample - loss: 0.9005 - acc: 0.6477 - val_loss: 1.1490 - val_acc: 0.4965\n",
            "Epoch 56/100\n",
            "1706/1706 [==============================] - 1s 474us/sample - loss: 0.8858 - acc: 0.6612 - val_loss: 1.1605 - val_acc: 0.5199\n",
            "Epoch 57/100\n",
            "1706/1706 [==============================] - 1s 477us/sample - loss: 0.8721 - acc: 0.6606 - val_loss: 1.2361 - val_acc: 0.5035\n",
            "Epoch 58/100\n",
            "1706/1706 [==============================] - 1s 470us/sample - loss: 0.8656 - acc: 0.6700 - val_loss: 1.2171 - val_acc: 0.4941\n",
            "Epoch 59/100\n",
            "1706/1706 [==============================] - 1s 484us/sample - loss: 0.9043 - acc: 0.6436 - val_loss: 1.1540 - val_acc: 0.5152\n",
            "Epoch 60/100\n",
            "1706/1706 [==============================] - 1s 482us/sample - loss: 0.8560 - acc: 0.6653 - val_loss: 1.1229 - val_acc: 0.5035\n",
            "Epoch 61/100\n",
            "1706/1706 [==============================] - 1s 476us/sample - loss: 0.9596 - acc: 0.6471 - val_loss: 1.1969 - val_acc: 0.5059\n",
            "Epoch 62/100\n",
            "1706/1706 [==============================] - 1s 461us/sample - loss: 0.8832 - acc: 0.6647 - val_loss: 1.1128 - val_acc: 0.5176\n",
            "Epoch 63/100\n",
            "1706/1706 [==============================] - 1s 483us/sample - loss: 0.8873 - acc: 0.6600 - val_loss: 1.2586 - val_acc: 0.5176\n",
            "Epoch 64/100\n",
            "1706/1706 [==============================] - 1s 461us/sample - loss: 0.8529 - acc: 0.6876 - val_loss: 1.1214 - val_acc: 0.5527\n",
            "Epoch 65/100\n",
            "1706/1706 [==============================] - 1s 454us/sample - loss: 0.8103 - acc: 0.6952 - val_loss: 1.0789 - val_acc: 0.5597\n",
            "Epoch 66/100\n",
            "1706/1706 [==============================] - 1s 463us/sample - loss: 0.7788 - acc: 0.7093 - val_loss: 1.1637 - val_acc: 0.5105\n",
            "Epoch 67/100\n",
            "1706/1706 [==============================] - 1s 443us/sample - loss: 0.7814 - acc: 0.6993 - val_loss: 1.2989 - val_acc: 0.5129\n",
            "Epoch 68/100\n",
            "1706/1706 [==============================] - 1s 453us/sample - loss: 0.7684 - acc: 0.7333 - val_loss: 1.1514 - val_acc: 0.5504\n",
            "Epoch 69/100\n",
            "1706/1706 [==============================] - 1s 460us/sample - loss: 0.7396 - acc: 0.7339 - val_loss: 1.0948 - val_acc: 0.5831\n",
            "Epoch 70/100\n",
            "1706/1706 [==============================] - 1s 455us/sample - loss: 0.7106 - acc: 0.7608 - val_loss: 1.1885 - val_acc: 0.5597\n",
            "Epoch 71/100\n",
            "1706/1706 [==============================] - 1s 446us/sample - loss: 0.6975 - acc: 0.7550 - val_loss: 1.1345 - val_acc: 0.5667\n",
            "Epoch 72/100\n",
            "1706/1706 [==============================] - 1s 459us/sample - loss: 0.6985 - acc: 0.7515 - val_loss: 1.0610 - val_acc: 0.5785\n",
            "Epoch 73/100\n",
            "1706/1706 [==============================] - 1s 459us/sample - loss: 0.7411 - acc: 0.7263 - val_loss: 1.0943 - val_acc: 0.5504\n",
            "Epoch 74/100\n",
            "1706/1706 [==============================] - 1s 456us/sample - loss: 0.7024 - acc: 0.7573 - val_loss: 1.0730 - val_acc: 0.5925\n",
            "Epoch 75/100\n",
            "1706/1706 [==============================] - 1s 449us/sample - loss: 0.6505 - acc: 0.7796 - val_loss: 1.0537 - val_acc: 0.5925\n",
            "Epoch 76/100\n",
            "1706/1706 [==============================] - 1s 459us/sample - loss: 0.6431 - acc: 0.7890 - val_loss: 1.0444 - val_acc: 0.6042\n",
            "Epoch 77/100\n",
            "1706/1706 [==============================] - 1s 463us/sample - loss: 0.6470 - acc: 0.7778 - val_loss: 1.1394 - val_acc: 0.5667\n",
            "Epoch 78/100\n",
            "1706/1706 [==============================] - 1s 454us/sample - loss: 0.6644 - acc: 0.7714 - val_loss: 1.1288 - val_acc: 0.5948\n",
            "Epoch 79/100\n",
            "1706/1706 [==============================] - 1s 453us/sample - loss: 0.6544 - acc: 0.7837 - val_loss: 1.1093 - val_acc: 0.5597\n",
            "Epoch 80/100\n",
            "1706/1706 [==============================] - 1s 457us/sample - loss: 0.6363 - acc: 0.7872 - val_loss: 1.2497 - val_acc: 0.5644\n",
            "Epoch 81/100\n",
            "1706/1706 [==============================] - 1s 454us/sample - loss: 0.6574 - acc: 0.7843 - val_loss: 1.0860 - val_acc: 0.6089\n",
            "Epoch 82/100\n",
            "1706/1706 [==============================] - 1s 461us/sample - loss: 0.5491 - acc: 0.8429 - val_loss: 1.1676 - val_acc: 0.5902\n",
            "Epoch 83/100\n",
            "1706/1706 [==============================] - 1s 453us/sample - loss: 0.6207 - acc: 0.7866 - val_loss: 1.2212 - val_acc: 0.5761\n",
            "Epoch 84/100\n",
            "1706/1706 [==============================] - 1s 458us/sample - loss: 0.6227 - acc: 0.7978 - val_loss: 1.1934 - val_acc: 0.5550\n",
            "Epoch 85/100\n",
            "1706/1706 [==============================] - 1s 466us/sample - loss: 0.6315 - acc: 0.7954 - val_loss: 1.1029 - val_acc: 0.5925\n",
            "Epoch 86/100\n",
            "1706/1706 [==============================] - 1s 458us/sample - loss: 0.5841 - acc: 0.8159 - val_loss: 1.1685 - val_acc: 0.5738\n",
            "Epoch 87/100\n",
            "1706/1706 [==============================] - 1s 451us/sample - loss: 0.5804 - acc: 0.8183 - val_loss: 1.3657 - val_acc: 0.5316\n",
            "Epoch 88/100\n",
            "1706/1706 [==============================] - 1s 461us/sample - loss: 0.6391 - acc: 0.7972 - val_loss: 1.1151 - val_acc: 0.5878\n",
            "Epoch 89/100\n",
            "1706/1706 [==============================] - 1s 462us/sample - loss: 0.5716 - acc: 0.8341 - val_loss: 1.0974 - val_acc: 0.5738\n",
            "Epoch 90/100\n",
            "1706/1706 [==============================] - 1s 459us/sample - loss: 0.5701 - acc: 0.8335 - val_loss: 1.1931 - val_acc: 0.5527\n",
            "Epoch 91/100\n",
            "1706/1706 [==============================] - 1s 451us/sample - loss: 0.6104 - acc: 0.7943 - val_loss: 1.0904 - val_acc: 0.5855\n",
            "Epoch 92/100\n",
            "1706/1706 [==============================] - 1s 454us/sample - loss: 0.5808 - acc: 0.8218 - val_loss: 1.1433 - val_acc: 0.6019\n",
            "Epoch 93/100\n",
            "1706/1706 [==============================] - 1s 464us/sample - loss: 0.6045 - acc: 0.8077 - val_loss: 1.1236 - val_acc: 0.5972\n",
            "Epoch 94/100\n",
            "1706/1706 [==============================] - 1s 462us/sample - loss: 0.5409 - acc: 0.8370 - val_loss: 1.1774 - val_acc: 0.6089\n",
            "Epoch 95/100\n",
            "1706/1706 [==============================] - 1s 447us/sample - loss: 0.5413 - acc: 0.8388 - val_loss: 1.1965 - val_acc: 0.5831\n",
            "Epoch 96/100\n",
            "1706/1706 [==============================] - 1s 453us/sample - loss: 0.5565 - acc: 0.8271 - val_loss: 1.1528 - val_acc: 0.6393\n",
            "Epoch 97/100\n",
            "1706/1706 [==============================] - 1s 458us/sample - loss: 0.5080 - acc: 0.8646 - val_loss: 1.2001 - val_acc: 0.6089\n",
            "Epoch 98/100\n",
            "1706/1706 [==============================] - 1s 462us/sample - loss: 0.4541 - acc: 0.8798 - val_loss: 1.1684 - val_acc: 0.6300\n",
            "Epoch 99/100\n",
            "1706/1706 [==============================] - 1s 450us/sample - loss: 0.4897 - acc: 0.8576 - val_loss: 1.1756 - val_acc: 0.6276\n",
            "Epoch 100/100\n",
            "1706/1706 [==============================] - 1s 462us/sample - loss: 0.4760 - acc: 0.8710 - val_loss: 1.1242 - val_acc: 0.6042\n"
          ],
          "name": "stdout"
        }
      ]
    },
    {
      "cell_type": "code",
      "metadata": {
        "id": "WMQ1URju7Fua",
        "colab_type": "code",
        "outputId": "88603935-b95f-42a6-fe3a-121cdf246a86",
        "colab": {
          "base_uri": "https://localhost:8080/",
          "height": 68
        }
      },
      "source": [
        "y_test_onehot = one_hot_matrix(y_test[0], C = 4)\n",
        "y_test_onehot = y_test_onehot.T\n",
        "#X_test[0] = X_test[0].reshape(X_test[0].shape[0],X_test[0].shape[2],-1)\n",
        "preds = model.evaluate(x = X_test_0_transpose_reshape,y = y_test_onehot)\n",
        "print (\"Loss = \" + str(preds[0]))\n",
        "print (\"Test Accuracy = \" + str(preds[1]))"
      ],
      "execution_count": 0,
      "outputs": [
        {
          "output_type": "stream",
          "text": [
            "450/450 [==============================] - 0s 718us/sample - loss: 1.3038 - acc: 0.5000\n",
            "Loss = 1.3037719927893745\n",
            "Test Accuracy = 0.5\n"
          ],
          "name": "stdout"
        }
      ]
    },
    {
      "cell_type": "code",
      "metadata": {
        "id": "637BPfRJ9B42",
        "colab_type": "code",
        "outputId": "64eb2450-b001-4aab-8f38-a91f2475497c",
        "colab": {
          "base_uri": "https://localhost:8080/",
          "height": 247
        }
      },
      "source": [
        "print(history.history.keys())  \n",
        "   \n",
        "plt.figure(1)  \n",
        "\n",
        "plt.subplot(211)  \n",
        "plt.plot(history.history['acc'])  \n",
        "plt.plot(history.history['val_acc'])  \n",
        "plt.title('model accuracy')  \n",
        "plt.ylabel('accuracy')  \n",
        "plt.xlabel('epoch')  \n",
        "plt.legend(['train_accuracy', 'validation_accuracy'], loc='upper left') "
      ],
      "execution_count": 0,
      "outputs": [
        {
          "output_type": "stream",
          "text": [
            "dict_keys(['loss', 'acc', 'val_loss', 'val_acc'])\n"
          ],
          "name": "stdout"
        },
        {
          "output_type": "execute_result",
          "data": {
            "text/plain": [
              "<matplotlib.legend.Legend at 0x7faa0559e8d0>"
            ]
          },
          "metadata": {
            "tags": []
          },
          "execution_count": 90
        },
        {
          "output_type": "display_data",
          "data": {
            "image/png": "[encoded data removed]",
            "text/plain": [
              "<Figure size 576x396 with 1 Axes>"
            ]
          },
          "metadata": {
            "tags": []
          }
        }
      ]
    },
    {
      "cell_type": "code",
      "metadata": {
        "id": "OG7IxRB49OTf",
        "colab_type": "code",
        "outputId": "95111283-20d2-46cb-dd5d-c4aaf8cd59b0",
        "colab": {
          "base_uri": "https://localhost:8080/",
          "height": 230
        }
      },
      "source": [
        "plt.figure(1)  \n",
        "\n",
        "# summarize history for accuracy  \n",
        "\n",
        "plt.subplot(211)  \n",
        "plt.plot(history.history['loss'])  \n",
        "plt.plot(history.history['val_loss'])  \n",
        "plt.title('model loss - learning curve')  \n",
        "plt.ylabel('loss')  \n",
        "plt.xlabel('epoch')  \n",
        "plt.legend(['train_loss', 'validation_loss'], loc='upper left')  "
      ],
      "execution_count": 0,
      "outputs": [
        {
          "output_type": "execute_result",
          "data": {
            "text/plain": [
              "<matplotlib.legend.Legend at 0x7faa0557d748>"
            ]
          },
          "metadata": {
            "tags": []
          },
          "execution_count": 91
        },
        {
          "output_type": "display_data",
          "data": {
            "image/png": "[encoded data removed]",
            "text/plain": [
              "<Figure size 576x396 with 1 Axes>"
            ]
          },
          "metadata": {
            "tags": []
          }
        }
      ]
    },
    {
      "cell_type": "code",
      "metadata": {
        "id": "wSTmOLy_9Rsu",
        "colab_type": "code",
        "colab": {}
      },
      "source": [
        ""
      ],
      "execution_count": 0,
      "outputs": []
    },
    {
      "cell_type": "markdown",
      "metadata": {
        "id": "W5zqYtT_Fqf-",
        "colab_type": "text"
      },
      "source": [
        "#### Tune Learning Rate and Batch Size"
      ]
    },
    {
      "cell_type": "code",
      "metadata": {
        "id": "w4msuXCnF7Qw",
        "colab_type": "code",
        "colab": {}
      },
      "source": [
        "def stft_RNN_Model(lr=0.2):\n",
        "    np.random.seed(0)\n",
        "    tf.set_random_seed(1)\n",
        "    model = Sequential()    \n",
        "    model.add(LSTM(units = 32, return_sequences = False, kernel_regularizer=regularizers.l2(0.01)))    \n",
        "    model.add(Dropout(0.5, seed = 0))    \n",
        "    model.add(Dense(units = 4, activation = 'softmax'))\n",
        "    optimizer = optimizers.Adam(lr=lr)\n",
        "    model.compile(loss='categorical_crossentropy', optimizer='Adam', metrics=['accuracy'])\t  \n",
        "    return model"
      ],
      "execution_count": 0,
      "outputs": []
    },
    {
      "cell_type": "code",
      "metadata": {
        "id": "dy-qC3msGk40",
        "colab_type": "code",
        "outputId": "9df05ad8-2074-4b35-cca0-cd598ea8ea1f",
        "colab": {
          "base_uri": "https://localhost:8080/",
          "height": 34
        }
      },
      "source": [
        "# define the search parameters\n",
        "np.random.seed(0)\n",
        "r = -3*np.random.rand(5)\n",
        "lr = 10**r\n",
        "lr.sort()\n",
        "batch_size = [64, 128, 256, 512, 1024]\n",
        "print(lr)"
      ],
      "execution_count": 0,
      "outputs": [
        {
          "output_type": "stream",
          "text": [
            "[0.00715207 0.01554927 0.02257145 0.02319265 0.05358406]\n"
          ],
          "name": "stdout"
        }
      ]
    },
    {
      "cell_type": "code",
      "metadata": {
        "id": "h1Q9wAtUGKJ6",
        "colab_type": "code",
        "outputId": "ea574a55-1869-4a78-aa6e-2f961de140e4",
        "colab": {
          "base_uri": "https://localhost:8080/",
          "height": 442
        }
      },
      "source": [
        "# for loop search\n",
        "acc_list = []              \n",
        "                     \n",
        "for lr_iter in lr:\n",
        "  for batch_iter in batch_size:\n",
        "    model = stft_CRNN_Model(lr=lr_iter)    \n",
        "    model.fit(x = X_train_valid_0_transpose_reshape, y = y_train_onehot, \n",
        "                    epochs = 100, batch_size = batch_iter, \n",
        "                    validation_split = 0.2, verbose = 0)\n",
        "    preds = model.evaluate(x = X_test_0_transpose_reshape,y = y_test_onehot)\n",
        "    acc_list.append(preds[1])\n"
      ],
      "execution_count": 0,
      "outputs": [
        {
          "output_type": "stream",
          "text": [
            "450/450 [==============================] - 0s 706us/sample - loss: 1.3041 - acc: 0.5533\n",
            "450/450 [==============================] - 1s 1ms/sample - loss: 1.2950 - acc: 0.4600\n",
            "450/450 [==============================] - 0s 714us/sample - loss: 1.5857 - acc: 0.4689\n",
            "450/450 [==============================] - 0s 745us/sample - loss: 1.4530 - acc: 0.4222\n",
            "450/450 [==============================] - 0s 733us/sample - loss: 1.5942 - acc: 0.3844\n",
            "450/450 [==============================] - 0s 918us/sample - loss: 1.1445 - acc: 0.5044\n",
            "450/450 [==============================] - 0s 703us/sample - loss: 1.2764 - acc: 0.5378\n",
            "450/450 [==============================] - 0s 1ms/sample - loss: 1.4075 - acc: 0.4889\n",
            "450/450 [==============================] - 0s 721us/sample - loss: 1.5298 - acc: 0.4422\n",
            "450/450 [==============================] - 0s 763us/sample - loss: 1.4446 - acc: 0.3667\n",
            "450/450 [==============================] - 0s 712us/sample - loss: 1.3503 - acc: 0.5333\n",
            "450/450 [==============================] - 0s 697us/sample - loss: 1.6212 - acc: 0.4867\n",
            "450/450 [==============================] - 0s 739us/sample - loss: 1.4188 - acc: 0.4556\n",
            "450/450 [==============================] - 0s 704us/sample - loss: 1.4652 - acc: 0.4489\n",
            "450/450 [==============================] - 0s 715us/sample - loss: 1.4239 - acc: 0.4467\n",
            "450/450 [==============================] - 0s 683us/sample - loss: 1.2246 - acc: 0.4800\n",
            "450/450 [==============================] - 0s 688us/sample - loss: 1.4553 - acc: 0.4622\n",
            "450/450 [==============================] - 0s 708us/sample - loss: 1.1498 - acc: 0.5422\n",
            "450/450 [==============================] - 0s 739us/sample - loss: 1.4052 - acc: 0.4533\n",
            "450/450 [==============================] - 0s 714us/sample - loss: 1.3262 - acc: 0.4000\n",
            "450/450 [==============================] - 0s 678us/sample - loss: 1.3242 - acc: 0.5089\n",
            "450/450 [==============================] - 0s 679us/sample - loss: 1.3016 - acc: 0.6067\n",
            "450/450 [==============================] - 0s 748us/sample - loss: 1.1866 - acc: 0.5933\n",
            "450/450 [==============================] - 0s 768us/sample - loss: 1.5009 - acc: 0.4644\n",
            "450/450 [==============================] - 0s 754us/sample - loss: 1.4522 - acc: 0.3844\n"
          ],
          "name": "stdout"
        }
      ]
    },
    {
      "cell_type": "code",
      "metadata": {
        "id": "4vQ18NnmKcVe",
        "colab_type": "code",
        "outputId": "9f136184-9c3f-4df8-8a43-ed600006f566",
        "colab": {
          "base_uri": "https://localhost:8080/",
          "height": 321
        }
      },
      "source": [
        "# visualization\n",
        "acc_array = np.array(acc_list)\n",
        "acc_array = acc_array.reshape(len(lr), len(batch_size))\n",
        "\n",
        "plt.figure(figsize=(10, 10))\n",
        "plt.subplots_adjust(top=0.6, bottom=0.2, right=0.6, left=0.2)\n",
        "plt.imshow(acc_array, interpolation='nearest', cmap=plt.cm.hot)\n",
        "plt.xlabel('batch_size')\n",
        "plt.ylabel('learning_rate')\n",
        "plt.colorbar()\n",
        "plt.xticks(np.arange(len(batch_size)), batch_size)\n",
        "plt.yticks(np.arange(len(lr)), lr)\n",
        "plt.title('Parameter Search - batch_size & learning_rate')\n",
        "plt.show()"
      ],
      "execution_count": 0,
      "outputs": [
        {
          "output_type": "display_data",
          "data": {
            "image/png": "[encoded data removed]",
            "text/plain": [
              "<Figure size 720x720 with 2 Axes>"
            ]
          },
          "metadata": {
            "tags": []
          }
        }
      ]
    },
    {
      "cell_type": "code",
      "metadata": {
        "id": "ZtEobVwmQjix",
        "colab_type": "code",
        "colab": {}
      },
      "source": [
        "# save to a file\n",
        "with open('acc_array_file.txt','wb') as f:\n",
        "    for line in acc_array:\n",
        "        np.savetxt(f, line, fmt='%.2f')"
      ],
      "execution_count": 0,
      "outputs": []
    },
    {
      "cell_type": "code",
      "metadata": {
        "id": "EsnS-xHuwwM4",
        "colab_type": "code",
        "outputId": "0c7e73ad-5e2c-4705-817d-b5a790bf79dd",
        "colab": {
          "base_uri": "https://localhost:8080/",
          "height": 51
        }
      },
      "source": [
        "np.random.seed(0)\n",
        "r = -3*np.random.rand(5)\n",
        "lr = 10**r\n",
        "lr.sort()\n",
        "batch_size = [64, 128, 256, 512, 1024]\n",
        "print(lr)\n",
        "formatted_lr = [\"%.4f\"%item for item in lr]\n",
        "print(formatted_lr)"
      ],
      "execution_count": 0,
      "outputs": [
        {
          "output_type": "stream",
          "text": [
            "[0.00715207 0.01554927 0.02257145 0.02319265 0.05358406]\n",
            "['0.0072', '0.0155', '0.0226', '0.0232', '0.0536']\n"
          ],
          "name": "stdout"
        }
      ]
    },
    {
      "cell_type": "code",
      "metadata": {
        "id": "1FEFcUmWwAUt",
        "colab_type": "code",
        "outputId": "4faec575-5d83-453c-b720-6fd9ae6ae7ff",
        "colab": {
          "base_uri": "https://localhost:8080/",
          "height": 321
        }
      },
      "source": [
        "# reopen the saved file\n",
        "acc_list=[]\n",
        "with open('acc_array_file.txt') as f:\n",
        "  for line in f:\n",
        "    acc_list.extend([float(i) for i in line.split()])\n",
        "    \n",
        "# visualization\n",
        "\n",
        "acc_array = np.array(acc_list)\n",
        "acc_array = acc_array.reshape(len(formatted_lr), len(batch_size))\n",
        "\n",
        "plt.figure(figsize=(10, 10))\n",
        "plt.subplots_adjust(top=0.6, bottom=0.2, right=0.6, left=0.2)\n",
        "plt.imshow(acc_array, interpolation='nearest', cmap=plt.cm.hot)\n",
        "plt.xlabel('batch_size')\n",
        "plt.ylabel('learning_rate')\n",
        "plt.colorbar()\n",
        "plt.xticks(np.arange(len(batch_size)), batch_size)\n",
        "plt.yticks(np.arange(len(formatted_lr)), formatted_lr)\n",
        "plt.title('Parameter Search - batch_size & learning_rate')\n",
        "plt.show()"
      ],
      "execution_count": 0,
      "outputs": [
        {
          "output_type": "display_data",
          "data": {
            "image/png": "[encoded data removed]",
            "text/plain": [
              "<Figure size 720x720 with 2 Axes>"
            ]
          },
          "metadata": {
            "tags": []
          }
        }
      ]
    },
    {
      "cell_type": "markdown",
      "metadata": {
        "id": "GTQtiyv3NvUz",
        "colab_type": "text"
      },
      "source": [
        "#### Tune Units Number and L2 Regularization"
      ]
    },
    {
      "cell_type": "code",
      "metadata": {
        "id": "hsEPMWZvLcJj",
        "colab_type": "code",
        "colab": {}
      },
      "source": [
        "def stft_RNN_Model(units = 32, l2 = 0.01):\n",
        "    np.random.seed(0)\n",
        "    tf.set_random_seed(1)\n",
        "    model = Sequential()    \n",
        "    model.add(LSTM(units = units, return_sequences = False, kernel_regularizer=regularizers.l2(l2)))    \n",
        "    model.add(Dropout(0.5, seed = 0))    \n",
        "    model.add(Dense(units = 4, activation = 'softmax'))\n",
        "    optimizer = optimizers.Adam(lr=0.05)\n",
        "    model.compile(loss='categorical_crossentropy', optimizer='Adam', metrics=['accuracy'])\t  \n",
        "    return model"
      ],
      "execution_count": 0,
      "outputs": []
    },
    {
      "cell_type": "code",
      "metadata": {
        "id": "oY0gUh9TORim",
        "colab_type": "code",
        "outputId": "9e074afc-68d6-4e38-b2e9-3806b18bac53",
        "colab": {
          "base_uri": "https://localhost:8080/",
          "height": 34
        }
      },
      "source": [
        "# define the search parameters\n",
        "np.random.seed(0)\n",
        "l2r = -2*np.random.rand(5)\n",
        "l2 = 10**r\n",
        "l2.sort()\n",
        "units = [32, 64, 128, 512]\n",
        "print(l2)"
      ],
      "execution_count": 0,
      "outputs": [
        {
          "output_type": "stream",
          "text": [
            "[0.00715207 0.01554927 0.02257145 0.02319265 0.05358406]\n"
          ],
          "name": "stdout"
        }
      ]
    },
    {
      "cell_type": "code",
      "metadata": {
        "id": "Vxcqm2THPglS",
        "colab_type": "code",
        "outputId": "fbc72737-8469-44e1-d3cd-a6d18a3b70d3",
        "colab": {
          "base_uri": "https://localhost:8080/",
          "height": 357
        }
      },
      "source": [
        "# for loop search\n",
        "ul2_acc_list = []              \n",
        "                     \n",
        "for u_iter in units:\n",
        "  for l2_iter in l2:\n",
        "    model = stft_RNN_Model(units=u_iter, l2=l2_iter)    \n",
        "    model.fit(x = X_train_valid_0_transpose_reshape, y = y_train_onehot, \n",
        "                    epochs = 100, batch_size = 128, \n",
        "                    validation_split = 0.2, verbose = 0)\n",
        "    preds = model.evaluate(x = X_test_0_transpose_reshape,y = y_test_onehot)\n",
        "    ul2_acc_list.append(preds[1])"
      ],
      "execution_count": 0,
      "outputs": [
        {
          "output_type": "stream",
          "text": [
            "450/450 [==============================] - 0s 759us/sample - loss: 2.0523 - acc: 0.4511\n",
            "450/450 [==============================] - 0s 725us/sample - loss: 1.3544 - acc: 0.5667\n",
            "450/450 [==============================] - 0s 713us/sample - loss: 1.2851 - acc: 0.5778\n",
            "450/450 [==============================] - 0s 713us/sample - loss: 1.4219 - acc: 0.5000\n",
            "450/450 [==============================] - 0s 742us/sample - loss: 1.2790 - acc: 0.5511\n",
            "450/450 [==============================] - 0s 701us/sample - loss: 1.7602 - acc: 0.5200\n",
            "450/450 [==============================] - 0s 720us/sample - loss: 1.5503 - acc: 0.5889\n",
            "450/450 [==============================] - 0s 723us/sample - loss: 1.4670 - acc: 0.5600\n",
            "450/450 [==============================] - 0s 747us/sample - loss: 1.9770 - acc: 0.5356\n",
            "450/450 [==============================] - 0s 758us/sample - loss: 1.0944 - acc: 0.5289\n",
            "450/450 [==============================] - 0s 740us/sample - loss: 2.3548 - acc: 0.5511\n",
            "450/450 [==============================] - 0s 705us/sample - loss: 1.7731 - acc: 0.6156\n",
            "450/450 [==============================] - 0s 709us/sample - loss: 1.9085 - acc: 0.5333\n",
            "450/450 [==============================] - 0s 722us/sample - loss: 1.6218 - acc: 0.5489\n",
            "450/450 [==============================] - 0s 807us/sample - loss: 1.2305 - acc: 0.5600\n",
            "450/450 [==============================] - 0s 803us/sample - loss: 1.8674 - acc: 0.5356\n",
            "450/450 [==============================] - 0s 874us/sample - loss: 1.6032 - acc: 0.5733\n",
            "450/450 [==============================] - 0s 773us/sample - loss: 1.2273 - acc: 0.5933\n",
            "450/450 [==============================] - 0s 740us/sample - loss: 1.4576 - acc: 0.5822\n",
            "450/450 [==============================] - 0s 779us/sample - loss: 1.1933 - acc: 0.5756\n"
          ],
          "name": "stdout"
        }
      ]
    },
    {
      "cell_type": "code",
      "metadata": {
        "id": "8xQ8IKWvQBxC",
        "colab_type": "code",
        "outputId": "e0e45469-81d5-4d61-9df1-9db038c501c9",
        "colab": {
          "base_uri": "https://localhost:8080/",
          "height": 319
        }
      },
      "source": [
        "# visulization\n",
        "ul2_acc_array = np.array(ul2_acc_list)\n",
        "ul2_acc_array = ul2_acc_array.reshape(len(units), len(l2))\n",
        "\n",
        "plt.figure(figsize=(10, 10))\n",
        "plt.subplots_adjust(top=0.6, bottom=0.2, right=0.6, left=0.2)\n",
        "plt.imshow(ul2_acc_array, interpolation='nearest', cmap=plt.cm.hot)\n",
        "plt.xlabel('l2 regularization')\n",
        "plt.ylabel('units')\n",
        "plt.colorbar()\n",
        "plt.xticks(np.arange(len(l2)), l2)\n",
        "plt.yticks(np.arange(len(units)), units)\n",
        "plt.title('Parameter Search - l2 regularization & units')\n",
        "plt.show()"
      ],
      "execution_count": 0,
      "outputs": [
        {
          "output_type": "display_data",
          "data": {
            "image/png": "[encoded data removed]",
            "text/plain": [
              "<Figure size 720x720 with 2 Axes>"
            ]
          },
          "metadata": {
            "tags": []
          }
        }
      ]
    },
    {
      "cell_type": "code",
      "metadata": {
        "id": "IFckQtBRRCrM",
        "colab_type": "code",
        "colab": {}
      },
      "source": [
        "# save to a file\n",
        "with open('ul2_acc_array_file.txt','wb') as f:\n",
        "    for line in ul2_acc_array:\n",
        "        np.savetxt(f, line, fmt='%.2f')"
      ],
      "execution_count": 0,
      "outputs": []
    },
    {
      "cell_type": "code",
      "metadata": {
        "id": "dHCqVG4FzHDS",
        "colab_type": "code",
        "outputId": "a343209e-f646-4824-cbdb-4e842dd6620d",
        "colab": {
          "base_uri": "https://localhost:8080/",
          "height": 51
        }
      },
      "source": [
        "np.random.seed(0)\n",
        "l2r = -2*np.random.rand(5)\n",
        "l2 = 10**r\n",
        "l2.sort()\n",
        "units = [32, 64, 128, 512]\n",
        "print(l2)\n",
        "formatted_l2 = [\"%.4f\"%item for item in l2]\n",
        "print(formatted_l2)"
      ],
      "execution_count": 0,
      "outputs": [
        {
          "output_type": "stream",
          "text": [
            "[0.00715207 0.01554927 0.02257145 0.02319265 0.05358406]\n",
            "['0.0072', '0.0155', '0.0226', '0.0232', '0.0536']\n"
          ],
          "name": "stdout"
        }
      ]
    },
    {
      "cell_type": "code",
      "metadata": {
        "id": "ege1LApnzHwU",
        "colab_type": "code",
        "outputId": "68e953e8-bda4-4141-8107-77d506d15069",
        "colab": {
          "base_uri": "https://localhost:8080/",
          "height": 323
        }
      },
      "source": [
        "# reopen the saved file\n",
        "ul2_acc_list=[]\n",
        "with open('ul2_acc_array_file.txt') as f:\n",
        "  for line in f:\n",
        "    ul2_acc_list.extend([float(i) for i in line.split()])\n",
        "    \n",
        "# visualization\n",
        "\n",
        "ul2_acc_array = np.array(ul2_acc_list)\n",
        "ul2_acc_array = ul2_acc_array.reshape(len(units), len(formatted_l2))\n",
        "\n",
        "plt.figure(figsize=(10, 10))\n",
        "plt.subplots_adjust(top=0.6, bottom=0.2, right=0.6, left=0.2)\n",
        "plt.imshow(ul2_acc_array, interpolation='nearest', cmap=plt.cm.hot)\n",
        "plt.xlabel('l2 regularization')\n",
        "plt.ylabel('units')\n",
        "plt.colorbar()\n",
        "plt.xticks(np.arange(len(formatted_l2)), formatted_l2, rotation=45)\n",
        "plt.yticks(np.arange(len(units)), units)\n",
        "plt.title('Parameter Search - l2 regularization & units')\n",
        "plt.show()"
      ],
      "execution_count": 0,
      "outputs": [
        {
          "output_type": "display_data",
          "data": {
            "image/png": "[encoded data removed]",
            "text/plain": [
              "<Figure size 720x720 with 2 Axes>"
            ]
          },
          "metadata": {
            "tags": []
          }
        }
      ]
    },
    {
      "cell_type": "markdown",
      "metadata": {
        "id": "yAlOeVR9RcME",
        "colab_type": "text"
      },
      "source": [
        "#### Tune Dropout Rate"
      ]
    },
    {
      "cell_type": "code",
      "metadata": {
        "id": "Aq9WCV34Rbef",
        "colab_type": "code",
        "colab": {}
      },
      "source": [
        "def stft_RNN_Model(dropout_rate=0.5):\n",
        "    np.random.seed(0)\n",
        "    tf.set_random_seed(1)\n",
        "    model = Sequential()    \n",
        "    model.add(LSTM(units = 128, return_sequences = False, kernel_regularizer=regularizers.l2(0.02)))    \n",
        "    model.add(Dropout(rate=dropout_rate, seed = 0))    \n",
        "    model.add(Dense(units = 4, activation = 'softmax'))\n",
        "    optimizer = optimizers.Adam(lr=0.05)\n",
        "    model.compile(loss='categorical_crossentropy', optimizer='Adam', metrics=['accuracy'])\t  \n",
        "    return model"
      ],
      "execution_count": 0,
      "outputs": []
    },
    {
      "cell_type": "code",
      "metadata": {
        "id": "HPlKm6MKR6tO",
        "colab_type": "code",
        "outputId": "f48002b4-e643-42bc-83e5-90508c0db5c6",
        "colab": {
          "base_uri": "https://localhost:8080/",
          "height": 34
        }
      },
      "source": [
        "# define the search parameters\n",
        "np.random.seed(0)\n",
        "dropout_rate_r = -1*np.random.rand(5)\n",
        "dropout_rate = 10**dropout_rate_r\n",
        "dropout_rate.sort()\n",
        "print(dropout_rate)"
      ],
      "execution_count": 0,
      "outputs": [
        {
          "output_type": "stream",
          "text": [
            "[0.19266846 0.24959543 0.28260933 0.28517852 0.37700334]\n"
          ],
          "name": "stdout"
        }
      ]
    },
    {
      "cell_type": "code",
      "metadata": {
        "id": "hBvmFC7iSU3e",
        "colab_type": "code",
        "outputId": "86bb4072-28d6-407a-d14a-8e4538a56df2",
        "colab": {
          "base_uri": "https://localhost:8080/",
          "height": 102
        }
      },
      "source": [
        "# for loop search\n",
        "rate_acc_list = []\n",
        "\n",
        "for rate_iter in dropout_rate:\n",
        "  model = stft_CRNN_Model(dropout_rate = rate_iter)    \n",
        "  model.fit(x = X_train_valid_0_transpose_reshape, y = y_train_onehot, \n",
        "                  epochs = 100, batch_size = 128, \n",
        "                  validation_split = 0.2, verbose = 0)\n",
        "  preds = model.evaluate(x = X_test_0_transpose_reshape,y = y_test_onehot)\n",
        "  rate_acc_list.append(preds[1])"
      ],
      "execution_count": 0,
      "outputs": [
        {
          "output_type": "stream",
          "text": [
            "450/450 [==============================] - 0s 853us/sample - loss: 1.9213 - acc: 0.5200\n",
            "450/450 [==============================] - 0s 682us/sample - loss: 1.8508 - acc: 0.5267\n",
            "450/450 [==============================] - 1s 1ms/sample - loss: 1.8643 - acc: 0.5489\n",
            "450/450 [==============================] - 0s 689us/sample - loss: 1.5105 - acc: 0.6222\n",
            "450/450 [==============================] - 0s 718us/sample - loss: 1.4329 - acc: 0.6222\n"
          ],
          "name": "stdout"
        }
      ]
    },
    {
      "cell_type": "code",
      "metadata": {
        "id": "OnGPpr77mQ3w",
        "colab_type": "code",
        "outputId": "d71a9228-095b-479f-e891-4fdd3e2040b7",
        "colab": {
          "base_uri": "https://localhost:8080/",
          "height": 34
        }
      },
      "source": [
        "print(rate_acc_list)"
      ],
      "execution_count": 0,
      "outputs": [
        {
          "output_type": "stream",
          "text": [
            "[0.52, 0.52666664, 0.54888886, 0.62222224, 0.62222224]\n"
          ],
          "name": "stdout"
        }
      ]
    },
    {
      "cell_type": "code",
      "metadata": {
        "id": "WOIErvreS6Ey",
        "colab_type": "code",
        "colab": {}
      },
      "source": [
        "# save to a file\n",
        "with open('rate_acc_array_file.txt','wb') as f:    \n",
        "      np.savetxt(f, rate_acc_list, fmt='%.2f')"
      ],
      "execution_count": 0,
      "outputs": []
    },
    {
      "cell_type": "code",
      "metadata": {
        "id": "QqEnrIW3SzIq",
        "colab_type": "code",
        "outputId": "9d95c574-5264-463d-9f27-d2c817e43659",
        "colab": {
          "base_uri": "https://localhost:8080/",
          "height": 311
        }
      },
      "source": [
        "# visulization\n",
        "from matplotlib.ticker import FormatStrFormatter\n",
        "%matplotlib inline\n",
        "\n",
        "fig, ax = plt.subplots()\n",
        "ax.xaxis.set_major_formatter(FormatStrFormatter('%.2f'))\n",
        "plt.plot(dropout_rate,rate_acc_list,'-o')\n",
        "plt.xlabel('dropout_rate')\n",
        "plt.ylabel('model accuracy')\n",
        "plt.title('Parameter Search - dropout_rate')\n",
        "\n"
      ],
      "execution_count": 0,
      "outputs": [
        {
          "output_type": "execute_result",
          "data": {
            "text/plain": [
              "Text(0.5, 1.0, 'Parameter Search - dropout_rate')"
            ]
          },
          "metadata": {
            "tags": []
          },
          "execution_count": 39
        },
        {
          "output_type": "display_data",
          "data": {
            "image/png": "[encoded data removed]",
            "text/plain": [
              "<Figure size 432x288 with 1 Axes>"
            ]
          },
          "metadata": {
            "tags": []
          }
        }
      ]
    },
    {
      "cell_type": "markdown",
      "metadata": {
        "id": "eM2KF219n5UQ",
        "colab_type": "text"
      },
      "source": [
        "#### Tune Optimizer"
      ]
    },
    {
      "cell_type": "code",
      "metadata": {
        "id": "N45fqjfyn410",
        "colab_type": "code",
        "colab": {}
      },
      "source": [
        "def stft_RNN_Model():\n",
        "    np.random.seed(0)\n",
        "    tf.set_random_seed(1)\n",
        "    model = Sequential()    \n",
        "    model.add(LSTM(units = 128, return_sequences = False, kernel_regularizer=regularizers.l2(0.02)))    \n",
        "    model.add(Dropout(rate=0.38, seed = 0))    \n",
        "    model.add(Dense(units = 4, activation = 'softmax'))\n",
        "    optimizer = optimizers.RMSprop(lr=0.05)\n",
        "    model.compile(loss='categorical_crossentropy', optimizer='RMSprop', metrics=['accuracy'])\t  \n",
        "    return model"
      ],
      "execution_count": 0,
      "outputs": []
    },
    {
      "cell_type": "code",
      "metadata": {
        "id": "-SOjg2GFoYqr",
        "colab_type": "code",
        "outputId": "20e36809-d5eb-4521-87ef-411510ecc012",
        "colab": {
          "base_uri": "https://localhost:8080/",
          "height": 34
        }
      },
      "source": [
        "model = stft_RNN_Model()    \n",
        "history = model.fit(x = X_train_valid_0_transpose_reshape, y = y_train_onehot, \n",
        "                epochs = 100, batch_size = 128, \n",
        "                validation_split = 0.2, verbose = 0)\n",
        "preds = model.evaluate(x = X_test_0_transpose_reshape,y = y_test_onehot)"
      ],
      "execution_count": 0,
      "outputs": [
        {
          "output_type": "stream",
          "text": [
            "450/450 [==============================] - 0s 712us/sample - loss: 1.2619 - acc: 0.4756\n"
          ],
          "name": "stdout"
        }
      ]
    },
    {
      "cell_type": "code",
      "metadata": {
        "id": "w9UVMWVoq53K",
        "colab_type": "code",
        "outputId": "b20b8103-117b-4e9c-8fad-221eadf5ca47",
        "colab": {
          "base_uri": "https://localhost:8080/",
          "height": 210
        }
      },
      "source": [
        "print(history.history.keys())  \n",
        "   \n",
        "plt.figure(1)  \n",
        "\n",
        "plt.subplot(211)  \n",
        "plt.plot(history.history['acc'])  \n",
        "plt.plot(history.history['val_acc'])  \n",
        "plt.title('model accuracy')  \n",
        "plt.ylabel('accuracy')  \n",
        "plt.xlabel('epoch')  \n",
        "plt.legend(['train_accuracy', 'validation_accuracy'], loc='upper left')"
      ],
      "execution_count": 0,
      "outputs": [
        {
          "output_type": "stream",
          "text": [
            "dict_keys(['loss', 'acc', 'val_loss', 'val_acc'])\n"
          ],
          "name": "stdout"
        },
        {
          "output_type": "execute_result",
          "data": {
            "text/plain": [
              "<matplotlib.legend.Legend at 0x7fcd9f1d4a90>"
            ]
          },
          "metadata": {
            "tags": []
          },
          "execution_count": 44
        },
        {
          "output_type": "display_data",
          "data": {
            "image/png": "[encoded data removed]",
            "text/plain": [
              "<Figure size 432x288 with 1 Axes>"
            ]
          },
          "metadata": {
            "tags": []
          }
        }
      ]
    },
    {
      "cell_type": "code",
      "metadata": {
        "id": "KVHYnoLarIqu",
        "colab_type": "code",
        "outputId": "a6da7d27-6b27-478b-86d5-81ca287c2d46",
        "colab": {
          "base_uri": "https://localhost:8080/",
          "height": 193
        }
      },
      "source": [
        "plt.figure(1)  \n",
        "\n",
        "# summarize history for accuracy  \n",
        "\n",
        "plt.subplot(211)  \n",
        "plt.plot(history.history['loss'])  \n",
        "plt.plot(history.history['val_loss'])  \n",
        "plt.title('model loss - learning curve')  \n",
        "plt.ylabel('loss')  \n",
        "plt.xlabel('epoch')  \n",
        "plt.legend(['train_loss', 'validation_loss'], loc='upper left')  "
      ],
      "execution_count": 0,
      "outputs": [
        {
          "output_type": "execute_result",
          "data": {
            "text/plain": [
              "<matplotlib.legend.Legend at 0x7fcd9f14dfd0>"
            ]
          },
          "metadata": {
            "tags": []
          },
          "execution_count": 45
        },
        {
          "output_type": "display_data",
          "data": {
            "image/png": "[encoded data removed]",
            "text/plain": [
              "<Figure size 432x288 with 1 Axes>"
            ]
          },
          "metadata": {
            "tags": []
          }
        }
      ]
    },
    {
      "cell_type": "markdown",
      "metadata": {
        "id": "mrQA6RYEorjr",
        "colab_type": "text"
      },
      "source": [
        "#### Tune Struction - Add LSTM Layer"
      ]
    },
    {
      "cell_type": "code",
      "metadata": {
        "id": "fFRxlvmAoosr",
        "colab_type": "code",
        "colab": {}
      },
      "source": [
        "def stft_RNN_Model():\n",
        "    np.random.seed(0)\n",
        "    tf.set_random_seed(1)\n",
        "    model = Sequential()    \n",
        "    model.add(LSTM(units = 128, return_sequences = True, kernel_regularizer=regularizers.l2(0.02)))\n",
        "    model.add(LSTM(units = 128, return_sequences = False, kernel_regularizer=regularizers.l2(0.02)))\n",
        "    model.add(Dropout(rate=0.38, seed = 0))    \n",
        "    model.add(Dense(units = 4, activation = 'softmax'))\n",
        "    optimizer = optimizers.Adam(lr=0.05)\n",
        "    model.compile(loss='categorical_crossentropy', optimizer='Adam', metrics=['accuracy'])\t  \n",
        "    return model"
      ],
      "execution_count": 0,
      "outputs": []
    },
    {
      "cell_type": "code",
      "metadata": {
        "id": "cZ0UUZrDpuLo",
        "colab_type": "code",
        "outputId": "bccacaba-9dc8-46bc-f5fa-44c7398725ce",
        "colab": {
          "base_uri": "https://localhost:8080/",
          "height": 34
        }
      },
      "source": [
        "model = stft_RNN_Model()    \n",
        "history_addLayer = model.fit(x = X_train_valid_0_transpose_reshape, y = y_train_onehot, \n",
        "                epochs = 100, batch_size = 128, \n",
        "                validation_split = 0.2, verbose = 0)\n",
        "preds = model.evaluate(x = X_test_0_transpose_reshape,y = y_test_onehot)"
      ],
      "execution_count": 0,
      "outputs": [
        {
          "output_type": "stream",
          "text": [
            "450/450 [==============================] - 1s 1ms/sample - loss: 2.0389 - acc: 0.5200\n"
          ],
          "name": "stdout"
        }
      ]
    },
    {
      "cell_type": "code",
      "metadata": {
        "id": "phf4WE8Kp7RV",
        "colab_type": "code",
        "outputId": "0100f517-bdca-47e7-ddd8-355908047289",
        "colab": {
          "base_uri": "https://localhost:8080/",
          "height": 210
        }
      },
      "source": [
        "print(history_addLayer.history.keys())  \n",
        "   \n",
        "plt.figure(1)  \n",
        "\n",
        "plt.subplot(211)  \n",
        "plt.plot(history_addLayer.history['acc'])  \n",
        "plt.plot(history_addLayer.history['val_acc'])  \n",
        "plt.title('model accuracy')  \n",
        "plt.ylabel('accuracy')  \n",
        "plt.xlabel('epoch')  \n",
        "plt.legend(['train_accuracy', 'validation_accuracy'], loc='upper left')"
      ],
      "execution_count": 0,
      "outputs": [
        {
          "output_type": "stream",
          "text": [
            "dict_keys(['loss', 'acc', 'val_loss', 'val_acc'])\n"
          ],
          "name": "stdout"
        },
        {
          "output_type": "execute_result",
          "data": {
            "text/plain": [
              "<matplotlib.legend.Legend at 0x7fcd9f11f8d0>"
            ]
          },
          "metadata": {
            "tags": []
          },
          "execution_count": 46
        },
        {
          "output_type": "display_data",
          "data": {
            "image/png": "[encoded data removed]",
            "text/plain": [
              "<Figure size 432x288 with 1 Axes>"
            ]
          },
          "metadata": {
            "tags": []
          }
        }
      ]
    },
    {
      "cell_type": "code",
      "metadata": {
        "id": "BG0MZMcbrTxy",
        "colab_type": "code",
        "outputId": "564dd627-9920-483f-b3f2-b676a39cbfde",
        "colab": {
          "base_uri": "https://localhost:8080/",
          "height": 193
        }
      },
      "source": [
        "plt.figure(1)  \n",
        "\n",
        "# summarize history for accuracy  \n",
        "\n",
        "plt.subplot(211)  \n",
        "plt.plot(history_addLayer.history['loss'])  \n",
        "plt.plot(history_addLayer.history['val_loss'])  \n",
        "plt.title('model loss - learning curve')  \n",
        "plt.ylabel('loss')  \n",
        "plt.xlabel('epoch')  \n",
        "plt.legend(['train_loss', 'validation_loss'], loc='upper left')"
      ],
      "execution_count": 0,
      "outputs": [
        {
          "output_type": "execute_result",
          "data": {
            "text/plain": [
              "<matplotlib.legend.Legend at 0x7fcd9f081b70>"
            ]
          },
          "metadata": {
            "tags": []
          },
          "execution_count": 47
        },
        {
          "output_type": "display_data",
          "data": {
            "image/png": "[encoded data removed]",
            "text/plain": [
              "<Figure size 432x288 with 1 Axes>"
            ]
          },
          "metadata": {
            "tags": []
          }
        }
      ]
    },
    {
      "cell_type": "markdown",
      "metadata": {
        "id": "humTyMVrrkIY",
        "colab_type": "text"
      },
      "source": [
        "### Optimized Naive RNN Learning Curve"
      ]
    },
    {
      "cell_type": "code",
      "metadata": {
        "id": "edKFrc01rcfb",
        "colab_type": "code",
        "colab": {}
      },
      "source": [
        "def stft_RNN_Model():\n",
        "    np.random.seed(0)\n",
        "    tf.set_random_seed(1)\n",
        "    model = Sequential()    \n",
        "    model.add(LSTM(units = 128, return_sequences = False, kernel_regularizer=regularizers.l2(0.02)))    \n",
        "    model.add(Dropout(rate=0.38, seed = 0))    \n",
        "    model.add(Dense(units = 4, activation = 'softmax'))\n",
        "    optimizer = optimizers.Adam(lr=0.05)\n",
        "    model.compile(loss='categorical_crossentropy', optimizer='Adam', metrics=['accuracy'])\t  \n",
        "    return model"
      ],
      "execution_count": 0,
      "outputs": []
    },
    {
      "cell_type": "code",
      "metadata": {
        "id": "2aGBo3Sarv4o",
        "colab_type": "code",
        "outputId": "822d65ef-8e5a-4ad8-b40f-aacd7e81570d",
        "colab": {
          "base_uri": "https://localhost:8080/",
          "height": 34
        }
      },
      "source": [
        "model = stft_RNN_Model()    \n",
        "history_optimize = model.fit(x = X_train_valid_0_transpose_reshape, y = y_train_onehot, \n",
        "                epochs = 100, batch_size = 128, \n",
        "                validation_split = 0.2, verbose = 0)\n",
        "preds = model.evaluate(x = X_test_0_transpose_reshape,y = y_test_onehot)"
      ],
      "execution_count": 0,
      "outputs": [
        {
          "output_type": "stream",
          "text": [
            "450/450 [==============================] - 0s 720us/sample - loss: 1.6624 - acc: 0.5911\n"
          ],
          "name": "stdout"
        }
      ]
    },
    {
      "cell_type": "code",
      "metadata": {
        "id": "Ol_udTjVr3h5",
        "colab_type": "code",
        "outputId": "ac256f4b-4564-4fb2-fdb1-2aa4171c6aa2",
        "colab": {
          "base_uri": "https://localhost:8080/",
          "height": 210
        }
      },
      "source": [
        "print(history_optimize.history.keys())  \n",
        "   \n",
        "plt.figure(1)  \n",
        "\n",
        "plt.subplot(211)  \n",
        "plt.plot(history_optimize.history['acc'])  \n",
        "plt.plot(history_optimize.history['val_acc'])  \n",
        "plt.title('optimized model accuracy')  \n",
        "plt.ylabel('accuracy')  \n",
        "plt.xlabel('epoch')  \n",
        "plt.legend(['train_accuracy', 'validation_accuracy'], loc='upper left')"
      ],
      "execution_count": 0,
      "outputs": [
        {
          "output_type": "stream",
          "text": [
            "dict_keys(['loss', 'acc', 'val_loss', 'val_acc'])\n"
          ],
          "name": "stdout"
        },
        {
          "output_type": "execute_result",
          "data": {
            "text/plain": [
              "<matplotlib.legend.Legend at 0x7fcd9e0ad898>"
            ]
          },
          "metadata": {
            "tags": []
          },
          "execution_count": 50
        },
        {
          "output_type": "display_data",
          "data": {
            "image/png": "[encoded data removed]",
            "text/plain": [
              "<Figure size 432x288 with 1 Axes>"
            ]
          },
          "metadata": {
            "tags": []
          }
        }
      ]
    },
    {
      "cell_type": "code",
      "metadata": {
        "id": "Zl1fnZaSr77W",
        "colab_type": "code",
        "outputId": "714477bb-7e3e-4168-8338-5a6746755be0",
        "colab": {
          "base_uri": "https://localhost:8080/",
          "height": 193
        }
      },
      "source": [
        "plt.figure(1)  \n",
        "\n",
        "# summarize history for accuracy  \n",
        "\n",
        "plt.subplot(211)  \n",
        "plt.plot(history_optimize.history['loss'])  \n",
        "plt.plot(history_optimize.history['val_loss'])  \n",
        "plt.title('optimized model loss - learning curve')  \n",
        "plt.ylabel('loss')  \n",
        "plt.xlabel('epoch')  \n",
        "plt.legend(['train_loss', 'validation_loss'], loc='upper left')"
      ],
      "execution_count": 0,
      "outputs": [
        {
          "output_type": "execute_result",
          "data": {
            "text/plain": [
              "<matplotlib.legend.Legend at 0x7fcd9e00cb38>"
            ]
          },
          "metadata": {
            "tags": []
          },
          "execution_count": 51
        },
        {
          "output_type": "display_data",
          "data": {
            "image/png": "[encoded data removed]",
            "text/plain": [
              "<Figure size 432x288 with 1 Axes>"
            ]
          },
          "metadata": {
            "tags": []
          }
        }
      ]
    },
    {
      "cell_type": "markdown",
      "metadata": {
        "id": "96cWBiKA5Xy1",
        "colab_type": "text"
      },
      "source": [
        "\n",
        "\n",
        "*   Cropping is a data augmentation method to increase sample number, the data is cropped and stacked together to form a larger dataset, and each sliding window for the cropping have overlapping with each other so as to keep the data related and dependent\n",
        "*   STFT obtains the frequency of the time series data, adding more features to the dataset, the frequency of the STFT data is cropped so as to reduce the noise\n",
        "*   LSTM use forgetting gate, writing gate and reading gate to \"memorize\" the previous state, the data needs to have the dimension of (#sample, time_seq, n_feature) to feed into the Keras LSTM layer,  so as to make good use of LSTM\n",
        "*   Batch size near the number of training sample performs better\n",
        "*   Simpler structure with less layers could reduce overfitting, because each LSTM layer has a lot of parameters due to the forgetting gate, writing gate and reading gate in each LSTM cell\n",
        "*   Add L2 regularization to reduce overfitting\n",
        "*   From the learning curve we could determine the approximate range for the learning rate (1) if the loss increase with epoch, the learning rate is too large (2) if the accuracy and the validation are similar but they both keep increasing, the learning rate is too small \n",
        "*   The activation function of the LSTM layer does not need to be tuned, the sigmoid function is used for the recurrent activation because the the gate value is between 0 and 1,  the tanh function is used for the activation because the derivative of it is larger than sigmoid so the weight could have larger update to learn faster, also tanh function could solve the vanishing gradient for its derivative is not zero"
      ]
    },
    {
      "cell_type": "code",
      "metadata": {
        "id": "fUmGLGt5sLx6",
        "colab_type": "code",
        "colab": {}
      },
      "source": [
        ""
      ],
      "execution_count": 0,
      "outputs": []
    }
  ]
}